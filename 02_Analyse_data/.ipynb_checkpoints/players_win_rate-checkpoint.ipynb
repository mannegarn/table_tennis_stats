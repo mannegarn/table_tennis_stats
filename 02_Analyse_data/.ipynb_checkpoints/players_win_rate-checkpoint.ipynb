{
 "cells": [
  {
   "cell_type": "code",
   "execution_count": 125,
   "id": "b4180f83-8921-4158-9c24-f13b0ee82ab7",
   "metadata": {},
   "outputs": [],
   "source": [
    "import os \n",
    "import json\n",
    "import glob \n",
    "import pandas as pd\n",
    "from datetime import datetime, timezone, date\n",
    "import requests\n",
    "from IPython.display import clear_output\n",
    "import random \n",
    "import time \n",
    "import numpy as np\n",
    "import numpy as np\n",
    "import matplotlib as plt"
   ]
  },
  {
   "cell_type": "code",
   "execution_count": 126,
   "id": "5ac2a9e5-dda3-47e1-a95b-2f48fb578cd5",
   "metadata": {},
   "outputs": [],
   "source": [
    "#  For now, the smash events matches are the only ones on the list :) So I will be using this file for master events from the date it was made\n",
    "\n",
    "smash_matches_file  = \"../Obtain_data/Data/Processed/20251008_master_match_list.csv\"\n",
    "smash_matches_df = pd.read_csv(smash_matches_file)\n",
    "\n",
    "players_file = \"../Obtain_data/Data/Processed/Players/20251008_players.csv\"\n",
    "players_df = pd.read_csv(players_file)"
   ]
  },
  {
   "cell_type": "code",
   "execution_count": 127,
   "id": "dca3e79f-4180-497e-bf5e-fbe6d8cd29a0",
   "metadata": {},
   "outputs": [
    {
     "name": "stdout",
     "output_type": "stream",
     "text": [
      "--- 🟢 Commencing Win Rate Calculation 🟢---\n",
      "--- 🟢 Finished Win Rate Calculation 🟢---\n"
     ]
    }
   ],
   "source": [
    "if 'IttfId' not in players_df.columns:\n",
    "    print(\"Error: 'IttfId' column not found in players_df. Please check your CSV file.\")\n",
    "\n",
    "\n",
    "\n",
    "Smash_win_rates = []\n",
    "\n",
    "\n",
    "player_ids_to_process = players_df[\"IttfId\"].tolist()\n",
    "\n",
    "print(\"--- 🟢 Commencing Win Rate Calculation 🟢---\")\n",
    "\n",
    "for player_id in player_ids_to_process:\n",
    "\n",
    "    # 1. Filter for all matches the player was involved in (as Player A OR Player B)\n",
    "    mask_matches = (smash_matches_df['PlayerA_ID'] == player_id) | (smash_matches_df['PlayerB_ID'] == player_id)\n",
    "    player_matches_df = smash_matches_df[mask_matches]\n",
    "\n",
    "    # 2. Filter the matches played to find only the wins\n",
    "    player_wins_df = player_matches_df[player_matches_df['WinnerID'] == player_id]\n",
    "\n",
    "    # 3. Calculate metrics\n",
    "    total_matches = len(player_matches_df)\n",
    "    wins = len(player_wins_df)\n",
    "    losses = total_matches - wins\n",
    "\n",
    "    # Calculate win rate, handling the case of 0 matches to avoid division by zero\n",
    "    win_rate = (wins / total_matches) * 100 if total_matches > 0 else 0\n",
    "\n",
    "    # 4. Get the player's name as a single string\n",
    "    try:\n",
    "        player_name = players_df[players_df['IttfId'] == player_id]['PlayerName'].iloc[0]\n",
    "    except IndexError:\n",
    "        player_name = f\"ID {player_id} Not Found\"\n",
    "\n",
    "\n",
    "    is_player_A = player_matches_df['PlayerA_ID'] == player_id\n",
    "    points_won_series = np.where(\n",
    "        is_player_A,\n",
    "        player_matches_df['PlayerA_TotalPoints'],\n",
    "        player_matches_df['PlayerB_TotalPoints']\n",
    "    )\n",
    "\n",
    "    points_lost_series = np.where(\n",
    "        is_player_A,\n",
    "        player_matches_df['PlayerB_TotalPoints'],\n",
    "        player_matches_df['PlayerA_TotalPoints']\n",
    "    )\n",
    "\n",
    "    total_points_won = points_won_series.sum()\n",
    "    total_points_lost = points_lost_series.sum()\n",
    "    total_points_played = total_points_won + total_points_lost\n",
    "\n",
    "    points_win_rate = (total_points_won / total_points_played) * 100 if total_points_played > 0 else 0\n",
    "\n",
    "\n",
    "    \n",
    "\n",
    "\n",
    "    # 5. Populate and append the dictionary\n",
    "    wins_dict = {\n",
    "        \"Name\": player_name,\n",
    "        \"PlayerID\": player_id,\n",
    "        \"Wins\": wins,\n",
    "        \"Losses\": losses,\n",
    "        \"Total Matches\": total_matches,\n",
    "        \"Win %\": round(win_rate, 1),\n",
    "        \"Total Points Won\": int(total_points_won),\n",
    "        \"Total Points Lost\": int(total_points_lost),\n",
    "        \"Total Points Played\": int(total_points_played),\n",
    "        \"Points Win %\": round(points_win_rate, 2)\n",
    "    }\n",
    "\n",
    "    Smash_win_rates.append(wins_dict)\n",
    "\n",
    "  \n",
    "print(\"--- 🟢 Finished Win Rate Calculation 🟢---\")\n",
    "\n",
    "win_rate_df = pd.DataFrame(Smash_win_rates)\n",
    "\n"
   ]
  },
  {
   "cell_type": "code",
   "execution_count": 129,
   "id": "2d846d10-94de-4388-9d93-b3912e71c1c2",
   "metadata": {},
   "outputs": [
    {
     "data": {
      "text/html": [
       "<div>\n",
       "<style scoped>\n",
       "    .dataframe tbody tr th:only-of-type {\n",
       "        vertical-align: middle;\n",
       "    }\n",
       "\n",
       "    .dataframe tbody tr th {\n",
       "        vertical-align: top;\n",
       "    }\n",
       "\n",
       "    .dataframe thead th {\n",
       "        text-align: right;\n",
       "    }\n",
       "</style>\n",
       "<table border=\"1\" class=\"dataframe\">\n",
       "  <thead>\n",
       "    <tr style=\"text-align: right;\">\n",
       "      <th></th>\n",
       "      <th>Name</th>\n",
       "      <th>PlayerID</th>\n",
       "      <th>Wins</th>\n",
       "      <th>Losses</th>\n",
       "      <th>Total Matches</th>\n",
       "      <th>Win %</th>\n",
       "      <th>Total Points Won</th>\n",
       "      <th>Total Points Lost</th>\n",
       "      <th>Total Points Played</th>\n",
       "      <th>Points Win %</th>\n",
       "    </tr>\n",
       "  </thead>\n",
       "  <tbody>\n",
       "    <tr>\n",
       "      <th>312</th>\n",
       "      <td>SUN Yingsha</td>\n",
       "      <td>131163</td>\n",
       "      <td>43</td>\n",
       "      <td>5</td>\n",
       "      <td>48</td>\n",
       "      <td>89.6</td>\n",
       "      <td>2092</td>\n",
       "      <td>1468</td>\n",
       "      <td>3560</td>\n",
       "      <td>58.76</td>\n",
       "    </tr>\n",
       "    <tr>\n",
       "      <th>253</th>\n",
       "      <td>WANG Chuqin</td>\n",
       "      <td>121558</td>\n",
       "      <td>35</td>\n",
       "      <td>4</td>\n",
       "      <td>39</td>\n",
       "      <td>89.7</td>\n",
       "      <td>1701</td>\n",
       "      <td>1271</td>\n",
       "      <td>2972</td>\n",
       "      <td>57.23</td>\n",
       "    </tr>\n",
       "    <tr>\n",
       "      <th>191</th>\n",
       "      <td>ZHU Yuling</td>\n",
       "      <td>117332</td>\n",
       "      <td>17</td>\n",
       "      <td>3</td>\n",
       "      <td>20</td>\n",
       "      <td>85.0</td>\n",
       "      <td>813</td>\n",
       "      <td>621</td>\n",
       "      <td>1434</td>\n",
       "      <td>56.69</td>\n",
       "    </tr>\n",
       "    <tr>\n",
       "      <th>96</th>\n",
       "      <td>CHEN Meng</td>\n",
       "      <td>112019</td>\n",
       "      <td>17</td>\n",
       "      <td>2</td>\n",
       "      <td>19</td>\n",
       "      <td>89.5</td>\n",
       "      <td>835</td>\n",
       "      <td>640</td>\n",
       "      <td>1475</td>\n",
       "      <td>56.61</td>\n",
       "    </tr>\n",
       "    <tr>\n",
       "      <th>249</th>\n",
       "      <td>WANG Manyu</td>\n",
       "      <td>121411</td>\n",
       "      <td>36</td>\n",
       "      <td>7</td>\n",
       "      <td>43</td>\n",
       "      <td>83.7</td>\n",
       "      <td>1824</td>\n",
       "      <td>1403</td>\n",
       "      <td>3227</td>\n",
       "      <td>56.52</td>\n",
       "    </tr>\n",
       "    <tr>\n",
       "      <th>40</th>\n",
       "      <td>MA Long</td>\n",
       "      <td>105649</td>\n",
       "      <td>17</td>\n",
       "      <td>5</td>\n",
       "      <td>22</td>\n",
       "      <td>77.3</td>\n",
       "      <td>917</td>\n",
       "      <td>720</td>\n",
       "      <td>1637</td>\n",
       "      <td>56.02</td>\n",
       "    </tr>\n",
       "    <tr>\n",
       "      <th>248</th>\n",
       "      <td>FAN Zhendong</td>\n",
       "      <td>121404</td>\n",
       "      <td>15</td>\n",
       "      <td>2</td>\n",
       "      <td>17</td>\n",
       "      <td>88.2</td>\n",
       "      <td>731</td>\n",
       "      <td>578</td>\n",
       "      <td>1309</td>\n",
       "      <td>55.84</td>\n",
       "    </tr>\n",
       "    <tr>\n",
       "      <th>357</th>\n",
       "      <td>Satsuki ODO</td>\n",
       "      <td>133405</td>\n",
       "      <td>9</td>\n",
       "      <td>4</td>\n",
       "      <td>13</td>\n",
       "      <td>69.2</td>\n",
       "      <td>436</td>\n",
       "      <td>345</td>\n",
       "      <td>781</td>\n",
       "      <td>55.83</td>\n",
       "    </tr>\n",
       "    <tr>\n",
       "      <th>350</th>\n",
       "      <td>Honoka HASHIMOTO</td>\n",
       "      <td>133000</td>\n",
       "      <td>8</td>\n",
       "      <td>3</td>\n",
       "      <td>11</td>\n",
       "      <td>72.7</td>\n",
       "      <td>418</td>\n",
       "      <td>331</td>\n",
       "      <td>749</td>\n",
       "      <td>55.81</td>\n",
       "    </tr>\n",
       "    <tr>\n",
       "      <th>426</th>\n",
       "      <td>LIN Shidong</td>\n",
       "      <td>137237</td>\n",
       "      <td>33</td>\n",
       "      <td>7</td>\n",
       "      <td>40</td>\n",
       "      <td>82.5</td>\n",
       "      <td>1792</td>\n",
       "      <td>1428</td>\n",
       "      <td>3220</td>\n",
       "      <td>55.65</td>\n",
       "    </tr>\n",
       "    <tr>\n",
       "      <th>247</th>\n",
       "      <td>CHEN Xingtong</td>\n",
       "      <td>121403</td>\n",
       "      <td>25</td>\n",
       "      <td>9</td>\n",
       "      <td>34</td>\n",
       "      <td>73.5</td>\n",
       "      <td>1346</td>\n",
       "      <td>1090</td>\n",
       "      <td>2436</td>\n",
       "      <td>55.25</td>\n",
       "    </tr>\n",
       "    <tr>\n",
       "      <th>394</th>\n",
       "      <td>KUAI Man</td>\n",
       "      <td>135049</td>\n",
       "      <td>18</td>\n",
       "      <td>6</td>\n",
       "      <td>24</td>\n",
       "      <td>75.0</td>\n",
       "      <td>942</td>\n",
       "      <td>789</td>\n",
       "      <td>1731</td>\n",
       "      <td>54.42</td>\n",
       "    </tr>\n",
       "    <tr>\n",
       "      <th>300</th>\n",
       "      <td>WANG Yidi</td>\n",
       "      <td>124110</td>\n",
       "      <td>25</td>\n",
       "      <td>9</td>\n",
       "      <td>34</td>\n",
       "      <td>73.5</td>\n",
       "      <td>1394</td>\n",
       "      <td>1172</td>\n",
       "      <td>2566</td>\n",
       "      <td>54.33</td>\n",
       "    </tr>\n",
       "    <tr>\n",
       "      <th>290</th>\n",
       "      <td>Hina HAYATA</td>\n",
       "      <td>123672</td>\n",
       "      <td>18</td>\n",
       "      <td>8</td>\n",
       "      <td>26</td>\n",
       "      <td>69.2</td>\n",
       "      <td>970</td>\n",
       "      <td>819</td>\n",
       "      <td>1789</td>\n",
       "      <td>54.22</td>\n",
       "    </tr>\n",
       "    <tr>\n",
       "      <th>172</th>\n",
       "      <td>Can AKKUZU</td>\n",
       "      <td>116612</td>\n",
       "      <td>8</td>\n",
       "      <td>3</td>\n",
       "      <td>11</td>\n",
       "      <td>72.7</td>\n",
       "      <td>422</td>\n",
       "      <td>357</td>\n",
       "      <td>779</td>\n",
       "      <td>54.17</td>\n",
       "    </tr>\n",
       "    <tr>\n",
       "      <th>200</th>\n",
       "      <td>Mima ITO</td>\n",
       "      <td>117821</td>\n",
       "      <td>23</td>\n",
       "      <td>9</td>\n",
       "      <td>32</td>\n",
       "      <td>71.9</td>\n",
       "      <td>1281</td>\n",
       "      <td>1086</td>\n",
       "      <td>2367</td>\n",
       "      <td>54.12</td>\n",
       "    </tr>\n",
       "    <tr>\n",
       "      <th>413</th>\n",
       "      <td>Felix LEBRUN</td>\n",
       "      <td>135977</td>\n",
       "      <td>24</td>\n",
       "      <td>8</td>\n",
       "      <td>32</td>\n",
       "      <td>75.0</td>\n",
       "      <td>1373</td>\n",
       "      <td>1169</td>\n",
       "      <td>2542</td>\n",
       "      <td>54.01</td>\n",
       "    </tr>\n",
       "    <tr>\n",
       "      <th>280</th>\n",
       "      <td>SHI Xunyao</td>\n",
       "      <td>123120</td>\n",
       "      <td>6</td>\n",
       "      <td>4</td>\n",
       "      <td>10</td>\n",
       "      <td>60.0</td>\n",
       "      <td>347</td>\n",
       "      <td>299</td>\n",
       "      <td>646</td>\n",
       "      <td>53.72</td>\n",
       "    </tr>\n",
       "    <tr>\n",
       "      <th>216</th>\n",
       "      <td>FAN Siqi</td>\n",
       "      <td>119529</td>\n",
       "      <td>8</td>\n",
       "      <td>2</td>\n",
       "      <td>10</td>\n",
       "      <td>80.0</td>\n",
       "      <td>373</td>\n",
       "      <td>322</td>\n",
       "      <td>695</td>\n",
       "      <td>53.67</td>\n",
       "    </tr>\n",
       "    <tr>\n",
       "      <th>20</th>\n",
       "      <td>Fu YU</td>\n",
       "      <td>102863</td>\n",
       "      <td>14</td>\n",
       "      <td>9</td>\n",
       "      <td>23</td>\n",
       "      <td>60.9</td>\n",
       "      <td>819</td>\n",
       "      <td>709</td>\n",
       "      <td>1528</td>\n",
       "      <td>53.60</td>\n",
       "    </tr>\n",
       "  </tbody>\n",
       "</table>\n",
       "</div>"
      ],
      "text/plain": [
       "                 Name  PlayerID  Wins  Losses  Total Matches  Win %  \\\n",
       "312       SUN Yingsha    131163    43       5             48   89.6   \n",
       "253       WANG Chuqin    121558    35       4             39   89.7   \n",
       "191        ZHU Yuling    117332    17       3             20   85.0   \n",
       "96          CHEN Meng    112019    17       2             19   89.5   \n",
       "249        WANG Manyu    121411    36       7             43   83.7   \n",
       "40            MA Long    105649    17       5             22   77.3   \n",
       "248      FAN Zhendong    121404    15       2             17   88.2   \n",
       "357       Satsuki ODO    133405     9       4             13   69.2   \n",
       "350  Honoka HASHIMOTO    133000     8       3             11   72.7   \n",
       "426       LIN Shidong    137237    33       7             40   82.5   \n",
       "247     CHEN Xingtong    121403    25       9             34   73.5   \n",
       "394          KUAI Man    135049    18       6             24   75.0   \n",
       "300         WANG Yidi    124110    25       9             34   73.5   \n",
       "290       Hina HAYATA    123672    18       8             26   69.2   \n",
       "172        Can AKKUZU    116612     8       3             11   72.7   \n",
       "200          Mima ITO    117821    23       9             32   71.9   \n",
       "413      Felix LEBRUN    135977    24       8             32   75.0   \n",
       "280        SHI Xunyao    123120     6       4             10   60.0   \n",
       "216          FAN Siqi    119529     8       2             10   80.0   \n",
       "20              Fu YU    102863    14       9             23   60.9   \n",
       "\n",
       "     Total Points Won  Total Points Lost  Total Points Played  Points Win %  \n",
       "312              2092               1468                 3560         58.76  \n",
       "253              1701               1271                 2972         57.23  \n",
       "191               813                621                 1434         56.69  \n",
       "96                835                640                 1475         56.61  \n",
       "249              1824               1403                 3227         56.52  \n",
       "40                917                720                 1637         56.02  \n",
       "248               731                578                 1309         55.84  \n",
       "357               436                345                  781         55.83  \n",
       "350               418                331                  749         55.81  \n",
       "426              1792               1428                 3220         55.65  \n",
       "247              1346               1090                 2436         55.25  \n",
       "394               942                789                 1731         54.42  \n",
       "300              1394               1172                 2566         54.33  \n",
       "290               970                819                 1789         54.22  \n",
       "172               422                357                  779         54.17  \n",
       "200              1281               1086                 2367         54.12  \n",
       "413              1373               1169                 2542         54.01  \n",
       "280               347                299                  646         53.72  \n",
       "216               373                322                  695         53.67  \n",
       "20                819                709                 1528         53.60  "
      ]
     },
     "execution_count": 129,
     "metadata": {},
     "output_type": "execute_result"
    }
   ],
   "source": [
    "min_10_df = win_rate_df[win_rate_df[\"Total Matches\"] >= 10]\n",
    "min_10_df.sort_values(by = \"Points Win %\", ascending=False).head(20)"
   ]
  },
  {
   "cell_type": "code",
   "execution_count": 131,
   "id": "6d04f951-141b-4adb-82b8-98a2b63ef800",
   "metadata": {},
   "outputs": [
    {
     "data": {
      "application/vnd.plotly.v1+json": {
       "config": {
        "plotlyServerURL": "https://plot.ly"
       },
       "data": [
        {
         "hovertemplate": "<b>%{hovertext}</b><br><br>Points Win %=%{x}<br>Win %=%{y}<extra></extra>",
         "hovertext": [
          "Tiago APOLONIA",
          "Omar ASSAR",
          "Barbora VARADY",
          "Mohamed ELBEIALI",
          "Patrick FRANZISKA",
          "Fu YU",
          "Andrej GACINA",
          "Robert GARDOS",
          "Sathiyan GNANASEKARAN",
          "Daniel HABESOHN",
          "HUANG Yi-Hua",
          "Ovidiu IONESCU",
          "Lubomir JANCARIK",
          "Sharath Kamal ACHANTA",
          "Kristian KARLSSON",
          "LEE Ho Ching",
          "LEE Sang Su",
          "MA Long",
          "Marcos MADRID",
          "Ivana MALOBABIC",
          "Hana MATELOVA",
          "Alberto MINO",
          "Cedric NUYTINCK",
          "Dimitrij OVTCHAROV",
          "Margaryta PESOTSKA",
          "Lubomir PISTEJ",
          "Sofia POLCANOVA",
          "Georgina POTA",
          "Elizabeta SAMARA",
          "SUH Hyo Won",
          "Niagol STOYANOV",
          "Andrea TODOROVIC",
          "Ricardo WALTHER",
          "Mo ZHANG",
          "Noshad ALAMIYAN",
          "Benedek OLAH",
          "CHENG I-Ching",
          "Debora VIVARELLI",
          "Bernadette SZOCS",
          "Alvaro ROBLES",
          "Sabine WINTER",
          "Maria XIAO",
          "Rachel MORET",
          "Harmeet DESAI",
          "Suthasini SAWETTABUT",
          "Xiaona SHAN",
          "CHEN Meng",
          "Simon GAUZY",
          "Mattias FALCK",
          "Quadri ARUNA",
          "Lily ZHANG",
          "Sarah DE NUTTE",
          "Jonathan GROTH",
          "Liam PITCHFORD",
          "Mateja JEGER",
          "WONG Chun Ting",
          "Yang WANG",
          "Xiaoxin YANG",
          "Sibel ALTINKAYA",
          "LIU Hsing-Yin",
          "Mehdi BOULOUSSA",
          "Britt EERLAND",
          "Yousra HELMY",
          "Lea RAKOVAC",
          "CHEN Szu-Yu",
          "Dang QIU",
          "Nina MITTELHAM",
          "Martin ALLEGRO",
          "Linda BERGSTROM",
          "JANG Woojin",
          "Adriana DIAZ",
          "Anders LIND",
          "Joao GERALDO",
          "Sofia-Xuan ZHANG",
          "Giorgia PICCOLIN",
          "Natalia BAJOR",
          "DOO Hoi Kem",
          "LAM Siu Hang",
          "Hugo CALDERANO",
          "LIN Gaoyuan",
          "Manika BATRA",
          "Kanak JHA",
          "LAM Yee Lok",
          "Tomislav PUCAR",
          "Can AKKUZU",
          "Benedikt DUDA",
          "Filip ZELJKO",
          "Anton KALLBERG",
          "Audrey ZARIF",
          "Maharu YOSHIMURA",
          "Vitor ISHIY",
          "ZHU Yuling",
          "LIM Jonghoon",
          "Sutirtha MUKHERJEE",
          "Adina DIACONU",
          "Miu HIRANO",
          "Mima ITO",
          "Kirill GERASSIMENKO",
          "Christina KALLBERG",
          "Ying HAN",
          "Yuan WAN",
          "Deni KOZUL",
          "Darko JORGIC",
          "JEON Jihee",
          "LEE Zion",
          "Horacio CIFUENTES",
          "FAN Siqi",
          "Ayhika MUKHERJEE",
          "LIAO Cheng-Ting",
          "LIANG Jingkun",
          "HE Zhuojia",
          "QIAN Tianyi",
          "Luka MLADENOVIC",
          "Filippa BERGAND",
          "Izabela LUPULESKU",
          "Gaia MONFARDINI",
          "Orawan PARANANG",
          "Katarzyna WEGRZYN",
          "Sabina SURJAN",
          "Jieni SHAO",
          "CHEN Xingtong",
          "FAN Zhendong",
          "WANG Manyu",
          "AN Jaehyun",
          "WANG Chuqin",
          "LIN Yun-Ju",
          "Bruna TAKAHASHI",
          "Tatiana KUKULKOVA",
          "Lilian BARDET",
          "Truls MOREGARD",
          "LEE Eunhye",
          "Andreea DRAGOMAN",
          "Sreeja AKULA",
          "FENG Yi-Hsin",
          "Yukiya UDA",
          "SHI Xunyao",
          "ZHU Chengzhu",
          "Camille LUTZ",
          "Adrien RASSENFOSSE",
          "Hina HAYATA",
          "Snehit SURAVAJJULA",
          "Manav THAKKAR",
          "Jinnipa SAWETTABUT",
          "CHO Daeseong",
          "SHIN Yubin",
          "Tomokazu HARIMOTO",
          "WANG Yidi",
          "LI Yu-Jhun",
          "CHIEN Tung-Chuan",
          "HUANG Yan-Cheng",
          "Miyu NAGASAKI",
          "Miyuu KIHARA",
          "Prithika PAVADE",
          "SUN Yingsha",
          "Hana GODA",
          "ZENG Jian",
          "Yuta TANAKA",
          "Diya CHITALE",
          "CHOI Hyojoo",
          "Anna HURSEY",
          "Maciej KUBIK",
          "Manush SHAH",
          "PANG Koen",
          "CHEN Yi",
          "NG Wing Lam",
          "Hana ARAPOVIC",
          "KAO Cheng-Jui",
          "Alexis LEBRUN",
          "Honoka HASHIMOTO",
          "Satsuki ODO",
          "Shunsuke TOGAMI",
          "QUEK Izaac",
          "KIM Nayeong",
          "CHAN Baldwin",
          "Iulian CHIRITA",
          "Ioana SINGEORZAN",
          "Hiroto SHINOZUKA",
          "Nicholas LUM",
          "Milosz REDZIMSKI",
          "Eduard IONESCU",
          "KUAI Man",
          "CHEN Yuanyu",
          "OH Junsung",
          "Charlotte LUTZ",
          "MA Jinbao",
          "XIANG Peng",
          "Felix LEBRUN",
          "Sora MATSUSHIMA",
          "Miwa HARIMOTO",
          "LIN Shidong",
          "Yashaswini GHORPADE",
          "Jia Nan YUAN",
          "JOO Cheonhui"
         ],
         "legendgroup": "",
         "marker": {
          "color": "#4CAF50",
          "symbol": "circle"
         },
         "mode": "markers",
         "name": "",
         "orientation": "v",
         "showlegend": false,
         "type": "scatter",
         "x": {
          "bdata": "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",
          "dtype": "f8"
         },
         "xaxis": "x",
         "y": {
          "bdata": "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",
          "dtype": "f8"
         },
         "yaxis": "y"
        },
        {
         "line": {
          "color": "#FF5722",
          "width": 3
         },
         "mode": "lines",
         "name": "Linear Trend Line: Win % = 4.63 * Points Win % + -180.33",
         "type": "scatter",
         "x": {
          "bdata": "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",
          "dtype": "f8"
         },
         "y": {
          "bdata": "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",
          "dtype": "f8"
         }
        }
       ],
       "layout": {
        "legend": {
         "tracegroupgap": 0,
         "x": 0.01,
         "xanchor": "left",
         "y": 0.99,
         "yanchor": "top"
        },
        "template": {
         "data": {
          "bar": [
           {
            "error_x": {
             "color": "#2a3f5f"
            },
            "error_y": {
             "color": "#2a3f5f"
            },
            "marker": {
             "line": {
              "color": "white",
              "width": 0.5
             },
             "pattern": {
              "fillmode": "overlay",
              "size": 10,
              "solidity": 0.2
             }
            },
            "type": "bar"
           }
          ],
          "barpolar": [
           {
            "marker": {
             "line": {
              "color": "white",
              "width": 0.5
             },
             "pattern": {
              "fillmode": "overlay",
              "size": 10,
              "solidity": 0.2
             }
            },
            "type": "barpolar"
           }
          ],
          "carpet": [
           {
            "aaxis": {
             "endlinecolor": "#2a3f5f",
             "gridcolor": "#C8D4E3",
             "linecolor": "#C8D4E3",
             "minorgridcolor": "#C8D4E3",
             "startlinecolor": "#2a3f5f"
            },
            "baxis": {
             "endlinecolor": "#2a3f5f",
             "gridcolor": "#C8D4E3",
             "linecolor": "#C8D4E3",
             "minorgridcolor": "#C8D4E3",
             "startlinecolor": "#2a3f5f"
            },
            "type": "carpet"
           }
          ],
          "choropleth": [
           {
            "colorbar": {
             "outlinewidth": 0,
             "ticks": ""
            },
            "type": "choropleth"
           }
          ],
          "contour": [
           {
            "colorbar": {
             "outlinewidth": 0,
             "ticks": ""
            },
            "colorscale": [
             [
              0,
              "#0d0887"
             ],
             [
              0.1111111111111111,
              "#46039f"
             ],
             [
              0.2222222222222222,
              "#7201a8"
             ],
             [
              0.3333333333333333,
              "#9c179e"
             ],
             [
              0.4444444444444444,
              "#bd3786"
             ],
             [
              0.5555555555555556,
              "#d8576b"
             ],
             [
              0.6666666666666666,
              "#ed7953"
             ],
             [
              0.7777777777777778,
              "#fb9f3a"
             ],
             [
              0.8888888888888888,
              "#fdca26"
             ],
             [
              1,
              "#f0f921"
             ]
            ],
            "type": "contour"
           }
          ],
          "contourcarpet": [
           {
            "colorbar": {
             "outlinewidth": 0,
             "ticks": ""
            },
            "type": "contourcarpet"
           }
          ],
          "heatmap": [
           {
            "colorbar": {
             "outlinewidth": 0,
             "ticks": ""
            },
            "colorscale": [
             [
              0,
              "#0d0887"
             ],
             [
              0.1111111111111111,
              "#46039f"
             ],
             [
              0.2222222222222222,
              "#7201a8"
             ],
             [
              0.3333333333333333,
              "#9c179e"
             ],
             [
              0.4444444444444444,
              "#bd3786"
             ],
             [
              0.5555555555555556,
              "#d8576b"
             ],
             [
              0.6666666666666666,
              "#ed7953"
             ],
             [
              0.7777777777777778,
              "#fb9f3a"
             ],
             [
              0.8888888888888888,
              "#fdca26"
             ],
             [
              1,
              "#f0f921"
             ]
            ],
            "type": "heatmap"
           }
          ],
          "histogram": [
           {
            "marker": {
             "pattern": {
              "fillmode": "overlay",
              "size": 10,
              "solidity": 0.2
             }
            },
            "type": "histogram"
           }
          ],
          "histogram2d": [
           {
            "colorbar": {
             "outlinewidth": 0,
             "ticks": ""
            },
            "colorscale": [
             [
              0,
              "#0d0887"
             ],
             [
              0.1111111111111111,
              "#46039f"
             ],
             [
              0.2222222222222222,
              "#7201a8"
             ],
             [
              0.3333333333333333,
              "#9c179e"
             ],
             [
              0.4444444444444444,
              "#bd3786"
             ],
             [
              0.5555555555555556,
              "#d8576b"
             ],
             [
              0.6666666666666666,
              "#ed7953"
             ],
             [
              0.7777777777777778,
              "#fb9f3a"
             ],
             [
              0.8888888888888888,
              "#fdca26"
             ],
             [
              1,
              "#f0f921"
             ]
            ],
            "type": "histogram2d"
           }
          ],
          "histogram2dcontour": [
           {
            "colorbar": {
             "outlinewidth": 0,
             "ticks": ""
            },
            "colorscale": [
             [
              0,
              "#0d0887"
             ],
             [
              0.1111111111111111,
              "#46039f"
             ],
             [
              0.2222222222222222,
              "#7201a8"
             ],
             [
              0.3333333333333333,
              "#9c179e"
             ],
             [
              0.4444444444444444,
              "#bd3786"
             ],
             [
              0.5555555555555556,
              "#d8576b"
             ],
             [
              0.6666666666666666,
              "#ed7953"
             ],
             [
              0.7777777777777778,
              "#fb9f3a"
             ],
             [
              0.8888888888888888,
              "#fdca26"
             ],
             [
              1,
              "#f0f921"
             ]
            ],
            "type": "histogram2dcontour"
           }
          ],
          "mesh3d": [
           {
            "colorbar": {
             "outlinewidth": 0,
             "ticks": ""
            },
            "type": "mesh3d"
           }
          ],
          "parcoords": [
           {
            "line": {
             "colorbar": {
              "outlinewidth": 0,
              "ticks": ""
             }
            },
            "type": "parcoords"
           }
          ],
          "pie": [
           {
            "automargin": true,
            "type": "pie"
           }
          ],
          "scatter": [
           {
            "fillpattern": {
             "fillmode": "overlay",
             "size": 10,
             "solidity": 0.2
            },
            "type": "scatter"
           }
          ],
          "scatter3d": [
           {
            "line": {
             "colorbar": {
              "outlinewidth": 0,
              "ticks": ""
             }
            },
            "marker": {
             "colorbar": {
              "outlinewidth": 0,
              "ticks": ""
             }
            },
            "type": "scatter3d"
           }
          ],
          "scattercarpet": [
           {
            "marker": {
             "colorbar": {
              "outlinewidth": 0,
              "ticks": ""
             }
            },
            "type": "scattercarpet"
           }
          ],
          "scattergeo": [
           {
            "marker": {
             "colorbar": {
              "outlinewidth": 0,
              "ticks": ""
             }
            },
            "type": "scattergeo"
           }
          ],
          "scattergl": [
           {
            "marker": {
             "colorbar": {
              "outlinewidth": 0,
              "ticks": ""
             }
            },
            "type": "scattergl"
           }
          ],
          "scattermap": [
           {
            "marker": {
             "colorbar": {
              "outlinewidth": 0,
              "ticks": ""
             }
            },
            "type": "scattermap"
           }
          ],
          "scattermapbox": [
           {
            "marker": {
             "colorbar": {
              "outlinewidth": 0,
              "ticks": ""
             }
            },
            "type": "scattermapbox"
           }
          ],
          "scatterpolar": [
           {
            "marker": {
             "colorbar": {
              "outlinewidth": 0,
              "ticks": ""
             }
            },
            "type": "scatterpolar"
           }
          ],
          "scatterpolargl": [
           {
            "marker": {
             "colorbar": {
              "outlinewidth": 0,
              "ticks": ""
             }
            },
            "type": "scatterpolargl"
           }
          ],
          "scatterternary": [
           {
            "marker": {
             "colorbar": {
              "outlinewidth": 0,
              "ticks": ""
             }
            },
            "type": "scatterternary"
           }
          ],
          "surface": [
           {
            "colorbar": {
             "outlinewidth": 0,
             "ticks": ""
            },
            "colorscale": [
             [
              0,
              "#0d0887"
             ],
             [
              0.1111111111111111,
              "#46039f"
             ],
             [
              0.2222222222222222,
              "#7201a8"
             ],
             [
              0.3333333333333333,
              "#9c179e"
             ],
             [
              0.4444444444444444,
              "#bd3786"
             ],
             [
              0.5555555555555556,
              "#d8576b"
             ],
             [
              0.6666666666666666,
              "#ed7953"
             ],
             [
              0.7777777777777778,
              "#fb9f3a"
             ],
             [
              0.8888888888888888,
              "#fdca26"
             ],
             [
              1,
              "#f0f921"
             ]
            ],
            "type": "surface"
           }
          ],
          "table": [
           {
            "cells": {
             "fill": {
              "color": "#EBF0F8"
             },
             "line": {
              "color": "white"
             }
            },
            "header": {
             "fill": {
              "color": "#C8D4E3"
             },
             "line": {
              "color": "white"
             }
            },
            "type": "table"
           }
          ]
         },
         "layout": {
          "annotationdefaults": {
           "arrowcolor": "#2a3f5f",
           "arrowhead": 0,
           "arrowwidth": 1
          },
          "autotypenumbers": "strict",
          "coloraxis": {
           "colorbar": {
            "outlinewidth": 0,
            "ticks": ""
           }
          },
          "colorscale": {
           "diverging": [
            [
             0,
             "#8e0152"
            ],
            [
             0.1,
             "#c51b7d"
            ],
            [
             0.2,
             "#de77ae"
            ],
            [
             0.3,
             "#f1b6da"
            ],
            [
             0.4,
             "#fde0ef"
            ],
            [
             0.5,
             "#f7f7f7"
            ],
            [
             0.6,
             "#e6f5d0"
            ],
            [
             0.7,
             "#b8e186"
            ],
            [
             0.8,
             "#7fbc41"
            ],
            [
             0.9,
             "#4d9221"
            ],
            [
             1,
             "#276419"
            ]
           ],
           "sequential": [
            [
             0,
             "#0d0887"
            ],
            [
             0.1111111111111111,
             "#46039f"
            ],
            [
             0.2222222222222222,
             "#7201a8"
            ],
            [
             0.3333333333333333,
             "#9c179e"
            ],
            [
             0.4444444444444444,
             "#bd3786"
            ],
            [
             0.5555555555555556,
             "#d8576b"
            ],
            [
             0.6666666666666666,
             "#ed7953"
            ],
            [
             0.7777777777777778,
             "#fb9f3a"
            ],
            [
             0.8888888888888888,
             "#fdca26"
            ],
            [
             1,
             "#f0f921"
            ]
           ],
           "sequentialminus": [
            [
             0,
             "#0d0887"
            ],
            [
             0.1111111111111111,
             "#46039f"
            ],
            [
             0.2222222222222222,
             "#7201a8"
            ],
            [
             0.3333333333333333,
             "#9c179e"
            ],
            [
             0.4444444444444444,
             "#bd3786"
            ],
            [
             0.5555555555555556,
             "#d8576b"
            ],
            [
             0.6666666666666666,
             "#ed7953"
            ],
            [
             0.7777777777777778,
             "#fb9f3a"
            ],
            [
             0.8888888888888888,
             "#fdca26"
            ],
            [
             1,
             "#f0f921"
            ]
           ]
          },
          "colorway": [
           "#636efa",
           "#EF553B",
           "#00cc96",
           "#ab63fa",
           "#FFA15A",
           "#19d3f3",
           "#FF6692",
           "#B6E880",
           "#FF97FF",
           "#FECB52"
          ],
          "font": {
           "color": "#2a3f5f"
          },
          "geo": {
           "bgcolor": "white",
           "lakecolor": "white",
           "landcolor": "white",
           "showlakes": true,
           "showland": true,
           "subunitcolor": "#C8D4E3"
          },
          "hoverlabel": {
           "align": "left"
          },
          "hovermode": "closest",
          "mapbox": {
           "style": "light"
          },
          "paper_bgcolor": "white",
          "plot_bgcolor": "white",
          "polar": {
           "angularaxis": {
            "gridcolor": "#EBF0F8",
            "linecolor": "#EBF0F8",
            "ticks": ""
           },
           "bgcolor": "white",
           "radialaxis": {
            "gridcolor": "#EBF0F8",
            "linecolor": "#EBF0F8",
            "ticks": ""
           }
          },
          "scene": {
           "xaxis": {
            "backgroundcolor": "white",
            "gridcolor": "#DFE8F3",
            "gridwidth": 2,
            "linecolor": "#EBF0F8",
            "showbackground": true,
            "ticks": "",
            "zerolinecolor": "#EBF0F8"
           },
           "yaxis": {
            "backgroundcolor": "white",
            "gridcolor": "#DFE8F3",
            "gridwidth": 2,
            "linecolor": "#EBF0F8",
            "showbackground": true,
            "ticks": "",
            "zerolinecolor": "#EBF0F8"
           },
           "zaxis": {
            "backgroundcolor": "white",
            "gridcolor": "#DFE8F3",
            "gridwidth": 2,
            "linecolor": "#EBF0F8",
            "showbackground": true,
            "ticks": "",
            "zerolinecolor": "#EBF0F8"
           }
          },
          "shapedefaults": {
           "line": {
            "color": "#2a3f5f"
           }
          },
          "ternary": {
           "aaxis": {
            "gridcolor": "#DFE8F3",
            "linecolor": "#A2B1C6",
            "ticks": ""
           },
           "baxis": {
            "gridcolor": "#DFE8F3",
            "linecolor": "#A2B1C6",
            "ticks": ""
           },
           "bgcolor": "white",
           "caxis": {
            "gridcolor": "#DFE8F3",
            "linecolor": "#A2B1C6",
            "ticks": ""
           }
          },
          "title": {
           "x": 0.05
          },
          "xaxis": {
           "automargin": true,
           "gridcolor": "#EBF0F8",
           "linecolor": "#EBF0F8",
           "ticks": "",
           "title": {
            "standoff": 15
           },
           "zerolinecolor": "#EBF0F8",
           "zerolinewidth": 2
          },
          "yaxis": {
           "automargin": true,
           "gridcolor": "#EBF0F8",
           "linecolor": "#EBF0F8",
           "ticks": "",
           "title": {
            "standoff": 15
           },
           "zerolinecolor": "#EBF0F8",
           "zerolinewidth": 2
          }
         }
        },
        "title": {
         "text": "Impact of Total Points Win Rate on Match Win Rate (Min 10 Matches)"
        },
        "xaxis": {
         "anchor": "y",
         "domain": [
          0,
          1
         ],
         "gridcolor": "#dddddd",
         "range": [
          37.83,
          60.76
         ],
         "showgrid": true,
         "title": {
          "text": "Total Points Win Rate (%)"
         }
        },
        "yaxis": {
         "anchor": "x",
         "domain": [
          0,
          1
         ],
         "gridcolor": "#dddddd",
         "range": [
          14.7,
          91.7
         ],
         "showgrid": true,
         "title": {
          "text": "Win Rate (%)"
         }
        }
       }
      },
      "image/png": "[encoded data removed]"
     },
     "metadata": {},
     "output_type": "display_data"
    }
   ],
   "source": [
    "import pandas as pd\n",
    "import plotly.express as px\n",
    "import numpy as np\n",
    "# min_10_df is assumed to be available and contain 'Points Win %', 'Win %', and 'Name'\n",
    "\n",
    "# --- 📈 Generating INTERACTIVE Plot with Hover 📈---\n",
    "\n",
    "def generate_interactive_win_rate_plot(df: pd.DataFrame):\n",
    "    \"\"\"\n",
    "    Generates an interactive scatter plot using Plotly Express, allowing player \n",
    "    names to be viewed on hover.\n",
    "    \"\"\"\n",
    "    # Define columns for clarity\n",
    "    x_col = 'Points Win %'\n",
    "    y_col = 'Win %'\n",
    "    name_col = 'Name'\n",
    "\n",
    "    # --- 1. Calculate Trend Line for Plotly ---\n",
    "    # Plotly can calculate trend lines, but manually generating the line \n",
    "    # ensures consistent labeling and styling outside of Plotly's default settings.\n",
    "    z = np.polyfit(df[x_col], df[y_col], 1)\n",
    "    p = np.poly1d(z)\n",
    "    \n",
    "    trend_line_name = f'Linear Trend Line: Win % = {z[0]:.2f} * Points Win % + {z[1]:.2f}'\n",
    "    \n",
    "    # --- 2. Customizing Plot Limits for Minimal Whitespace ---\n",
    "    BUFFER_FACTOR = 2\n",
    "    \n",
    "    x_min_data = df[x_col].min()\n",
    "    x_max_data = df[x_col].max()\n",
    "    y_min_data = df[y_col].min()\n",
    "    y_max_data = df[y_col].max()\n",
    "\n",
    "    # Calculate dynamic limits\n",
    "    x_min_limit = max(0, x_min_data - BUFFER_FACTOR)\n",
    "    x_max_limit = min(100, x_max_data + BUFFER_FACTOR)\n",
    "    y_min_limit = max(0, y_min_data - BUFFER_FACTOR)\n",
    "    y_max_limit = min(100, y_max_data + BUFFER_FACTOR)\n",
    "\n",
    "    # --- 3. Create Scatter Plot with Interactivity ---\n",
    "    fig = px.scatter(\n",
    "        df,\n",
    "        x=x_col,\n",
    "        y=y_col,\n",
    "        hover_name=name_col, # <<< This enables the hover tooltip with player name!\n",
    "        title='Impact of Total Points Win Rate on Match Win Rate (Min 10 Matches)',\n",
    "        color_discrete_sequence=['#4CAF50'],\n",
    "        template=\"plotly_white\"\n",
    "    )\n",
    "\n",
    "    # --- 4. Add the Custom Trend Line ---\n",
    "    fig.add_scatter(\n",
    "        x=df[x_col],\n",
    "        y=p(df[x_col]),\n",
    "        mode='lines',\n",
    "        line=dict(color='#FF5722', width=3),\n",
    "        name=trend_line_name\n",
    "    )\n",
    "    \n",
    "    # --- 5. Update Layout and Axes ---\n",
    "    fig.update_xaxes(\n",
    "        title_text='Total Points Win Rate (%)',\n",
    "        range=[x_min_limit, x_max_limit], \n",
    "        showgrid=True,\n",
    "        gridcolor='#dddddd'\n",
    "    )\n",
    "    fig.update_yaxes(\n",
    "        title_text='Win Rate (%)',\n",
    "        range=[y_min_limit, y_max_limit], \n",
    "        showgrid=True,\n",
    "        gridcolor='#dddddd'\n",
    "    )\n",
    "\n",
    "    # Move legend to upper left\n",
    "    fig.update_layout(\n",
    "        legend=dict(\n",
    "            yanchor=\"top\",\n",
    "            y=0.99,\n",
    "            xanchor=\"left\",\n",
    "            x=0.01\n",
    "        )\n",
    "    )\n",
    "\n",
    "    fig.show(\"jupyterlab\")\n",
    "\n",
    "# --- Execution Block ---\n",
    "# You need to ensure min_10_df is loaded before this function is called.\n",
    "\n",
    "generate_interactive_win_rate_plot(min_10_df)\n"
   ]
  },
  {
   "cell_type": "code",
   "execution_count": 141,
   "id": "220a77a5-b7a8-4332-98cb-e3b941975e49",
   "metadata": {},
   "outputs": [
    {
     "name": "stderr",
     "output_type": "stream",
     "text": [
      "/tmp/ipykernel_15473/1414177750.py:11: SettingWithCopyWarning:\n",
      "\n",
      "\n",
      "A value is trying to be set on a copy of a slice from a DataFrame.\n",
      "Try using .loc[row_indexer,col_indexer] = value instead\n",
      "\n",
      "See the caveats in the documentation: https://pandas.pydata.org/pandas-docs/stable/user_guide/indexing.html#returning-a-view-versus-a-copy\n",
      "\n",
      "/tmp/ipykernel_15473/1414177750.py:17: SettingWithCopyWarning:\n",
      "\n",
      "\n",
      "A value is trying to be set on a copy of a slice from a DataFrame.\n",
      "Try using .loc[row_indexer,col_indexer] = value instead\n",
      "\n",
      "See the caveats in the documentation: https://pandas.pydata.org/pandas-docs/stable/user_guide/indexing.html#returning-a-view-versus-a-copy\n",
      "\n"
     ]
    }
   ],
   "source": [
    "X = min_10_df['Points Win %']\n",
    "Y = min_10_df['Win %']\n",
    "\n",
    "# --- 2. Calculate the Linear Trend Line Coefficients ---\n",
    "# z = [m, b] where Y = mX + b (Linear Regression)\n",
    "z = np.polyfit(X, Y, 1)\n",
    "m, b = z[0], z[1]\n",
    "\n",
    "# --- 3. Calculate Predicted Y and the Residual ---\n",
    "# Predicted Y (Win % expected based on Points Win %)\n",
    "min_10_df['Predicted Win %'] = m * X + b\n",
    "\n",
    "# Residual (Actual Win % - Predicted Win %)\n",
    "# A positive residual means the player is winning more matches than expected (clutch).\n",
    "# A negative residual means the player is winning fewer matches than expected (unlucky).\n",
    "\n",
    "min_10_df['Outperformance Score'] = min_10_df['Win %'] - min_10_df['Predicted Win %']\n"
   ]
  },
  {
   "cell_type": "code",
   "execution_count": 147,
   "id": "97fbcfce-bf0d-44e8-8ed7-935b420a62ef",
   "metadata": {},
   "outputs": [
    {
     "data": {
      "text/html": [
       "<div>\n",
       "<style scoped>\n",
       "    .dataframe tbody tr th:only-of-type {\n",
       "        vertical-align: middle;\n",
       "    }\n",
       "\n",
       "    .dataframe tbody tr th {\n",
       "        vertical-align: top;\n",
       "    }\n",
       "\n",
       "    .dataframe thead th {\n",
       "        text-align: right;\n",
       "    }\n",
       "</style>\n",
       "<table border=\"1\" class=\"dataframe\">\n",
       "  <thead>\n",
       "    <tr style=\"text-align: right;\">\n",
       "      <th></th>\n",
       "      <th>Name</th>\n",
       "      <th>PlayerID</th>\n",
       "      <th>Wins</th>\n",
       "      <th>Losses</th>\n",
       "      <th>Total Matches</th>\n",
       "      <th>Win %</th>\n",
       "      <th>Total Points Won</th>\n",
       "      <th>Total Points Lost</th>\n",
       "      <th>Total Points Played</th>\n",
       "      <th>Points Win %</th>\n",
       "      <th>Predicted Win %</th>\n",
       "      <th>Residual</th>\n",
       "      <th>Outperformance Score</th>\n",
       "    </tr>\n",
       "  </thead>\n",
       "  <tbody>\n",
       "    <tr>\n",
       "      <th>107</th>\n",
       "      <td>Mateja JEGER</td>\n",
       "      <td>112453</td>\n",
       "      <td>5</td>\n",
       "      <td>6</td>\n",
       "      <td>11</td>\n",
       "      <td>45.5</td>\n",
       "      <td>382</td>\n",
       "      <td>444</td>\n",
       "      <td>826</td>\n",
       "      <td>46.25</td>\n",
       "      <td>33.752945</td>\n",
       "      <td>11.747055</td>\n",
       "      <td>11.747055</td>\n",
       "    </tr>\n",
       "    <tr>\n",
       "      <th>216</th>\n",
       "      <td>FAN Siqi</td>\n",
       "      <td>119529</td>\n",
       "      <td>8</td>\n",
       "      <td>2</td>\n",
       "      <td>10</td>\n",
       "      <td>80.0</td>\n",
       "      <td>373</td>\n",
       "      <td>322</td>\n",
       "      <td>695</td>\n",
       "      <td>53.67</td>\n",
       "      <td>68.099095</td>\n",
       "      <td>11.900905</td>\n",
       "      <td>11.900905</td>\n",
       "    </tr>\n",
       "    <tr>\n",
       "      <th>226</th>\n",
       "      <td>Luka MLADENOVIC</td>\n",
       "      <td>120074</td>\n",
       "      <td>5</td>\n",
       "      <td>5</td>\n",
       "      <td>10</td>\n",
       "      <td>50.0</td>\n",
       "      <td>345</td>\n",
       "      <td>387</td>\n",
       "      <td>732</td>\n",
       "      <td>47.13</td>\n",
       "      <td>37.826343</td>\n",
       "      <td>12.173657</td>\n",
       "      <td>12.173657</td>\n",
       "    </tr>\n",
       "    <tr>\n",
       "      <th>252</th>\n",
       "      <td>AN Jaehyun</td>\n",
       "      <td>121514</td>\n",
       "      <td>16</td>\n",
       "      <td>9</td>\n",
       "      <td>25</td>\n",
       "      <td>64.0</td>\n",
       "      <td>948</td>\n",
       "      <td>951</td>\n",
       "      <td>1899</td>\n",
       "      <td>49.92</td>\n",
       "      <td>50.740866</td>\n",
       "      <td>13.259134</td>\n",
       "      <td>13.259134</td>\n",
       "    </tr>\n",
       "    <tr>\n",
       "      <th>62</th>\n",
       "      <td>SUH Hyo Won</td>\n",
       "      <td>108470</td>\n",
       "      <td>7</td>\n",
       "      <td>6</td>\n",
       "      <td>13</td>\n",
       "      <td>53.8</td>\n",
       "      <td>441</td>\n",
       "      <td>485</td>\n",
       "      <td>926</td>\n",
       "      <td>47.62</td>\n",
       "      <td>40.094485</td>\n",
       "      <td>13.705515</td>\n",
       "      <td>13.705515</td>\n",
       "    </tr>\n",
       "    <tr>\n",
       "      <th>139</th>\n",
       "      <td>Dang QIU</td>\n",
       "      <td>114715</td>\n",
       "      <td>20</td>\n",
       "      <td>8</td>\n",
       "      <td>28</td>\n",
       "      <td>71.4</td>\n",
       "      <td>1085</td>\n",
       "      <td>1027</td>\n",
       "      <td>2112</td>\n",
       "      <td>51.37</td>\n",
       "      <td>57.452714</td>\n",
       "      <td>13.947286</td>\n",
       "      <td>13.947286</td>\n",
       "    </tr>\n",
       "    <tr>\n",
       "      <th>339</th>\n",
       "      <td>CHEN Yi</td>\n",
       "      <td>132132</td>\n",
       "      <td>15</td>\n",
       "      <td>4</td>\n",
       "      <td>19</td>\n",
       "      <td>78.9</td>\n",
       "      <td>808</td>\n",
       "      <td>717</td>\n",
       "      <td>1525</td>\n",
       "      <td>52.98</td>\n",
       "      <td>64.905181</td>\n",
       "      <td>13.994819</td>\n",
       "      <td>13.994819</td>\n",
       "    </tr>\n",
       "    <tr>\n",
       "      <th>388</th>\n",
       "      <td>Nicholas LUM</td>\n",
       "      <td>134800</td>\n",
       "      <td>2</td>\n",
       "      <td>8</td>\n",
       "      <td>10</td>\n",
       "      <td>20.0</td>\n",
       "      <td>241</td>\n",
       "      <td>364</td>\n",
       "      <td>605</td>\n",
       "      <td>39.83</td>\n",
       "      <td>4.035657</td>\n",
       "      <td>15.964343</td>\n",
       "      <td>15.964343</td>\n",
       "    </tr>\n",
       "    <tr>\n",
       "      <th>264</th>\n",
       "      <td>LEE Eunhye</td>\n",
       "      <td>122052</td>\n",
       "      <td>5</td>\n",
       "      <td>5</td>\n",
       "      <td>10</td>\n",
       "      <td>50.0</td>\n",
       "      <td>274</td>\n",
       "      <td>322</td>\n",
       "      <td>596</td>\n",
       "      <td>45.97</td>\n",
       "      <td>32.456864</td>\n",
       "      <td>17.543136</td>\n",
       "      <td>17.543136</td>\n",
       "    </tr>\n",
       "    <tr>\n",
       "      <th>316</th>\n",
       "      <td>Yuta TANAKA</td>\n",
       "      <td>131375</td>\n",
       "      <td>7</td>\n",
       "      <td>4</td>\n",
       "      <td>11</td>\n",
       "      <td>63.6</td>\n",
       "      <td>384</td>\n",
       "      <td>402</td>\n",
       "      <td>786</td>\n",
       "      <td>48.85</td>\n",
       "      <td>45.787984</td>\n",
       "      <td>17.812016</td>\n",
       "      <td>17.812016</td>\n",
       "    </tr>\n",
       "  </tbody>\n",
       "</table>\n",
       "</div>"
      ],
      "text/plain": [
       "                Name  PlayerID  Wins  Losses  Total Matches  Win %  \\\n",
       "107     Mateja JEGER    112453     5       6             11   45.5   \n",
       "216         FAN Siqi    119529     8       2             10   80.0   \n",
       "226  Luka MLADENOVIC    120074     5       5             10   50.0   \n",
       "252       AN Jaehyun    121514    16       9             25   64.0   \n",
       "62       SUH Hyo Won    108470     7       6             13   53.8   \n",
       "139         Dang QIU    114715    20       8             28   71.4   \n",
       "339          CHEN Yi    132132    15       4             19   78.9   \n",
       "388     Nicholas LUM    134800     2       8             10   20.0   \n",
       "264       LEE Eunhye    122052     5       5             10   50.0   \n",
       "316      Yuta TANAKA    131375     7       4             11   63.6   \n",
       "\n",
       "     Total Points Won  Total Points Lost  Total Points Played  Points Win %  \\\n",
       "107               382                444                  826         46.25   \n",
       "216               373                322                  695         53.67   \n",
       "226               345                387                  732         47.13   \n",
       "252               948                951                 1899         49.92   \n",
       "62                441                485                  926         47.62   \n",
       "139              1085               1027                 2112         51.37   \n",
       "339               808                717                 1525         52.98   \n",
       "388               241                364                  605         39.83   \n",
       "264               274                322                  596         45.97   \n",
       "316               384                402                  786         48.85   \n",
       "\n",
       "     Predicted Win %   Residual  Outperformance Score  \n",
       "107        33.752945  11.747055             11.747055  \n",
       "216        68.099095  11.900905             11.900905  \n",
       "226        37.826343  12.173657             12.173657  \n",
       "252        50.740866  13.259134             13.259134  \n",
       "62         40.094485  13.705515             13.705515  \n",
       "139        57.452714  13.947286             13.947286  \n",
       "339        64.905181  13.994819             13.994819  \n",
       "388         4.035657  15.964343             15.964343  \n",
       "264        32.456864  17.543136             17.543136  \n",
       "316        45.787984  17.812016             17.812016  "
      ]
     },
     "execution_count": 147,
     "metadata": {},
     "output_type": "execute_result"
    }
   ],
   "source": [
    "min_10_df.sort_values(by=\"Residual\").tail(10)"
   ]
  },
  {
   "cell_type": "code",
   "execution_count": null,
   "id": "2ad937fd-46a5-409e-aca8-eff5c09d613e",
   "metadata": {},
   "outputs": [],
   "source": []
  },
  {
   "cell_type": "code",
   "execution_count": null,
   "id": "61a280e7-f89a-42b3-b3b5-942f59e0fb3f",
   "metadata": {},
   "outputs": [],
   "source": []
  }
 ],
 "metadata": {
  "kernelspec": {
   "display_name": "Python 3 (ipykernel)",
   "language": "python",
   "name": "python3"
  },
  "language_info": {
   "codemirror_mode": {
    "name": "ipython",
    "version": 3
   },
   "file_extension": ".py",
   "mimetype": "text/x-python",
   "name": "python",
   "nbconvert_exporter": "python",
   "pygments_lexer": "ipython3",
   "version": "3.13.7"
  }
 },
 "nbformat": 4,
 "nbformat_minor": 5
}

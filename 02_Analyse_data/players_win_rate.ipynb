{
 "cells": [
  {
   "cell_type": "code",
   "execution_count": 72,
   "id": "b4180f83-8921-4158-9c24-f13b0ee82ab7",
   "metadata": {},
   "outputs": [],
   "source": [
    "import os \n",
    "import json\n",
    "import glob \n",
    "import pandas as pd\n",
    "from datetime import datetime, timezone, date\n",
    "import requests\n",
    "from IPython.display import clear_output\n",
    "import random \n",
    "import time \n",
    "import numpy as np\n",
    "import numpy as np\n",
    "import matplotlib as plt"
   ]
  },
  {
   "cell_type": "code",
   "execution_count": 100,
   "id": "5ac2a9e5-dda3-47e1-a95b-2f48fb578cd5",
   "metadata": {},
   "outputs": [
    {
     "name": "stdout",
     "output_type": "stream",
     "text": [
      "2087\n"
     ]
    }
   ],
   "source": [
    "#  For now, the smash events matches are the only ones on the list :) So I will be using this file for master events from the date it was made\n",
    "\n",
    "matches_file  = \"../Obtain_data/Data/Processed/20251009_master_match_list.csv\"\n",
    "matches_df = pd.read_csv(matches_file)\n",
    "valid_matches_df = matches_df[matches_df[\"MatchStatus\"]==\"Completed\"]\n",
    "\n",
    "players_file = \"../Obtain_data/Data/Processed/Players/20251009_players.csv\"\n",
    "players_df = pd.read_csv(players_file)\n",
    "\n",
    "print(len(players_df))"
   ]
  },
  {
   "cell_type": "code",
   "execution_count": 96,
   "id": "dca3e79f-4180-497e-bf5e-fbe6d8cd29a0",
   "metadata": {},
   "outputs": [
    {
     "name": "stdout",
     "output_type": "stream",
     "text": [
      "--- 🟢 Commencing Win Rate Calculation 🟢---\n",
      "--- 🟢 Finished Win Rate Calculation 🟢---\n"
     ]
    }
   ],
   "source": [
    "if 'IttfId' not in players_df.columns:\n",
    "    print(\"Error: 'IttfId' column not found in players_df. Please check your CSV file.\")\n",
    "\n",
    "\n",
    "\n",
    "Smash_win_rates = []\n",
    "\n",
    "\n",
    "player_ids_to_process = players_df[\"IttfId\"].tolist()\n",
    "\n",
    "print(\"--- 🟢 Commencing Win Rate Calculation 🟢---\")\n",
    "\n",
    "for player_id in player_ids_to_process:\n",
    "\n",
    "    # 1. Filter for all matches the player was involved in (as Player A OR Player B)\n",
    "    mask_player = (valid_matches_df['PlayerA_ID'] == player_id) | (valid_matches_df['PlayerB_ID'] == player_id)\n",
    "    mask_valid_points = valid_matches_df['PlayerA_TotalPoints'].notna() & valid_matches_df['PlayerB_TotalPoints'].notna()\n",
    "    mask_finals = valid_matches_df[\"match_code\"]\n",
    "    \n",
    "    mask_matches = mask_player & mask_valid_points\n",
    "    \n",
    "    player_matches_df = valid_matches_df[mask_matches]\n",
    "\n",
    "    # 2. Filter the matches played to find only the wins\n",
    "    player_wins_df = player_matches_df[player_matches_df['WinnerID'] == player_id]\n",
    "\n",
    "    # 3. Calculate metrics\n",
    "    total_matches = len(player_matches_df)\n",
    "    wins = len(player_wins_df)\n",
    "    losses = total_matches - wins\n",
    "\n",
    "    # Calculate win rate, handling the case of 0 matches to avoid division by zero\n",
    "    win_rate = (wins / total_matches) * 100 if total_matches > 0 else 0\n",
    "\n",
    "    # 4. Get the player's name as a single string\n",
    "    try:\n",
    "        player_name = players_df[players_df['IttfId'] == player_id]['PlayerName'].iloc[0]\n",
    "        player_style = players_df[players_df['IttfId'] == player_id]['Style'].iloc[0]\n",
    "    except IndexError:\n",
    "        player_name = f\"ID {player_id} Not Found\"\n",
    "\n",
    "\n",
    "    is_player_A = player_matches_df['PlayerA_ID'] == player_id\n",
    "    points_won_series = np.where(\n",
    "        is_player_A,\n",
    "        player_matches_df['PlayerA_TotalPoints'],\n",
    "        player_matches_df['PlayerB_TotalPoints']\n",
    "    )\n",
    "\n",
    "    points_lost_series = np.where(\n",
    "        is_player_A,\n",
    "        player_matches_df['PlayerB_TotalPoints'],\n",
    "        player_matches_df['PlayerA_TotalPoints']\n",
    "    )\n",
    "\n",
    "    total_points_won = points_won_series.sum()\n",
    "    total_points_lost = points_lost_series.sum()\n",
    "    total_points_played = total_points_won + total_points_lost\n",
    "\n",
    "    points_win_rate = (total_points_won / total_points_played) * 100 if total_points_played > 0 else 0\n",
    "\n",
    "\n",
    "    \n",
    "\n",
    "\n",
    "    # 5. Populate and append the dictionary\n",
    "    wins_dict = {\n",
    "        \"Name\": player_name,\n",
    "        \"PlayerID\": player_id,\n",
    "        \"Wins\": wins,\n",
    "        \"Losses\": losses,\n",
    "        \"Total Matches\": total_matches,\n",
    "        \"Win %\": round(win_rate, 1),\n",
    "        \"Total Points Won\": int(total_points_won),\n",
    "        \"Total Points Lost\": int(total_points_lost),\n",
    "        \"Total Points Played\": int(total_points_played),\n",
    "        \"Points Win %\": round(points_win_rate, 2),\n",
    "        \"Style\" : player_style\n",
    "    }\n",
    "\n",
    "    Smash_win_rates.append(wins_dict)\n",
    "\n",
    "  \n",
    "print(\"--- 🟢 Finished Win Rate Calculation 🟢---\")\n",
    "\n",
    "win_rate_df = pd.DataFrame(Smash_win_rates)\n",
    "\n"
   ]
  },
  {
   "cell_type": "code",
   "execution_count": 99,
   "id": "2d846d10-94de-4388-9d93-b3912e71c1c2",
   "metadata": {},
   "outputs": [
    {
     "data": {
      "text/html": [
       "<div>\n",
       "<style scoped>\n",
       "    .dataframe tbody tr th:only-of-type {\n",
       "        vertical-align: middle;\n",
       "    }\n",
       "\n",
       "    .dataframe tbody tr th {\n",
       "        vertical-align: top;\n",
       "    }\n",
       "\n",
       "    .dataframe thead th {\n",
       "        text-align: right;\n",
       "    }\n",
       "</style>\n",
       "<table border=\"1\" class=\"dataframe\">\n",
       "  <thead>\n",
       "    <tr style=\"text-align: right;\">\n",
       "      <th></th>\n",
       "      <th>Name</th>\n",
       "      <th>PlayerID</th>\n",
       "      <th>Wins</th>\n",
       "      <th>Losses</th>\n",
       "      <th>Total Matches</th>\n",
       "      <th>Win %</th>\n",
       "      <th>Total Points Won</th>\n",
       "      <th>Total Points Lost</th>\n",
       "      <th>Total Points Played</th>\n",
       "      <th>Points Win %</th>\n",
       "      <th>Style</th>\n",
       "    </tr>\n",
       "  </thead>\n",
       "  <tbody>\n",
       "    <tr>\n",
       "      <th>906</th>\n",
       "      <td>Honoka HASHIMOTO</td>\n",
       "      <td>133000</td>\n",
       "      <td>63</td>\n",
       "      <td>12</td>\n",
       "      <td>75</td>\n",
       "      <td>84.0</td>\n",
       "      <td>2799</td>\n",
       "      <td>1915</td>\n",
       "      <td>4714</td>\n",
       "      <td>59.38</td>\n",
       "      <td>Defence</td>\n",
       "    </tr>\n",
       "    <tr>\n",
       "      <th>747</th>\n",
       "      <td>SUN Yingsha</td>\n",
       "      <td>131163</td>\n",
       "      <td>160</td>\n",
       "      <td>14</td>\n",
       "      <td>174</td>\n",
       "      <td>92.0</td>\n",
       "      <td>7780</td>\n",
       "      <td>5631</td>\n",
       "      <td>13411</td>\n",
       "      <td>58.01</td>\n",
       "      <td>Attack</td>\n",
       "    </tr>\n",
       "    <tr>\n",
       "      <th>1946</th>\n",
       "      <td>YAO Ruixuan</td>\n",
       "      <td>209007</td>\n",
       "      <td>8</td>\n",
       "      <td>3</td>\n",
       "      <td>11</td>\n",
       "      <td>72.7</td>\n",
       "      <td>355</td>\n",
       "      <td>257</td>\n",
       "      <td>612</td>\n",
       "      <td>58.01</td>\n",
       "      <td>Attack</td>\n",
       "    </tr>\n",
       "    <tr>\n",
       "      <th>590</th>\n",
       "      <td>Hitomi SATO</td>\n",
       "      <td>122261</td>\n",
       "      <td>61</td>\n",
       "      <td>21</td>\n",
       "      <td>82</td>\n",
       "      <td>74.4</td>\n",
       "      <td>2986</td>\n",
       "      <td>2176</td>\n",
       "      <td>5162</td>\n",
       "      <td>57.85</td>\n",
       "      <td>Defence</td>\n",
       "    </tr>\n",
       "    <tr>\n",
       "      <th>959</th>\n",
       "      <td>WANG Tianyi</td>\n",
       "      <td>133528</td>\n",
       "      <td>11</td>\n",
       "      <td>3</td>\n",
       "      <td>14</td>\n",
       "      <td>78.6</td>\n",
       "      <td>499</td>\n",
       "      <td>364</td>\n",
       "      <td>863</td>\n",
       "      <td>57.82</td>\n",
       "      <td>Attack</td>\n",
       "    </tr>\n",
       "    <tr>\n",
       "      <th>1147</th>\n",
       "      <td>Haruna OJIO</td>\n",
       "      <td>135179</td>\n",
       "      <td>28</td>\n",
       "      <td>9</td>\n",
       "      <td>37</td>\n",
       "      <td>75.7</td>\n",
       "      <td>1595</td>\n",
       "      <td>1173</td>\n",
       "      <td>2768</td>\n",
       "      <td>57.62</td>\n",
       "      <td>Defence</td>\n",
       "    </tr>\n",
       "    <tr>\n",
       "      <th>1429</th>\n",
       "      <td>Kyoka IDESAWA</td>\n",
       "      <td>144633</td>\n",
       "      <td>24</td>\n",
       "      <td>7</td>\n",
       "      <td>31</td>\n",
       "      <td>77.4</td>\n",
       "      <td>1148</td>\n",
       "      <td>870</td>\n",
       "      <td>2018</td>\n",
       "      <td>56.89</td>\n",
       "      <td>Attack</td>\n",
       "    </tr>\n",
       "    <tr>\n",
       "      <th>541</th>\n",
       "      <td>WANG Chuqin</td>\n",
       "      <td>121558</td>\n",
       "      <td>135</td>\n",
       "      <td>23</td>\n",
       "      <td>158</td>\n",
       "      <td>85.4</td>\n",
       "      <td>7024</td>\n",
       "      <td>5361</td>\n",
       "      <td>12385</td>\n",
       "      <td>56.71</td>\n",
       "      <td>Attack</td>\n",
       "    </tr>\n",
       "    <tr>\n",
       "      <th>167</th>\n",
       "      <td>CHEN Meng</td>\n",
       "      <td>112019</td>\n",
       "      <td>74</td>\n",
       "      <td>18</td>\n",
       "      <td>92</td>\n",
       "      <td>80.4</td>\n",
       "      <td>4071</td>\n",
       "      <td>3117</td>\n",
       "      <td>7188</td>\n",
       "      <td>56.64</td>\n",
       "      <td>Attack</td>\n",
       "    </tr>\n",
       "    <tr>\n",
       "      <th>1478</th>\n",
       "      <td>Ryuusei KAWAKAMI</td>\n",
       "      <td>145264</td>\n",
       "      <td>9</td>\n",
       "      <td>2</td>\n",
       "      <td>11</td>\n",
       "      <td>81.8</td>\n",
       "      <td>441</td>\n",
       "      <td>338</td>\n",
       "      <td>779</td>\n",
       "      <td>56.61</td>\n",
       "      <td>Attack</td>\n",
       "    </tr>\n",
       "    <tr>\n",
       "      <th>2025</th>\n",
       "      <td>Kotomi OMODA</td>\n",
       "      <td>213286</td>\n",
       "      <td>16</td>\n",
       "      <td>5</td>\n",
       "      <td>21</td>\n",
       "      <td>76.2</td>\n",
       "      <td>766</td>\n",
       "      <td>592</td>\n",
       "      <td>1358</td>\n",
       "      <td>56.41</td>\n",
       "      <td>Attack</td>\n",
       "    </tr>\n",
       "    <tr>\n",
       "      <th>310</th>\n",
       "      <td>Yuto MURAMATSU</td>\n",
       "      <td>115439</td>\n",
       "      <td>28</td>\n",
       "      <td>6</td>\n",
       "      <td>34</td>\n",
       "      <td>82.4</td>\n",
       "      <td>1245</td>\n",
       "      <td>965</td>\n",
       "      <td>2210</td>\n",
       "      <td>56.33</td>\n",
       "      <td>Attack</td>\n",
       "    </tr>\n",
       "    <tr>\n",
       "      <th>940</th>\n",
       "      <td>Satsuki ODO</td>\n",
       "      <td>133405</td>\n",
       "      <td>92</td>\n",
       "      <td>24</td>\n",
       "      <td>116</td>\n",
       "      <td>79.3</td>\n",
       "      <td>4361</td>\n",
       "      <td>3387</td>\n",
       "      <td>7748</td>\n",
       "      <td>56.29</td>\n",
       "      <td>Attack</td>\n",
       "    </tr>\n",
       "    <tr>\n",
       "      <th>921</th>\n",
       "      <td>Evgeny TIKHONOV</td>\n",
       "      <td>133251</td>\n",
       "      <td>8</td>\n",
       "      <td>2</td>\n",
       "      <td>10</td>\n",
       "      <td>80.0</td>\n",
       "      <td>360</td>\n",
       "      <td>280</td>\n",
       "      <td>640</td>\n",
       "      <td>56.25</td>\n",
       "      <td>Attack</td>\n",
       "    </tr>\n",
       "    <tr>\n",
       "      <th>646</th>\n",
       "      <td>GUO Yuhan</td>\n",
       "      <td>123114</td>\n",
       "      <td>7</td>\n",
       "      <td>3</td>\n",
       "      <td>10</td>\n",
       "      <td>70.0</td>\n",
       "      <td>352</td>\n",
       "      <td>274</td>\n",
       "      <td>626</td>\n",
       "      <td>56.23</td>\n",
       "      <td>Attack</td>\n",
       "    </tr>\n",
       "    <tr>\n",
       "      <th>450</th>\n",
       "      <td>HE Zhuojia</td>\n",
       "      <td>119730</td>\n",
       "      <td>61</td>\n",
       "      <td>22</td>\n",
       "      <td>83</td>\n",
       "      <td>73.5</td>\n",
       "      <td>3101</td>\n",
       "      <td>2432</td>\n",
       "      <td>5533</td>\n",
       "      <td>56.05</td>\n",
       "      <td>Attack</td>\n",
       "    </tr>\n",
       "    <tr>\n",
       "      <th>1796</th>\n",
       "      <td>HUANG Xunan</td>\n",
       "      <td>202981</td>\n",
       "      <td>8</td>\n",
       "      <td>4</td>\n",
       "      <td>12</td>\n",
       "      <td>66.7</td>\n",
       "      <td>410</td>\n",
       "      <td>323</td>\n",
       "      <td>733</td>\n",
       "      <td>55.93</td>\n",
       "      <td>Attack</td>\n",
       "    </tr>\n",
       "    <tr>\n",
       "      <th>532</th>\n",
       "      <td>WANG Manyu</td>\n",
       "      <td>121411</td>\n",
       "      <td>121</td>\n",
       "      <td>25</td>\n",
       "      <td>146</td>\n",
       "      <td>82.9</td>\n",
       "      <td>6447</td>\n",
       "      <td>5092</td>\n",
       "      <td>11539</td>\n",
       "      <td>55.87</td>\n",
       "      <td>Attack</td>\n",
       "    </tr>\n",
       "    <tr>\n",
       "      <th>529</th>\n",
       "      <td>CHEN Xingtong</td>\n",
       "      <td>121403</td>\n",
       "      <td>112</td>\n",
       "      <td>35</td>\n",
       "      <td>147</td>\n",
       "      <td>76.2</td>\n",
       "      <td>6051</td>\n",
       "      <td>4799</td>\n",
       "      <td>10850</td>\n",
       "      <td>55.77</td>\n",
       "      <td>Attack</td>\n",
       "    </tr>\n",
       "    <tr>\n",
       "      <th>1269</th>\n",
       "      <td>Kaho AKAE</td>\n",
       "      <td>136309</td>\n",
       "      <td>47</td>\n",
       "      <td>18</td>\n",
       "      <td>65</td>\n",
       "      <td>72.3</td>\n",
       "      <td>2296</td>\n",
       "      <td>1828</td>\n",
       "      <td>4124</td>\n",
       "      <td>55.67</td>\n",
       "      <td>Attack</td>\n",
       "    </tr>\n",
       "  </tbody>\n",
       "</table>\n",
       "</div>"
      ],
      "text/plain": [
       "                  Name  PlayerID  Wins  Losses  Total Matches  Win %  \\\n",
       "906   Honoka HASHIMOTO    133000    63      12             75   84.0   \n",
       "747        SUN Yingsha    131163   160      14            174   92.0   \n",
       "1946       YAO Ruixuan    209007     8       3             11   72.7   \n",
       "590        Hitomi SATO    122261    61      21             82   74.4   \n",
       "959        WANG Tianyi    133528    11       3             14   78.6   \n",
       "1147       Haruna OJIO    135179    28       9             37   75.7   \n",
       "1429     Kyoka IDESAWA    144633    24       7             31   77.4   \n",
       "541        WANG Chuqin    121558   135      23            158   85.4   \n",
       "167          CHEN Meng    112019    74      18             92   80.4   \n",
       "1478  Ryuusei KAWAKAMI    145264     9       2             11   81.8   \n",
       "2025      Kotomi OMODA    213286    16       5             21   76.2   \n",
       "310     Yuto MURAMATSU    115439    28       6             34   82.4   \n",
       "940        Satsuki ODO    133405    92      24            116   79.3   \n",
       "921    Evgeny TIKHONOV    133251     8       2             10   80.0   \n",
       "646          GUO Yuhan    123114     7       3             10   70.0   \n",
       "450         HE Zhuojia    119730    61      22             83   73.5   \n",
       "1796       HUANG Xunan    202981     8       4             12   66.7   \n",
       "532         WANG Manyu    121411   121      25            146   82.9   \n",
       "529      CHEN Xingtong    121403   112      35            147   76.2   \n",
       "1269         Kaho AKAE    136309    47      18             65   72.3   \n",
       "\n",
       "      Total Points Won  Total Points Lost  Total Points Played  Points Win %  \\\n",
       "906               2799               1915                 4714         59.38   \n",
       "747               7780               5631                13411         58.01   \n",
       "1946               355                257                  612         58.01   \n",
       "590               2986               2176                 5162         57.85   \n",
       "959                499                364                  863         57.82   \n",
       "1147              1595               1173                 2768         57.62   \n",
       "1429              1148                870                 2018         56.89   \n",
       "541               7024               5361                12385         56.71   \n",
       "167               4071               3117                 7188         56.64   \n",
       "1478               441                338                  779         56.61   \n",
       "2025               766                592                 1358         56.41   \n",
       "310               1245                965                 2210         56.33   \n",
       "940               4361               3387                 7748         56.29   \n",
       "921                360                280                  640         56.25   \n",
       "646                352                274                  626         56.23   \n",
       "450               3101               2432                 5533         56.05   \n",
       "1796               410                323                  733         55.93   \n",
       "532               6447               5092                11539         55.87   \n",
       "529               6051               4799                10850         55.77   \n",
       "1269              2296               1828                 4124         55.67   \n",
       "\n",
       "        Style  \n",
       "906   Defence  \n",
       "747    Attack  \n",
       "1946   Attack  \n",
       "590   Defence  \n",
       "959    Attack  \n",
       "1147  Defence  \n",
       "1429   Attack  \n",
       "541    Attack  \n",
       "167    Attack  \n",
       "1478   Attack  \n",
       "2025   Attack  \n",
       "310    Attack  \n",
       "940    Attack  \n",
       "921    Attack  \n",
       "646    Attack  \n",
       "450    Attack  \n",
       "1796   Attack  \n",
       "532    Attack  \n",
       "529    Attack  \n",
       "1269   Attack  "
      ]
     },
     "execution_count": 99,
     "metadata": {},
     "output_type": "execute_result"
    }
   ],
   "source": [
    "min_10_df = win_rate_df[win_rate_df[\"Total Matches\"] >= 10]\n",
    "min_10_df.sort_values(by = \"Points Win %\", ascending=False).head(20)"
   ]
  },
  {
   "cell_type": "code",
   "execution_count": 81,
   "id": "6d04f951-141b-4adb-82b8-98a2b63ef800",
   "metadata": {},
   "outputs": [],
   "source": [
    "def generate_interactive_win_rate_plot(df):\n",
    "    \"\"\"\n",
    "    Generates an interactive scatter plot comparing a player's Points Win Rate (X-axis)\n",
    "    to their Match Win Rate (Y-axis), using Plotly for hover functionality.\n",
    "\n",
    "    Players are colored and symbolized based on their 'Style'.\n",
    "\n",
    "    Args:\n",
    "        df (pd.DataFrame): The DataFrame containing player statistics,\n",
    "                           must include 'Points Win %', 'Win %', 'Name', and 'Style'.\n",
    "\n",
    "    Returns:\n",
    "        plotly.graph_objects.Figure: The interactive plot figure.\n",
    "    \"\"\"\n",
    "    import plotly.express as px\n",
    "    import numpy as np\n",
    "\n",
    "    # 1. Define X and Y axes\n",
    "    X = df['Points Win %']\n",
    "    Y = df['Win %']\n",
    "\n",
    "    # 2. Define custom symbol map\n",
    "    # Attack = cross, Defense = circle\n",
    "    style_map = {\n",
    "        'Attack': 'cross',\n",
    "        'Defense': 'circle',\n",
    "    }\n",
    "\n",
    "    # 3. Create the scatter plot\n",
    "    fig = px.scatter(\n",
    "        df,\n",
    "        x=X,\n",
    "        y=Y,\n",
    "        title='Player Performance: Win Rate vs. Points Win Rate',\n",
    "        hover_name='Name',\n",
    "        hover_data={\n",
    "            'Points Win %': True,\n",
    "            'Win %': True,\n",
    "            'Outperformance Score': ':.2f',\n",
    "            'Name': False,\n",
    "            'Style': True\n",
    "        },\n",
    "        color='Style',\n",
    "        symbol='Style',\n",
    "        symbol_map=style_map,\n",
    "        labels={\n",
    "            'Points Win %': 'Total Points Win Rate (%)',\n",
    "            'Win %': 'Match Win Rate (%)'\n",
    "        },\n",
    "        template='plotly_white'\n",
    "    )\n",
    "\n",
    "    # 4. Calculate Trend Line and R-squared\n",
    "    z = np.polyfit(X, Y, 1)\n",
    "    m, b = z[0], z[1]\n",
    "    p = np.poly1d(z)\n",
    "    \n",
    "    # Calculate R-squared (Coefficient of Determination)\n",
    "    y_pred = p(X)\n",
    "    ss_res = np.sum((Y - y_pred)**2) # Sum of squares of the residuals\n",
    "    ss_tot = np.sum((Y - np.mean(Y))**2) # Total sum of squares\n",
    "    r_squared = 1 - (ss_res / ss_tot)\n",
    "    \n",
    "    # Create a line trace for the trend\n",
    "    trend_label = f'Linear Trend: Y = {m:.1f}X + {b:.1f} (R² = {r_squared:.2f})'\n",
    "\n",
    "    fig.add_scatter(\n",
    "        x=X,\n",
    "        y=y_pred,\n",
    "        mode='lines',\n",
    "        name=trend_label,\n",
    "        line=dict(color='#FF5722', width=3)\n",
    "    )\n",
    "\n",
    "    # 5. Customize Layout and Axis Limits for minimal whitespace\n",
    "    fig.update_layout(\n",
    "        xaxis_title='Total Points Win Rate (%)',\n",
    "        yaxis_title='Match Win Rate (%)',\n",
    "        height=700,\n",
    "        width=1000,\n",
    "        legend_title=\"Player Style\"\n",
    "    )\n",
    "\n",
    "    # Calculate dynamic limits (using 0-100 range with a 1-unit buffer)\n",
    "    BUFFER_FACTOR = 1  # Changed from 5 to 1\n",
    "\n",
    "    x_min_limit = max(0, X.min() - BUFFER_FACTOR)\n",
    "    x_max_limit = min(100, X.max() + BUFFER_FACTOR)\n",
    "    y_min_limit = max(0, Y.min() - BUFFER_FACTOR)\n",
    "    y_max_limit = min(100, Y.max() + BUFFER_FACTOR)\n",
    "\n",
    "    fig.update_xaxes(range=[x_min_limit, x_max_limit])\n",
    "    fig.update_yaxes(range=[y_min_limit, y_max_limit])\n",
    "\n",
    "    return fig\n",
    "\n",
    "# Note: The code to call this function and display it (e.g., fig.show(\"notebook\"))\n",
    "# is assumed to be outside of the function definition.\n"
   ]
  },
  {
   "cell_type": "code",
   "execution_count": 82,
   "id": "220a77a5-b7a8-4332-98cb-e3b941975e49",
   "metadata": {},
   "outputs": [
    {
     "name": "stderr",
     "output_type": "stream",
     "text": [
      "/tmp/ipykernel_18076/1414177750.py:11: SettingWithCopyWarning:\n",
      "\n",
      "\n",
      "A value is trying to be set on a copy of a slice from a DataFrame.\n",
      "Try using .loc[row_indexer,col_indexer] = value instead\n",
      "\n",
      "See the caveats in the documentation: https://pandas.pydata.org/pandas-docs/stable/user_guide/indexing.html#returning-a-view-versus-a-copy\n",
      "\n",
      "/tmp/ipykernel_18076/1414177750.py:17: SettingWithCopyWarning:\n",
      "\n",
      "\n",
      "A value is trying to be set on a copy of a slice from a DataFrame.\n",
      "Try using .loc[row_indexer,col_indexer] = value instead\n",
      "\n",
      "See the caveats in the documentation: https://pandas.pydata.org/pandas-docs/stable/user_guide/indexing.html#returning-a-view-versus-a-copy\n",
      "\n"
     ]
    }
   ],
   "source": [
    "X = min_10_df['Points Win %']\n",
    "Y = min_10_df['Win %']\n",
    "\n",
    "# --- 2. Calculate the Linear Trend Line Coefficients ---\n",
    "# z = [m, b] where Y = mX + b (Linear Regression)\n",
    "z = np.polyfit(X, Y, 1)\n",
    "m, b = z[0], z[1]\n",
    "\n",
    "# --- 3. Calculate Predicted Y and the Residual ---\n",
    "# Predicted Y (Win % expected based on Points Win %)\n",
    "min_10_df['Predicted Win %'] = m * X + b\n",
    "\n",
    "# Residual (Actual Win % - Predicted Win %)\n",
    "# A positive residual means the player is winning more matches than expected (clutch).\n",
    "# A negative residual means the player is winning fewer matches than expected (unlucky).\n",
    "\n",
    "min_10_df['Outperformance Score'] = min_10_df['Win %'] - min_10_df['Predicted Win %']\n"
   ]
  },
  {
   "cell_type": "code",
   "execution_count": 91,
   "id": "97fbcfce-bf0d-44e8-8ed7-935b420a62ef",
   "metadata": {},
   "outputs": [],
   "source": [
    "min_10_df.sort_values(by=\"Win %\",ascending=False).head(10)\n",
    "min_20_df = min_10_df[min_10_df[\"Total Matches\"]>50]"
   ]
  },
  {
   "cell_type": "code",
   "execution_count": 92,
   "id": "2ad937fd-46a5-409e-aca8-eff5c09d613e",
   "metadata": {},
   "outputs": [
    {
     "data": {
      "text/html": [
       "<div>\n",
       "<style scoped>\n",
       "    .dataframe tbody tr th:only-of-type {\n",
       "        vertical-align: middle;\n",
       "    }\n",
       "\n",
       "    .dataframe tbody tr th {\n",
       "        vertical-align: top;\n",
       "    }\n",
       "\n",
       "    .dataframe thead th {\n",
       "        text-align: right;\n",
       "    }\n",
       "</style>\n",
       "<table border=\"1\" class=\"dataframe\">\n",
       "  <thead>\n",
       "    <tr style=\"text-align: right;\">\n",
       "      <th></th>\n",
       "      <th>Name</th>\n",
       "      <th>PlayerID</th>\n",
       "      <th>Wins</th>\n",
       "      <th>Losses</th>\n",
       "      <th>Total Matches</th>\n",
       "      <th>Win %</th>\n",
       "      <th>Total Points Won</th>\n",
       "      <th>Total Points Lost</th>\n",
       "      <th>Total Points Played</th>\n",
       "      <th>Points Win %</th>\n",
       "      <th>Style</th>\n",
       "      <th>Predicted Win %</th>\n",
       "      <th>Outperformance Score</th>\n",
       "    </tr>\n",
       "  </thead>\n",
       "  <tbody>\n",
       "    <tr>\n",
       "      <th>924</th>\n",
       "      <td>Maryam ALI</td>\n",
       "      <td>133314</td>\n",
       "      <td>0</td>\n",
       "      <td>10</td>\n",
       "      <td>10</td>\n",
       "      <td>0.0</td>\n",
       "      <td>91</td>\n",
       "      <td>352</td>\n",
       "      <td>443</td>\n",
       "      <td>20.54</td>\n",
       "      <td>Attack</td>\n",
       "      <td>-74.242314</td>\n",
       "      <td>74.242314</td>\n",
       "    </tr>\n",
       "    <tr>\n",
       "      <th>863</th>\n",
       "      <td>Muhannad AL BALUSHI</td>\n",
       "      <td>132462</td>\n",
       "      <td>0</td>\n",
       "      <td>10</td>\n",
       "      <td>10</td>\n",
       "      <td>0.0</td>\n",
       "      <td>153</td>\n",
       "      <td>340</td>\n",
       "      <td>493</td>\n",
       "      <td>31.03</td>\n",
       "      <td>Attack</td>\n",
       "      <td>-30.113094</td>\n",
       "      <td>30.113094</td>\n",
       "    </tr>\n",
       "    <tr>\n",
       "      <th>1868</th>\n",
       "      <td>Mahdi AHMADIAN</td>\n",
       "      <td>204499</td>\n",
       "      <td>0</td>\n",
       "      <td>13</td>\n",
       "      <td>13</td>\n",
       "      <td>0.0</td>\n",
       "      <td>208</td>\n",
       "      <td>450</td>\n",
       "      <td>658</td>\n",
       "      <td>31.61</td>\n",
       "      <td>Attack</td>\n",
       "      <td>-27.673156</td>\n",
       "      <td>27.673156</td>\n",
       "    </tr>\n",
       "    <tr>\n",
       "      <th>435</th>\n",
       "      <td>FAN Siqi</td>\n",
       "      <td>119529</td>\n",
       "      <td>48</td>\n",
       "      <td>10</td>\n",
       "      <td>58</td>\n",
       "      <td>82.8</td>\n",
       "      <td>2322</td>\n",
       "      <td>1963</td>\n",
       "      <td>4285</td>\n",
       "      <td>54.19</td>\n",
       "      <td>Attack</td>\n",
       "      <td>67.316148</td>\n",
       "      <td>15.483852</td>\n",
       "    </tr>\n",
       "    <tr>\n",
       "      <th>754</th>\n",
       "      <td>Elizabet ABRAAMIAN</td>\n",
       "      <td>131231</td>\n",
       "      <td>24</td>\n",
       "      <td>5</td>\n",
       "      <td>29</td>\n",
       "      <td>82.8</td>\n",
       "      <td>1170</td>\n",
       "      <td>987</td>\n",
       "      <td>2157</td>\n",
       "      <td>54.24</td>\n",
       "      <td>Attack</td>\n",
       "      <td>67.526488</td>\n",
       "      <td>15.273512</td>\n",
       "    </tr>\n",
       "    <tr>\n",
       "      <th>1602</th>\n",
       "      <td>Hanka KODET</td>\n",
       "      <td>200095</td>\n",
       "      <td>7</td>\n",
       "      <td>6</td>\n",
       "      <td>13</td>\n",
       "      <td>53.8</td>\n",
       "      <td>425</td>\n",
       "      <td>472</td>\n",
       "      <td>897</td>\n",
       "      <td>47.38</td>\n",
       "      <td>Attack</td>\n",
       "      <td>38.667913</td>\n",
       "      <td>15.132087</td>\n",
       "    </tr>\n",
       "    <tr>\n",
       "      <th>412</th>\n",
       "      <td>Yuki MATSUYAMA</td>\n",
       "      <td>118886</td>\n",
       "      <td>9</td>\n",
       "      <td>4</td>\n",
       "      <td>13</td>\n",
       "      <td>69.2</td>\n",
       "      <td>485</td>\n",
       "      <td>463</td>\n",
       "      <td>948</td>\n",
       "      <td>51.16</td>\n",
       "      <td>Attack</td>\n",
       "      <td>54.569576</td>\n",
       "      <td>14.630424</td>\n",
       "    </tr>\n",
       "    <tr>\n",
       "      <th>530</th>\n",
       "      <td>FAN Zhendong</td>\n",
       "      <td>121404</td>\n",
       "      <td>74</td>\n",
       "      <td>11</td>\n",
       "      <td>85</td>\n",
       "      <td>87.1</td>\n",
       "      <td>3902</td>\n",
       "      <td>3118</td>\n",
       "      <td>7020</td>\n",
       "      <td>55.58</td>\n",
       "      <td>Attack</td>\n",
       "      <td>73.163586</td>\n",
       "      <td>13.936414</td>\n",
       "    </tr>\n",
       "    <tr>\n",
       "      <th>1164</th>\n",
       "      <td>Rawad ALNASER</td>\n",
       "      <td>135383</td>\n",
       "      <td>3</td>\n",
       "      <td>8</td>\n",
       "      <td>11</td>\n",
       "      <td>27.3</td>\n",
       "      <td>261</td>\n",
       "      <td>369</td>\n",
       "      <td>630</td>\n",
       "      <td>41.43</td>\n",
       "      <td>Attack</td>\n",
       "      <td>13.637516</td>\n",
       "      <td>13.662484</td>\n",
       "    </tr>\n",
       "    <tr>\n",
       "      <th>318</th>\n",
       "      <td>PARK Chan-Hyeok</td>\n",
       "      <td>115559</td>\n",
       "      <td>10</td>\n",
       "      <td>4</td>\n",
       "      <td>14</td>\n",
       "      <td>71.4</td>\n",
       "      <td>549</td>\n",
       "      <td>508</td>\n",
       "      <td>1057</td>\n",
       "      <td>51.94</td>\n",
       "      <td>Attack</td>\n",
       "      <td>57.850872</td>\n",
       "      <td>13.549128</td>\n",
       "    </tr>\n",
       "  </tbody>\n",
       "</table>\n",
       "</div>"
      ],
      "text/plain": [
       "                     Name  PlayerID  Wins  Losses  Total Matches  Win %  \\\n",
       "924            Maryam ALI    133314     0      10             10    0.0   \n",
       "863   Muhannad AL BALUSHI    132462     0      10             10    0.0   \n",
       "1868       Mahdi AHMADIAN    204499     0      13             13    0.0   \n",
       "435              FAN Siqi    119529    48      10             58   82.8   \n",
       "754    Elizabet ABRAAMIAN    131231    24       5             29   82.8   \n",
       "1602          Hanka KODET    200095     7       6             13   53.8   \n",
       "412        Yuki MATSUYAMA    118886     9       4             13   69.2   \n",
       "530          FAN Zhendong    121404    74      11             85   87.1   \n",
       "1164        Rawad ALNASER    135383     3       8             11   27.3   \n",
       "318       PARK Chan-Hyeok    115559    10       4             14   71.4   \n",
       "\n",
       "      Total Points Won  Total Points Lost  Total Points Played  Points Win %  \\\n",
       "924                 91                352                  443         20.54   \n",
       "863                153                340                  493         31.03   \n",
       "1868               208                450                  658         31.61   \n",
       "435               2322               1963                 4285         54.19   \n",
       "754               1170                987                 2157         54.24   \n",
       "1602               425                472                  897         47.38   \n",
       "412                485                463                  948         51.16   \n",
       "530               3902               3118                 7020         55.58   \n",
       "1164               261                369                  630         41.43   \n",
       "318                549                508                 1057         51.94   \n",
       "\n",
       "       Style  Predicted Win %  Outperformance Score  \n",
       "924   Attack       -74.242314             74.242314  \n",
       "863   Attack       -30.113094             30.113094  \n",
       "1868  Attack       -27.673156             27.673156  \n",
       "435   Attack        67.316148             15.483852  \n",
       "754   Attack        67.526488             15.273512  \n",
       "1602  Attack        38.667913             15.132087  \n",
       "412   Attack        54.569576             14.630424  \n",
       "530   Attack        73.163586             13.936414  \n",
       "1164  Attack        13.637516             13.662484  \n",
       "318   Attack        57.850872             13.549128  "
      ]
     },
     "execution_count": 92,
     "metadata": {},
     "output_type": "execute_result"
    }
   ],
   "source": [
    "sort_by = \"Outperformance Score\"\n",
    "min_10_df.sort_values(by=sort_by,ascending=False).head(10)\n"
   ]
  },
  {
   "cell_type": "code",
   "execution_count": 94,
   "id": "61a280e7-f89a-42b3-b3b5-942f59e0fb3f",
   "metadata": {},
   "outputs": [
    {
     "data": {
      "application/vnd.plotly.v1+json": {
       "config": {
        "plotlyServerURL": "https://plot.ly"
       },
       "data": [
        {
         "customdata": [
          [
           -5.995380924642731,
           "Mihai BOBOCICA",
           "Attack"
          ],
          [
           -0.1792059088404656,
           "CHUANG Chih-Yuan",
           "Attack"
          ],
          [
           1.5233233604003331,
           "Paul DRINKHALL",
           "Attack"
          ],
          [
           4.346287754352488,
           "Patrick FRANZISKA",
           "Attack"
          ],
          [
           -1.4552876836331734,
           "Marcos FREITAS",
           "Attack"
          ],
          [
           -1.4868607068245367,
           "Fu YU",
           "Attack"
          ],
          [
           -2.815194442623593,
           "Andrej GACINA",
           "Attack"
          ],
          [
           -7.188280743127585,
           "Robert GARDOS",
           "Attack"
          ],
          [
           -1.5289286006060436,
           "Sathiyan GNANASEKARAN",
           "Attack"
          ],
          [
           -1.6517375928755627,
           "Daniel HABESOHN",
           "Attack"
          ],
          [
           -2.524823893379555,
           "HUANG Yi-Hua",
           "Attack"
          ],
          [
           3.066811290484864,
           "Ovidiu IONESCU",
           "Attack"
          ],
          [
           -1.4317686732120904,
           "Sharath Kamal ACHANTA",
           "Attack"
          ],
          [
           0.2917503372089385,
           "Kristian KARLSSON",
           "Attack"
          ],
          [
           -0.6709964943875519,
           "LEE Ho Ching",
           "Attack"
          ],
          [
           1.4639712178788145,
           "LEE Sang Su",
           "Attack"
          ],
          [
           3.9936365785598866,
           "MA Long",
           "Attack"
          ],
          [
           -3.1214292043046115,
           "Hana MATELOVA",
           "Attack"
          ],
          [
           3.7444685032632066,
           "Steffen MENGEL",
           "Attack"
          ],
          [
           -3.866891787161066,
           "Joao MONTEIRO",
           "Attack"
          ],
          [
           -2.7701310745533974,
           "Xia Lian NI",
           "Attack"
          ],
          [
           -0.06121164194894391,
           "Margaryta PESOTSKA",
           "Attack"
          ],
          [
           2.4047744770398793,
           "Lubomir PISTEJ",
           "Attack"
          ],
          [
           0.057891857880377984,
           "Sofia POLCANOVA",
           "Attack"
          ],
          [
           0.11653398225043787,
           "Georgina POTA",
           "Attack"
          ],
          [
           3.243136878381165,
           "Elizabeta SAMARA",
           "Attack"
          ],
          [
           -3.0912762174162722,
           "Niagol STOYANOV",
           "Attack"
          ],
          [
           -3.8415535256506956,
           "Andrea TODOROVIC",
           "Attack"
          ],
          [
           5.941473028974521,
           "Ricardo WALTHER",
           "Attack"
          ],
          [
           -3.4889907612790694,
           "Yaroslav ZHMUDENKO",
           "Attack"
          ],
          [
           3.7994051351930125,
           "Noshad ALAMIYAN",
           "Attack"
          ],
          [
           -0.19451550480857804,
           "Alvaro ROBLES",
           "Attack"
          ],
          [
           0.24218304712603356,
           "Sabine WINTER",
           "Attack"
          ],
          [
           2.6584464743493044,
           "Maria XIAO",
           "Attack"
          ],
          [
           -1.1796721138883512,
           "Rachel MORET",
           "Attack"
          ],
          [
           -0.3075396446395189,
           "Harmeet DESAI",
           "Attack"
          ],
          [
           -1.775412004979259,
           "Dina MESHREF",
           "Attack"
          ],
          [
           -1.1269539478341173,
           "Suthasini SAWETTABUT",
           "Attack"
          ],
          [
           0.6593118941834604,
           "Xiaona SHAN",
           "Attack"
          ],
          [
           2.7772177496539996,
           "CHEN Meng",
           "Attack"
          ],
          [
           -2.0508721730414123,
           "Simon GAUZY",
           "Attack"
          ],
          [
           2.088355648133998,
           "Mattias FALCK",
           "Attack"
          ],
          [
           1.9750207049378048,
           "Quadri ARUNA",
           "Attack"
          ],
          [
           1.1530771325024105,
           "Lily ZHANG",
           "Attack"
          ],
          [
           0.18946488107177117,
           "Sarah DE NUTTE",
           "Attack"
          ],
          [
           -0.94590204598083,
           "YANG Ha Eun",
           "Attack"
          ],
          [
           6.387645629982487,
           "Jonathan GROTH",
           "Attack"
          ],
          [
           -1.6558423001020444,
           "Liam PITCHFORD",
           "Attack"
          ],
          [
           -0.4065858133843818,
           "Mateja JEGER",
           "Attack"
          ],
          [
           -2.033898727666653,
           "WONG Chun Ting",
           "Attack"
          ],
          [
           3.4049298787225197,
           "Xiaoxin YANG",
           "Attack"
          ],
          [
           -1.0766766395996683,
           "Sibel ALTINKAYA",
           "Attack"
          ],
          [
           1.2682313267879124,
           "LIU Hsing-Yin",
           "Attack"
          ],
          [
           -3.102481106157896,
           "CHEW Clarence",
           "Attack"
          ],
          [
           -5.763652499768753,
           "Mehdi BOULOUSSA",
           "Attack"
          ],
          [
           4.100669769813393,
           "Britt EERLAND",
           "Attack"
          ],
          [
           1.1655466558644463,
           "Jakub DYJAS",
           "Attack"
          ],
          [
           2.140052992671471,
           "Lea RAKOVAC",
           "Attack"
          ],
          [
           -2.0745465851451073,
           "CHEN Szu-Yu",
           "Attack"
          ],
          [
           1.6892210679681483,
           "Elias RANEFUR",
           "Attack"
          ],
          [
           -0.7178791135469993,
           "CHENG Hsien-Tzu",
           "Attack"
          ],
          [
           0.3937249899808961,
           "Florent LAMBIET",
           "Attack"
          ],
          [
           6.731133560067015,
           "Dang QIU",
           "Attack"
          ],
          [
           1.333662829307812,
           "Samuel WALKER",
           "Attack"
          ],
          [
           0.7689413449393925,
           "Nina MITTELHAM",
           "Attack"
          ],
          [
           2.4345282491419624,
           "Martin ALLEGRO",
           "Attack"
          ],
          [
           3.2070599331770566,
           "JANG Woojin",
           "Attack"
          ],
          [
           -7.089301564644348,
           "Brian AFANADOR",
           "Attack"
          ],
          [
           0.45307713250240766,
           "Adriana DIAZ",
           "Attack"
          ],
          [
           3.3676767103189817,
           "Anders LIND",
           "Attack"
          ],
          [
           -0.9939608883397071,
           "Sofia-Xuan ZHANG",
           "Attack"
          ],
          [
           4.075020704937806,
           "Giorgia PICCOLIN",
           "Attack"
          ],
          [
           0.36452583434768826,
           "Tin-Tin HO",
           "Attack"
          ],
          [
           -1.8855960722041232,
           "Andreas LEVENKO",
           "Attack"
          ],
          [
           0.5675213086363726,
           "Natalia BAJOR",
           "Attack"
          ],
          [
           -3.5836214194322267,
           "DOO Hoi Kem",
           "Attack"
          ],
          [
           -2.762942481617216,
           "KWAN Man Ho",
           "Attack"
          ],
          [
           1.535082865610832,
           "LAM Siu Hang",
           "Attack"
          ],
          [
           8.120394876373268,
           "Hugo CALDERANO",
           "Attack"
          ],
          [
           -0.19806559556619163,
           "Manika BATRA",
           "Attack"
          ],
          [
           4.111719256872412,
           "Kanak JHA",
           "Attack"
          ],
          [
           2.33650290191391,
           "LAM Yee Lok",
           "Attack"
          ],
          [
           5.526873451157918,
           "Tomislav PUCAR",
           "Attack"
          ],
          [
           2.9462877543524897,
           "Can AKKUZU",
           "Attack"
          ],
          [
           0.7933257751946314,
           "Benedikt DUDA",
           "Attack"
          ],
          [
           -0.8421081421196206,
           "Chantal MANTZ",
           "Attack"
          ],
          [
           0.24060760914036905,
           "Filip ZELJKO",
           "Attack"
          ],
          [
           -0.9389572661482646,
           "PARK Ganghyeon",
           "Attack"
          ],
          [
           5.440363796036749,
           "ZHOU Kai",
           "Attack"
          ],
          [
           3.277306161074975,
           "LIM Jonghoon",
           "Attack"
          ],
          [
           -3.4786512923715946,
           "Sutirtha MUKHERJEE",
           "Attack"
          ],
          [
           0.6724914356970118,
           "Adina DIACONU",
           "Attack"
          ],
          [
           3.4699621664561846,
           "Miu HIRANO",
           "Attack"
          ],
          [
           4.938943759733718,
           "Mima ITO",
           "Attack"
          ],
          [
           5.261286546955354,
           "Kirill GERASSIMENKO",
           "Attack"
          ],
          [
           1.2391875728373165,
           "Christina KALLBERG",
           "Attack"
          ],
          [
           -1.8054095901849863,
           "Yuan WAN",
           "Attack"
          ],
          [
           1.4758861247719537,
           "Deni KOZUL",
           "Attack"
          ],
          [
           2.9527663291371624,
           "Karoline MISCHEK",
           "Attack"
          ],
          [
           1.3222141274625585,
           "Darko JORGIC",
           "Attack"
          ],
          [
           -0.9579723545566097,
           "JEON Jihee",
           "Attack"
          ],
          [
           -0.23784803321049708,
           "YOON Hyobin",
           "Attack"
          ],
          [
           7.048417808807045,
           "CHO Seungmin",
           "Attack"
          ],
          [
           0.6420276454433917,
           "LEE Zion",
           "Attack"
          ],
          [
           15.483851726121273,
           "FAN Siqi",
           "Attack"
          ],
          [
           5.672092220910741,
           "ZHOU Qihao",
           "Attack"
          ],
          [
           0.9523671143508992,
           "Ayhika MUKHERJEE",
           "Attack"
          ],
          [
           7.318974840070254,
           "Sakura MORI",
           "Attack"
          ],
          [
           0.834528249141961,
           "LIAO Cheng-Ting",
           "Attack"
          ],
          [
           11.162462770154747,
           "LIANG Jingkun",
           "Attack"
          ],
          [
           -1.6407765172375548,
           "HE Zhuojia",
           "Attack"
          ],
          [
           3.9769069462887217,
           "QIAN Tianyi",
           "Attack"
          ],
          [
           4.150947078047878,
           "Luka MLADENOVIC",
           "Attack"
          ],
          [
           -0.011245137079740175,
           "Filippa BERGAND",
           "Attack"
          ],
          [
           -0.6737481555725822,
           "Peter HRIBAR",
           "Attack"
          ],
          [
           -3.3160598624577133,
           "Izabela LUPULESKU",
           "Attack"
          ],
          [
           0.8069045314944461,
           "Rares SIPOS",
           "Attack"
          ],
          [
           -3.0035903390957017,
           "Carlo ROSSI",
           "Attack"
          ],
          [
           3.0468423708213876,
           "Matteo MUTTI",
           "Attack"
          ],
          [
           -0.19127621741627365,
           "Gaia MONFARDINI",
           "Attack"
          ],
          [
           0.08851104981663127,
           "Mizuki OIKAWA",
           "Attack"
          ],
          [
           3.551657096199385,
           "Florian BOURRASSAUD",
           "Attack"
          ],
          [
           2.301379787964933,
           "Orawan PARANANG",
           "Attack"
          ],
          [
           2.1739114720000288,
           "Samuel KULCZYCKI",
           "Attack"
          ],
          [
           -0.7747019868277434,
           "Katarzyna WEGRZYN",
           "Attack"
          ],
          [
           3.650237059896334,
           "Cristian PLETEA",
           "Attack"
          ],
          [
           -1.2544222637990217,
           "Sabina SURJAN",
           "Attack"
          ],
          [
           -0.9725719323732136,
           "Jieni SHAO",
           "Attack"
          ],
          [
           2.237124508644385,
           "CHEN Xingtong",
           "Attack"
          ],
          [
           13.936414490492893,
           "FAN Zhendong",
           "Attack"
          ],
          [
           7.162462770154747,
           "LIU Dingshuo",
           "Attack"
          ],
          [
           8.516445570829433,
           "WANG Manyu",
           "Attack"
          ],
          [
           -1.697599390518306,
           "XUE Fei",
           "Attack"
          ],
          [
           8.286225593679433,
           "AN Jaehyun",
           "Attack"
          ],
          [
           7.482742493183508,
           "WANG Chuqin",
           "Attack"
          ],
          [
           4.5334190162042205,
           "LIN Yun-Ju",
           "Attack"
          ],
          [
           1.4882002464513846,
           "Bruna TAKAHASHI",
           "Attack"
          ],
          [
           -4.315904460775101,
           "Tom JARVIS",
           "Attack"
          ],
          [
           0.747552388972899,
           "Oceane GUISNEL",
           "Attack"
          ],
          [
           -1.1372934167415991,
           "Vincent PICARD",
           "Attack"
          ],
          [
           4.1256088165375076,
           "Lilian BARDET",
           "Attack"
          ],
          [
           3.722214127462557,
           "LEE Eunhye",
           "Attack"
          ],
          [
           -6.6960909427942426,
           "Maciej KOLODZIEJCZYK",
           "Attack"
          ],
          [
           -4.986306090355633,
           "Bastien REMBERT",
           "Attack"
          ],
          [
           -10.227663965985627,
           "Solomiya BRATEYKO",
           "Attack"
          ],
          [
           -1.1275085643029925,
           "Andreea DRAGOMAN",
           "Attack"
          ],
          [
           1.6035098424194985,
           "Sreeja AKULA",
           "Attack"
          ],
          [
           0.027738870992067177,
           "FENG Yi-Hsin",
           "Attack"
          ],
          [
           5.177306161074981,
           "Yukiya UDA",
           "Attack"
          ],
          [
           -4.694826308173859,
           "Ana TOFANT",
           "Attack"
          ],
          [
           2.5519678995646373,
           "KIM Hayeong",
           "Attack"
          ],
          [
           3.7729576407448917,
           "SHI Xunyao",
           "Attack"
          ],
          [
           -7.162942481617215,
           "Dimitrije LEVAJAC",
           "Attack"
          ],
          [
           -5.073437352207364,
           "Zauresh AKASHEVA",
           "Attack"
          ],
          [
           -0.4488975202695116,
           "Fanbo MENG",
           "Attack"
          ],
          [
           -1.3826005979154417,
           "Jules ROLLAND",
           "Attack"
          ],
          [
           2.7856709772105575,
           "Leo DE NODREST",
           "Attack"
          ],
          [
           0.40619451334290346,
           "ZHU Chengzhu",
           "Attack"
          ],
          [
           6.6598665106523285,
           "Tania PLAIAN",
           "Attack"
          ],
          [
           -1.853157629178611,
           "Camille LUTZ",
           "Attack"
          ],
          [
           -0.2392680695135212,
           "Adrien RASSENFOSSE",
           "Attack"
          ],
          [
           7.136414490492896,
           "Saki SHIBATA",
           "Attack"
          ],
          [
           1.2183532333397267,
           "Jinnipa SAWETTABUT",
           "Attack"
          ],
          [
           3.3132946948580724,
           "CHO Daeseong",
           "Attack"
          ],
          [
           2.6368137052791667,
           "SHIN Yubin",
           "Attack"
          ],
          [
           5.513450096540737,
           "Tomokazu HARIMOTO",
           "Attack"
          ],
          [
           4.309500790996864,
           "WANG Yidi",
           "Attack"
          ],
          [
           0.5049298787225212,
           "LI Yu-Jhun",
           "Attack"
          ],
          [
           6.9061945133429035,
           "CHIEN Tung-Chuan",
           "Attack"
          ],
          [
           -1.1765212379170578,
           "HUANG Yan-Cheng",
           "Attack"
          ],
          [
           3.6608873321690893,
           "Miyuu KIHARA",
           "Attack"
          ],
          [
           -6.510379717245591,
           "Franziska SCHREINER",
           "Attack"
          ],
          [
           2.804774477039885,
           "Prithika PAVADE",
           "Attack"
          ],
          [
           7.970516782925088,
           "XU Yingbin",
           "Attack"
          ],
          [
           8.613916301588631,
           "SUN Yingsha",
           "Attack"
          ],
          [
           0.4406076091403719,
           "Borgar HAUG",
           "Attack"
          ],
          [
           -6.474147370358843,
           "Hana GODA",
           "Attack"
          ],
          [
           -2.479915926992007,
           "ZENG Jian",
           "Attack"
          ],
          [
           5.6505478632616075,
           "Yuta TANAKA",
           "Attack"
          ],
          [
           -1.0592369891769948,
           "Diya CHITALE",
           "Attack"
          ],
          [
           1.0994051351930096,
           "CHOI Hyojoo",
           "Attack"
          ],
          [
           0.7924603553604825,
           "Anna HURSEY",
           "Attack"
          ],
          [
           2.708169166114857,
           "Amir Hossein HODAEI",
           "Attack"
          ],
          [
           -2.281335963295028,
           "Maciej KUBIK",
           "Attack"
          ],
          [
           -0.6649171343891709,
           "Albert VILARDELL",
           "Attack"
          ],
          [
           -1.073281950524695,
           "Isa COK",
           "Attack"
          ],
          [
           -0.22963861875755498,
           "Manush SHAH",
           "Attack"
          ],
          [
           -3.189146162961734,
           "PANG Koen",
           "Attack"
          ],
          [
           -2.1511829764066874,
           "Payas JAIN",
           "Attack"
          ],
          [
           -2.5178791135469965,
           "Kay STUMPER",
           "Attack"
          ],
          [
           10.971382202759202,
           "CHEN Yi",
           "Attack"
          ],
          [
           4.169495961408323,
           "NG Wing Lam",
           "Attack"
          ],
          [
           -5.116614478926643,
           "LEE Hoi Man",
           "Attack"
          ],
          [
           -6.997355577414652,
           "YIU Kwan To",
           "Attack"
          ],
          [
           -0.033188709515137305,
           "Hana ARAPOVIC",
           "Attack"
          ],
          [
           0.6767515446061054,
           "Alexis LEBRUN",
           "Attack"
          ],
          [
           -4.613219789851669,
           "Ece HARAC",
           "Attack"
          ],
          [
           5.7559172051084815,
           "KIM Taehyun",
           "Attack"
          ],
          [
           3.1495940320064477,
           "Satsuki ODO",
           "Attack"
          ],
          [
           -1.7654717508580404,
           "Cedric MEISSNER",
           "Attack"
          ],
          [
           6.21416011469222,
           "HAN Feier",
           "Attack"
          ],
          [
           6.505329093508784,
           "Swastika GHOSH",
           "Attack"
          ],
          [
           0.482986306287124,
           "Shunsuke TOGAMI",
           "Attack"
          ],
          [
           -0.28078134682615286,
           "QUEK Izaac",
           "Attack"
          ],
          [
           2.709345389314251,
           "PARK Gyuhyeon",
           "Attack"
          ],
          [
           -1.6606570254800133,
           "KIM Nayeong",
           "Attack"
          ],
          [
           4.860177314017577,
           "YUAN Licen",
           "Attack"
          ],
          [
           -5.5618332486794415,
           "CHUA Josh",
           "Attack"
          ],
          [
           -0.3854406705215112,
           "CHAN Baldwin",
           "Attack"
          ],
          [
           3.2582026612456616,
           "XU Haidong",
           "Attack"
          ],
          [
           4.444468503263209,
           "LIU Weishan",
           "Attack"
          ],
          [
           3.944313101580562,
           "NIU Guankai",
           "Attack"
          ],
          [
           4.380146233681053,
           "Hiroto SHINOZUKA",
           "Attack"
          ],
          [
           3.874222275365284,
           "Kazuki HAMADA",
           "Attack"
          ],
          [
           0.6564718215773553,
           "Juan PEREZ",
           "Attack"
          ],
          [
           1.1646812360302974,
           "Thibault PORET",
           "Attack"
          ],
          [
           2.434839052507243,
           "Asuka SASAO",
           "Attack"
          ],
          [
           7.077860777543847,
           "Milosz REDZIMSKI",
           "Attack"
          ],
          [
           0.3951450262839131,
           "Eduard IONESCU",
           "Attack"
          ],
          [
           7.095611231331773,
           "KUAI Man",
           "Attack"
          ],
          [
           10.760177314017582,
           "CHEN Yuanyu",
           "Attack"
          ],
          [
           2.1828309046044865,
           "OH Junsung",
           "Attack"
          ],
          [
           3.728293487460938,
           "Annett KAUFMANN",
           "Attack"
          ],
          [
           4.446842370821386,
           "Charlotte LUTZ",
           "Attack"
          ],
          [
           6.301535189647545,
           "MA Jinbao",
           "Attack"
          ],
          [
           5.274066873682671,
           "XIANG Peng",
           "Attack"
          ],
          [
           9.589775684437043,
           "ZENG Beixun",
           "Attack"
          ],
          [
           5.0052406820877735,
           "Sakura YOKOI",
           "Attack"
          ],
          [
           6.094191195028756,
           "Felix LEBRUN",
           "Attack"
          ],
          [
           3.3546525704880708,
           "Sora MATSUSHIMA",
           "Attack"
          ],
          [
           4.56925214830467,
           "WU Yangchen",
           "Attack"
          ],
          [
           -1.2421965535406088,
           "Kaho AKAE",
           "Attack"
          ],
          [
           -0.8685556365677343,
           "FAN Shuhan",
           "Attack"
          ],
          [
           4.110765425617274,
           "WANG Xiaotong",
           "Attack"
          ],
          [
           4.796321249483313,
           "Miwa HARIMOTO",
           "Attack"
          ],
          [
           4.251967899564633,
           "Ryoichi YOSHIYAMA",
           "Attack"
          ],
          [
           1.7649920393955796,
           "YEH Yi-Tian",
           "Attack"
          ],
          [
           5.294346596711392,
           "LIN Shidong",
           "Attack"
          ],
          [
           1.8409184125056157,
           "HUANG Youzheng",
           "Attack"
          ],
          [
           8.83128896174965,
           "XU Yi",
           "Attack"
          ],
          [
           -2.981491364977664,
           "Yangzi LIU",
           "Attack"
          ],
          [
           2.4437584851116867,
           "SUN Wen",
           "Attack"
          ],
          [
           1.5612865469553512,
           "Yashaswini GHORPADE",
           "Attack"
          ],
          [
           -0.8752566032966484,
           "Jia Nan YUAN",
           "Attack"
          ],
          [
           5.814004713009609,
           "QIN Yuxuan",
           "Attack"
          ],
          [
           -1.980470543460875,
           "JOO Cheonhui",
           "Attack"
          ],
          [
           2.4478631923381755,
           "ZONG Geman",
           "Attack"
          ]
         ],
         "hovertemplate": "<b>%{hovertext}</b><br><br>Style=%{customdata[2]}<br>Total Points Win Rate (%)=%{x}<br>Match Win Rate (%)=%{y}<br>Outperformance Score=%{customdata[0]:.2f}<extra></extra>",
         "hovertext": [
          "Mihai BOBOCICA",
          "CHUANG Chih-Yuan",
          "Paul DRINKHALL",
          "Patrick FRANZISKA",
          "Marcos FREITAS",
          "Fu YU",
          "Andrej GACINA",
          "Robert GARDOS",
          "Sathiyan GNANASEKARAN",
          "Daniel HABESOHN",
          "HUANG Yi-Hua",
          "Ovidiu IONESCU",
          "Sharath Kamal ACHANTA",
          "Kristian KARLSSON",
          "LEE Ho Ching",
          "LEE Sang Su",
          "MA Long",
          "Hana MATELOVA",
          "Steffen MENGEL",
          "Joao MONTEIRO",
          "Xia Lian NI",
          "Margaryta PESOTSKA",
          "Lubomir PISTEJ",
          "Sofia POLCANOVA",
          "Georgina POTA",
          "Elizabeta SAMARA",
          "Niagol STOYANOV",
          "Andrea TODOROVIC",
          "Ricardo WALTHER",
          "Yaroslav ZHMUDENKO",
          "Noshad ALAMIYAN",
          "Alvaro ROBLES",
          "Sabine WINTER",
          "Maria XIAO",
          "Rachel MORET",
          "Harmeet DESAI",
          "Dina MESHREF",
          "Suthasini SAWETTABUT",
          "Xiaona SHAN",
          "CHEN Meng",
          "Simon GAUZY",
          "Mattias FALCK",
          "Quadri ARUNA",
          "Lily ZHANG",
          "Sarah DE NUTTE",
          "YANG Ha Eun",
          "Jonathan GROTH",
          "Liam PITCHFORD",
          "Mateja JEGER",
          "WONG Chun Ting",
          "Xiaoxin YANG",
          "Sibel ALTINKAYA",
          "LIU Hsing-Yin",
          "CHEW Clarence",
          "Mehdi BOULOUSSA",
          "Britt EERLAND",
          "Jakub DYJAS",
          "Lea RAKOVAC",
          "CHEN Szu-Yu",
          "Elias RANEFUR",
          "CHENG Hsien-Tzu",
          "Florent LAMBIET",
          "Dang QIU",
          "Samuel WALKER",
          "Nina MITTELHAM",
          "Martin ALLEGRO",
          "JANG Woojin",
          "Brian AFANADOR",
          "Adriana DIAZ",
          "Anders LIND",
          "Sofia-Xuan ZHANG",
          "Giorgia PICCOLIN",
          "Tin-Tin HO",
          "Andreas LEVENKO",
          "Natalia BAJOR",
          "DOO Hoi Kem",
          "KWAN Man Ho",
          "LAM Siu Hang",
          "Hugo CALDERANO",
          "Manika BATRA",
          "Kanak JHA",
          "LAM Yee Lok",
          "Tomislav PUCAR",
          "Can AKKUZU",
          "Benedikt DUDA",
          "Chantal MANTZ",
          "Filip ZELJKO",
          "PARK Ganghyeon",
          "ZHOU Kai",
          "LIM Jonghoon",
          "Sutirtha MUKHERJEE",
          "Adina DIACONU",
          "Miu HIRANO",
          "Mima ITO",
          "Kirill GERASSIMENKO",
          "Christina KALLBERG",
          "Yuan WAN",
          "Deni KOZUL",
          "Karoline MISCHEK",
          "Darko JORGIC",
          "JEON Jihee",
          "YOON Hyobin",
          "CHO Seungmin",
          "LEE Zion",
          "FAN Siqi",
          "ZHOU Qihao",
          "Ayhika MUKHERJEE",
          "Sakura MORI",
          "LIAO Cheng-Ting",
          "LIANG Jingkun",
          "HE Zhuojia",
          "QIAN Tianyi",
          "Luka MLADENOVIC",
          "Filippa BERGAND",
          "Peter HRIBAR",
          "Izabela LUPULESKU",
          "Rares SIPOS",
          "Carlo ROSSI",
          "Matteo MUTTI",
          "Gaia MONFARDINI",
          "Mizuki OIKAWA",
          "Florian BOURRASSAUD",
          "Orawan PARANANG",
          "Samuel KULCZYCKI",
          "Katarzyna WEGRZYN",
          "Cristian PLETEA",
          "Sabina SURJAN",
          "Jieni SHAO",
          "CHEN Xingtong",
          "FAN Zhendong",
          "LIU Dingshuo",
          "WANG Manyu",
          "XUE Fei",
          "AN Jaehyun",
          "WANG Chuqin",
          "LIN Yun-Ju",
          "Bruna TAKAHASHI",
          "Tom JARVIS",
          "Oceane GUISNEL",
          "Vincent PICARD",
          "Lilian BARDET",
          "LEE Eunhye",
          "Maciej KOLODZIEJCZYK",
          "Bastien REMBERT",
          "Solomiya BRATEYKO",
          "Andreea DRAGOMAN",
          "Sreeja AKULA",
          "FENG Yi-Hsin",
          "Yukiya UDA",
          "Ana TOFANT",
          "KIM Hayeong",
          "SHI Xunyao",
          "Dimitrije LEVAJAC",
          "Zauresh AKASHEVA",
          "Fanbo MENG",
          "Jules ROLLAND",
          "Leo DE NODREST",
          "ZHU Chengzhu",
          "Tania PLAIAN",
          "Camille LUTZ",
          "Adrien RASSENFOSSE",
          "Saki SHIBATA",
          "Jinnipa SAWETTABUT",
          "CHO Daeseong",
          "SHIN Yubin",
          "Tomokazu HARIMOTO",
          "WANG Yidi",
          "LI Yu-Jhun",
          "CHIEN Tung-Chuan",
          "HUANG Yan-Cheng",
          "Miyuu KIHARA",
          "Franziska SCHREINER",
          "Prithika PAVADE",
          "XU Yingbin",
          "SUN Yingsha",
          "Borgar HAUG",
          "Hana GODA",
          "ZENG Jian",
          "Yuta TANAKA",
          "Diya CHITALE",
          "CHOI Hyojoo",
          "Anna HURSEY",
          "Amir Hossein HODAEI",
          "Maciej KUBIK",
          "Albert VILARDELL",
          "Isa COK",
          "Manush SHAH",
          "PANG Koen",
          "Payas JAIN",
          "Kay STUMPER",
          "CHEN Yi",
          "NG Wing Lam",
          "LEE Hoi Man",
          "YIU Kwan To",
          "Hana ARAPOVIC",
          "Alexis LEBRUN",
          "Ece HARAC",
          "KIM Taehyun",
          "Satsuki ODO",
          "Cedric MEISSNER",
          "HAN Feier",
          "Swastika GHOSH",
          "Shunsuke TOGAMI",
          "QUEK Izaac",
          "PARK Gyuhyeon",
          "KIM Nayeong",
          "YUAN Licen",
          "CHUA Josh",
          "CHAN Baldwin",
          "XU Haidong",
          "LIU Weishan",
          "NIU Guankai",
          "Hiroto SHINOZUKA",
          "Kazuki HAMADA",
          "Juan PEREZ",
          "Thibault PORET",
          "Asuka SASAO",
          "Milosz REDZIMSKI",
          "Eduard IONESCU",
          "KUAI Man",
          "CHEN Yuanyu",
          "OH Junsung",
          "Annett KAUFMANN",
          "Charlotte LUTZ",
          "MA Jinbao",
          "XIANG Peng",
          "ZENG Beixun",
          "Sakura YOKOI",
          "Felix LEBRUN",
          "Sora MATSUSHIMA",
          "WU Yangchen",
          "Kaho AKAE",
          "FAN Shuhan",
          "WANG Xiaotong",
          "Miwa HARIMOTO",
          "Ryoichi YOSHIYAMA",
          "YEH Yi-Tian",
          "LIN Shidong",
          "HUANG Youzheng",
          "XU Yi",
          "Yangzi LIU",
          "SUN Wen",
          "Yashaswini GHORPADE",
          "Jia Nan YUAN",
          "QIN Yuxuan",
          "JOO Cheonhui",
          "ZONG Geman"
         ],
         "legendgroup": "Attack",
         "marker": {
          "color": "#636efa",
          "symbol": "cross"
         },
         "mode": "markers",
         "name": "Attack",
         "orientation": "v",
         "showlegend": true,
         "type": "scatter",
         "x": {
          "bdata": "PQrXo3A9SEAzMzMzM7NJQOF6FK5HoUhA16NwPQqXSUDNzMzMzKxIQOF6FK5HYUlAXI/C9SgcSUBxPQrXozBJQMP1KFyPYklAZmZmZmYmSUB7FK5H4TpJQHE9Ctej0EhA4XoUrkcBSUD2KFyPwlVJQKRwPQrXY0lAj8L1KFxvSEAzMzMzM7NLQHsUrkfh+khA4XoUrkfBSkBcj8L1KDxJQPYoXI/CNUpAH4XrUbj+SUDXo3A9CvdIQEjhehSuB0lA4XoUrkchSUDD9Shcj8JHQPYoXI/CFUhAZmZmZmZmSEBmZmZmZqZJQLgehetRGElASOF6FK6nSUCPwvUoXA9JQB+F61G4vklAZmZmZmZmSEBmZmZmZoZHQK5H4XoUbklAuB6F61EYSEBSuB6F6/FIQLgehetROElAUrgehetRTEC4HoXrUfhJQPYoXI/ClUlA4XoUrkeBSEDXo3A9ChdJQDMzMzMzU0hAw/UoXI+iSkA9CtejcH1JQK5H4XoUTklAUrgehetxR0C4HoXrUbhIQHE9CtejsElA4XoUrkehSEDhehSuRwFJQArXo3A9SkdAw/UoXI9CSEAfhetRuB5JQJqZmZmZWUlA9ihcj8J1SUAK16NwPepIQEjhehSuZ0pAFK5H4Xp0SUCF61G4HuVIQM3MzMzMrElAexSuR+GaSECamZmZmRlJQM3MzMzMbElAmpmZmZn5SUCF61G4HqVHQNejcD0KF0lAw/UoXI+iSUCuR+F6FG5IQOF6FK5HgUhArkfhehTOR0C4HoXrUdhIQClcj8L16EhASOF6FK5nSEB7FK5H4VpIQOxRuB6Fy0hArkfhehQOS0D2KFyPwpVIQHE9CtejMElAXI/C9Sj8SEB7FK5H4RpJQNejcD0Kl0lAAAAAAABASkBI4XoUrgdJQBSuR+F61EhAXI/C9SjcSkApXI/C9ehKQKRwPQrXg0lAUrgehesRSUAzMzMzM5NJQIXrUbgepUpAuB6F61G4SkBI4XoUrsdIQKRwPQrXo0hA16NwPQq3SUAzMzMzM1NJQKRwPQrXo0dApHA9CtfjSUCF61G4HgVJQJqZmZmZmUlAAAAAAADgSUCF61G4HgVJQLgehetRGEtArkfhehTuSkAfhetRuP5IQD0K16Nw3UpAzczMzMxsSUDNzMzMzAxLQGZmZmZmBkxAH4XrUbjeSkCuR+F6FM5IQHsUrkfhOkhAFK5H4Xo0RkAK16NwPUpIQAAAAAAAQElAzczMzMyMSED2KFyPwvVIQPYoXI/CFUhAj8L1KFxPSkBmZmZmZuZIQNejcD0KN0lApHA9CtfDSUBxPQrXozBIQPYoXI/CtUhAH4XrUbh+SUCamZmZmXlIQMP1KFyP4ktACtejcD3KS0DNzMzMzAxLQI/C9Shc70tAw/UoXI/CSkDNzMzMzExJQHsUrkfhWkxAj8L1KFyvSkBcj8L1KNxIQKRwPQrXA0lArkfhehQOSUC4HoXrUfhIQKRwPQrXo0lApHA9CtfjSUCF61G4HiVIQAAAAAAAwEhAmpmZmZnZSEAzMzMzM5NJQAAAAAAAgElAzczMzMzsSUCkcD0K14NJQFyPwvUonEdAmpmZmZlZSkAAAAAAAMBLQHsUrkfhWkhASOF6FK6nR0BI4XoUrodJQDMzMzMz80lArkfhehTuSUBI4XoUridJQNejcD0Kl0hA9ihcj8L1SEApXI/C9WhJQArXo3A9yktA16NwPQr3R0B7FK5H4RpKQI/C9Shcb0pAFK5H4XrUSkD2KFyPwrVLQHE9CtejsElASOF6FK4nSUB7FK5H4VpJQMP1KFyPIkpAzczMzMwMSUDXo3A9CvdIQKRwPQrXA0pA4XoUrkcBTUAUrkfhetRIQI/C9Shcj0dAexSuR+GaSUApXI/C9ShKQK5H4XoUjklASOF6FK6nSUCuR+F6FG5JQNejcD0Kt0hACtejcD1qSUDsUbgehctIQOF6FK5HYUhACtejcD1KSUAfhetRuF5IQIXrUbgehUhAFK5H4Xp0SUD2KFyPwtVKQLgehetReEhA7FG4HoXrSECuR+F6FK5IQHE9Ctej0EhAhetRuB4lSkDsUbgehatIQLgehetReElAhetRuB4lTEDNzMzMzGxJQM3MzMzM7EpA9ihcj8JVSEBmZmZmZkZKQClcj8L1yEhAXI/C9Sj8SkA9CtejcF1JQArXo3A9CkpAuB6F61EYR0BSuB6F65FJQHsUrkfhekpA4XoUrkfBSkBI4XoUrgdKQIXrUbge5UlA16NwPQo3S0DXo3A9CtdIQEjhehSuh0hAAAAAAADgSkDD9Shcj+JIQPYoXI/CFUlAw/UoXI9CS0AK16NwPQpKQM3MzMzMjElA7FG4HoVLSUD2KFyPwvVIQHE9Ctej8ElAPQrXo3B9SkBmZmZmZsZJQKRwPQrXI0tAUrgehesRS0DhehSuRwFKQM3MzMzMjEpA9ihcj8LVS0AAAAAAACBLQM3MzMzMLEtAexSuR+FaS0CamZmZmVlKQHsUrkfh+klA7FG4HoXLS0BI4XoUrkdKQGZmZmZmZkpAcT0K16OwSEApXI/C9ahKQEjhehSux0hAUrgehevRSEAzMzMzMzNKQFyPwvUoPEpA4XoUrkeBSkA=",
          "dtype": "f8"
         },
         "xaxis": "x",
         "y": {
          "bdata": "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",
          "dtype": "f8"
         },
         "yaxis": "y"
        },
        {
         "customdata": [
          [
           -1.396645559263142,
           "Ruwen FILUS",
           "Defence"
          ],
          [
           4.077150759392367,
           "Ivana MALOBABIC",
           "Defence"
          ],
          [
           4.446842370821386,
           "SUH Hyo Won",
           "Defence"
          ],
          [
           -0.6649171343891709,
           "Yang WANG",
           "Defence"
          ],
          [
           -1.1200091680015873,
           "Linda BERGSTROM",
           "Defence"
          ],
          [
           -6.976210434551781,
           "Ying HAN",
           "Defence"
          ],
          [
           1.6469977725040295,
           "KANG Dongsoo",
           "Defence"
          ],
          [
           -8.312997397907395,
           "Hitomi SATO",
           "Defence"
          ],
          [
           -5.149385146476789,
           "Honoka HASHIMOTO",
           "Defence"
          ],
          [
           3.5065053167081857,
           "YANG Yiyun",
           "Defence"
          ],
          [
           -4.795313934381099,
           "ZHU Sibing",
           "Defence"
          ]
         ],
         "hovertemplate": "<b>%{hovertext}</b><br><br>Style=%{customdata[2]}<br>Total Points Win Rate (%)=%{x}<br>Match Win Rate (%)=%{y}<br>Outperformance Score=%{customdata[0]:.2f}<extra></extra>",
         "hovertext": [
          "Ruwen FILUS",
          "Ivana MALOBABIC",
          "SUH Hyo Won",
          "Yang WANG",
          "Linda BERGSTROM",
          "Ying HAN",
          "KANG Dongsoo",
          "Hitomi SATO",
          "Honoka HASHIMOTO",
          "YANG Yiyun",
          "ZHU Sibing"
         ],
         "legendgroup": "Defence",
         "marker": {
          "color": "#EF553B",
          "symbol": "square"
         },
         "mode": "markers",
         "name": "Defence",
         "orientation": "v",
         "showlegend": true,
         "type": "scatter",
         "x": {
          "bdata": "ZmZmZmbGSEAK16NwPcpIQPYoXI/C9UhA7FG4HoXLSEDsUbgehStJQK5H4XoUzkpAj8L1KFyvSUDNzMzMzOxMQHE9CtejsE1AexSuR+GaSkCF61G4HsVLQA==",
          "dtype": "f8"
         },
         "xaxis": "x",
         "y": {
          "bdata": "MzMzMzMzR0AAAAAAAABKQGZmZmZm5kpAZmZmZmamR0AAAAAAAABJQDMzMzMz80xAzczMzMyMTECamZmZmZlSQAAAAAAAAFVAzczMzMysUEDNzMzMzAxRQA==",
          "dtype": "f8"
         },
         "yaxis": "y"
        },
        {
         "line": {
          "color": "#FF5722",
          "width": 3
         },
         "mode": "lines",
         "name": "Linear Trend: Y = 4.9X + -196.9 (R² = 0.91)",
         "type": "scatter",
         "x": {
          "bdata": "PQrXo3A9SEAzMzMzM7NJQOF6FK5HoUhAZmZmZmbGSEDXo3A9CpdJQM3MzMzMrEhA4XoUrkdhSUBcj8L1KBxJQHE9CtejMElAw/UoXI9iSUBmZmZmZiZJQHsUrkfhOklAcT0K16PQSEDhehSuRwFJQPYoXI/CVUlApHA9CtdjSUCPwvUoXG9IQDMzMzMzs0tACtejcD3KSEB7FK5H4fpIQOF6FK5HwUpAXI/C9Sg8SUD2KFyPwjVKQB+F61G4/klA16NwPQr3SEBI4XoUrgdJQOF6FK5HIUlAw/UoXI/CR0D2KFyPwvVIQPYoXI/CFUhAZmZmZmZmSEBmZmZmZqZJQLgehetRGElASOF6FK6nSUCPwvUoXA9JQB+F61G4vklAZmZmZmZmSEBmZmZmZoZHQK5H4XoUbklAuB6F61EYSEBSuB6F6/FIQLgehetROElAUrgehetRTEC4HoXrUfhJQPYoXI/ClUlA4XoUrkeBSEDXo3A9ChdJQDMzMzMzU0hAw/UoXI+iSkA9CtejcH1JQK5H4XoUTklAUrgehetxR0C4HoXrUbhIQOxRuB6Fy0hAcT0K16OwSUDhehSuR6FIQOF6FK5HAUlACtejcD1KR0DD9Shcj0JIQB+F61G4HklAmpmZmZlZSUD2KFyPwnVJQArXo3A96khASOF6FK5nSkAUrkfhenRJQIXrUbge5UhAzczMzMysSUB7FK5H4ZpIQJqZmZmZGUlAzczMzMxsSUDsUbgehStJQJqZmZmZ+UlAhetRuB6lR0DXo3A9ChdJQMP1KFyPoklArkfhehRuSEDhehSuR4FIQK5H4XoUzkdAuB6F61HYSEApXI/C9ehIQEjhehSuZ0hAexSuR+FaSEDsUbgehctIQK5H4XoUDktA9ihcj8KVSEBxPQrXozBJQFyPwvUo/EhAexSuR+EaSUDXo3A9CpdJQAAAAAAAQEpASOF6FK4HSUAUrkfhetRIQFyPwvUo3EpAKVyPwvXoSkCkcD0K14NJQFK4HoXrEUlAMzMzMzOTSUCF61G4HqVKQLgehetRuEpASOF6FK7HSECkcD0K16NIQK5H4XoUzkpA16NwPQq3SUAzMzMzM1NJQKRwPQrXo0dApHA9CtfjSUCF61G4HgVJQJqZmZmZmUlAAAAAAADgSUCF61G4HgVJQLgehetRGEtArkfhehTuSkAfhetRuP5IQD0K16Nw3UpAzczMzMxsSUDNzMzMzAxLQGZmZmZmBkxAH4XrUbjeSkCuR+F6FM5IQHsUrkfhOkhAFK5H4Xo0RkAK16NwPUpIQAAAAAAAQElAzczMzMyMSED2KFyPwvVIQPYoXI/CFUhAj8L1KFyvSUCPwvUoXE9KQGZmZmZm5khA16NwPQo3SUCkcD0K18NJQHE9CtejMEhA9ihcj8K1SEAfhetRuH5JQJqZmZmZeUhAw/UoXI/iS0AK16NwPcpLQM3MzMzMDEtAj8L1KFzvS0DD9Shcj8JKQM3MzMzMTElAexSuR+FaTECPwvUoXK9KQFyPwvUo3EhApHA9CtcDSUCuR+F6FA5JQLgehetR+EhApHA9CtejSUCkcD0K1+NJQIXrUbgeJUhAAAAAAADASEDNzMzMzOxMQJqZmZmZ2UhAMzMzMzOTSUAAAAAAAIBJQM3MzMzM7ElApHA9CteDSUBcj8L1KJxHQJqZmZmZWUpAAAAAAADAS0B7FK5H4VpIQEjhehSup0dASOF6FK6HSUAzMzMzM/NJQK5H4XoU7klASOF6FK4nSUDXo3A9CpdIQPYoXI/C9UhAKVyPwvVoSUAK16NwPcpLQNejcD0K90dAexSuR+EaSkCPwvUoXG9KQBSuR+F61EpA9ihcj8K1S0BxPQrXo7BJQEjhehSuJ0lAexSuR+FaSUDD9ShcjyJKQM3MzMzMDElA16NwPQr3SECkcD0K1wNKQOF6FK5HAU1AFK5H4XrUSECPwvUoXI9HQHsUrkfhmklAKVyPwvUoSkCuR+F6FI5JQEjhehSup0lArkfhehRuSUDXo3A9CrdIQArXo3A9aklA7FG4HoXLSEDhehSuR2FIQArXo3A9SklAH4XrUbheSECF61G4HoVIQBSuR+F6dElA9ihcj8LVSkC4HoXrUXhIQOxRuB6F60hArkfhehSuSEBxPQrXo9BIQIXrUbgeJUpAcT0K16OwTUDsUbgehatIQLgehetReElAhetRuB4lTEDNzMzMzGxJQM3MzMzM7EpA9ihcj8JVSEBmZmZmZkZKQClcj8L1yEhAXI/C9Sj8SkA9CtejcF1JQArXo3A9CkpAuB6F61EYR0BSuB6F65FJQHsUrkfhekpA4XoUrkfBSkBI4XoUrgdKQIXrUbge5UlA16NwPQo3S0DXo3A9CtdIQEjhehSuh0hAAAAAAADgSkDD9Shcj+JIQPYoXI/CFUlAw/UoXI9CS0AK16NwPQpKQM3MzMzMjElA7FG4HoVLSUD2KFyPwvVIQHE9Ctej8ElAPQrXo3B9SkBmZmZmZsZJQHsUrkfhmkpApHA9CtcjS0BSuB6F6xFLQOF6FK5HAUpAzczMzMyMSkD2KFyPwtVLQAAAAAAAIEtAzczMzMwsS0B7FK5H4VpLQJqZmZmZWUpAexSuR+H6SUDsUbgehctLQEjhehSuR0pAZmZmZmZmSkBxPQrXo7BIQClcj8L1qEpASOF6FK7HSEBSuB6F69FIQDMzMzMzM0pAXI/C9Sg8SkDhehSuR4FKQIXrUbgexUtA",
          "dtype": "f8"
         },
         "y": {
          "bdata": "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",
          "dtype": "f8"
         }
        }
       ],
       "layout": {
        "height": 700,
        "legend": {
         "title": {
          "text": "Player Style"
         },
         "tracegroupgap": 0
        },
        "template": {
         "data": {
          "bar": [
           {
            "error_x": {
             "color": "#2a3f5f"
            },
            "error_y": {
             "color": "#2a3f5f"
            },
            "marker": {
             "line": {
              "color": "white",
              "width": 0.5
             },
             "pattern": {
              "fillmode": "overlay",
              "size": 10,
              "solidity": 0.2
             }
            },
            "type": "bar"
           }
          ],
          "barpolar": [
           {
            "marker": {
             "line": {
              "color": "white",
              "width": 0.5
             },
             "pattern": {
              "fillmode": "overlay",
              "size": 10,
              "solidity": 0.2
             }
            },
            "type": "barpolar"
           }
          ],
          "carpet": [
           {
            "aaxis": {
             "endlinecolor": "#2a3f5f",
             "gridcolor": "#C8D4E3",
             "linecolor": "#C8D4E3",
             "minorgridcolor": "#C8D4E3",
             "startlinecolor": "#2a3f5f"
            },
            "baxis": {
             "endlinecolor": "#2a3f5f",
             "gridcolor": "#C8D4E3",
             "linecolor": "#C8D4E3",
             "minorgridcolor": "#C8D4E3",
             "startlinecolor": "#2a3f5f"
            },
            "type": "carpet"
           }
          ],
          "choropleth": [
           {
            "colorbar": {
             "outlinewidth": 0,
             "ticks": ""
            },
            "type": "choropleth"
           }
          ],
          "contour": [
           {
            "colorbar": {
             "outlinewidth": 0,
             "ticks": ""
            },
            "colorscale": [
             [
              0,
              "#0d0887"
             ],
             [
              0.1111111111111111,
              "#46039f"
             ],
             [
              0.2222222222222222,
              "#7201a8"
             ],
             [
              0.3333333333333333,
              "#9c179e"
             ],
             [
              0.4444444444444444,
              "#bd3786"
             ],
             [
              0.5555555555555556,
              "#d8576b"
             ],
             [
              0.6666666666666666,
              "#ed7953"
             ],
             [
              0.7777777777777778,
              "#fb9f3a"
             ],
             [
              0.8888888888888888,
              "#fdca26"
             ],
             [
              1,
              "#f0f921"
             ]
            ],
            "type": "contour"
           }
          ],
          "contourcarpet": [
           {
            "colorbar": {
             "outlinewidth": 0,
             "ticks": ""
            },
            "type": "contourcarpet"
           }
          ],
          "heatmap": [
           {
            "colorbar": {
             "outlinewidth": 0,
             "ticks": ""
            },
            "colorscale": [
             [
              0,
              "#0d0887"
             ],
             [
              0.1111111111111111,
              "#46039f"
             ],
             [
              0.2222222222222222,
              "#7201a8"
             ],
             [
              0.3333333333333333,
              "#9c179e"
             ],
             [
              0.4444444444444444,
              "#bd3786"
             ],
             [
              0.5555555555555556,
              "#d8576b"
             ],
             [
              0.6666666666666666,
              "#ed7953"
             ],
             [
              0.7777777777777778,
              "#fb9f3a"
             ],
             [
              0.8888888888888888,
              "#fdca26"
             ],
             [
              1,
              "#f0f921"
             ]
            ],
            "type": "heatmap"
           }
          ],
          "histogram": [
           {
            "marker": {
             "pattern": {
              "fillmode": "overlay",
              "size": 10,
              "solidity": 0.2
             }
            },
            "type": "histogram"
           }
          ],
          "histogram2d": [
           {
            "colorbar": {
             "outlinewidth": 0,
             "ticks": ""
            },
            "colorscale": [
             [
              0,
              "#0d0887"
             ],
             [
              0.1111111111111111,
              "#46039f"
             ],
             [
              0.2222222222222222,
              "#7201a8"
             ],
             [
              0.3333333333333333,
              "#9c179e"
             ],
             [
              0.4444444444444444,
              "#bd3786"
             ],
             [
              0.5555555555555556,
              "#d8576b"
             ],
             [
              0.6666666666666666,
              "#ed7953"
             ],
             [
              0.7777777777777778,
              "#fb9f3a"
             ],
             [
              0.8888888888888888,
              "#fdca26"
             ],
             [
              1,
              "#f0f921"
             ]
            ],
            "type": "histogram2d"
           }
          ],
          "histogram2dcontour": [
           {
            "colorbar": {
             "outlinewidth": 0,
             "ticks": ""
            },
            "colorscale": [
             [
              0,
              "#0d0887"
             ],
             [
              0.1111111111111111,
              "#46039f"
             ],
             [
              0.2222222222222222,
              "#7201a8"
             ],
             [
              0.3333333333333333,
              "#9c179e"
             ],
             [
              0.4444444444444444,
              "#bd3786"
             ],
             [
              0.5555555555555556,
              "#d8576b"
             ],
             [
              0.6666666666666666,
              "#ed7953"
             ],
             [
              0.7777777777777778,
              "#fb9f3a"
             ],
             [
              0.8888888888888888,
              "#fdca26"
             ],
             [
              1,
              "#f0f921"
             ]
            ],
            "type": "histogram2dcontour"
           }
          ],
          "mesh3d": [
           {
            "colorbar": {
             "outlinewidth": 0,
             "ticks": ""
            },
            "type": "mesh3d"
           }
          ],
          "parcoords": [
           {
            "line": {
             "colorbar": {
              "outlinewidth": 0,
              "ticks": ""
             }
            },
            "type": "parcoords"
           }
          ],
          "pie": [
           {
            "automargin": true,
            "type": "pie"
           }
          ],
          "scatter": [
           {
            "fillpattern": {
             "fillmode": "overlay",
             "size": 10,
             "solidity": 0.2
            },
            "type": "scatter"
           }
          ],
          "scatter3d": [
           {
            "line": {
             "colorbar": {
              "outlinewidth": 0,
              "ticks": ""
             }
            },
            "marker": {
             "colorbar": {
              "outlinewidth": 0,
              "ticks": ""
             }
            },
            "type": "scatter3d"
           }
          ],
          "scattercarpet": [
           {
            "marker": {
             "colorbar": {
              "outlinewidth": 0,
              "ticks": ""
             }
            },
            "type": "scattercarpet"
           }
          ],
          "scattergeo": [
           {
            "marker": {
             "colorbar": {
              "outlinewidth": 0,
              "ticks": ""
             }
            },
            "type": "scattergeo"
           }
          ],
          "scattergl": [
           {
            "marker": {
             "colorbar": {
              "outlinewidth": 0,
              "ticks": ""
             }
            },
            "type": "scattergl"
           }
          ],
          "scattermap": [
           {
            "marker": {
             "colorbar": {
              "outlinewidth": 0,
              "ticks": ""
             }
            },
            "type": "scattermap"
           }
          ],
          "scattermapbox": [
           {
            "marker": {
             "colorbar": {
              "outlinewidth": 0,
              "ticks": ""
             }
            },
            "type": "scattermapbox"
           }
          ],
          "scatterpolar": [
           {
            "marker": {
             "colorbar": {
              "outlinewidth": 0,
              "ticks": ""
             }
            },
            "type": "scatterpolar"
           }
          ],
          "scatterpolargl": [
           {
            "marker": {
             "colorbar": {
              "outlinewidth": 0,
              "ticks": ""
             }
            },
            "type": "scatterpolargl"
           }
          ],
          "scatterternary": [
           {
            "marker": {
             "colorbar": {
              "outlinewidth": 0,
              "ticks": ""
             }
            },
            "type": "scatterternary"
           }
          ],
          "surface": [
           {
            "colorbar": {
             "outlinewidth": 0,
             "ticks": ""
            },
            "colorscale": [
             [
              0,
              "#0d0887"
             ],
             [
              0.1111111111111111,
              "#46039f"
             ],
             [
              0.2222222222222222,
              "#7201a8"
             ],
             [
              0.3333333333333333,
              "#9c179e"
             ],
             [
              0.4444444444444444,
              "#bd3786"
             ],
             [
              0.5555555555555556,
              "#d8576b"
             ],
             [
              0.6666666666666666,
              "#ed7953"
             ],
             [
              0.7777777777777778,
              "#fb9f3a"
             ],
             [
              0.8888888888888888,
              "#fdca26"
             ],
             [
              1,
              "#f0f921"
             ]
            ],
            "type": "surface"
           }
          ],
          "table": [
           {
            "cells": {
             "fill": {
              "color": "#EBF0F8"
             },
             "line": {
              "color": "white"
             }
            },
            "header": {
             "fill": {
              "color": "#C8D4E3"
             },
             "line": {
              "color": "white"
             }
            },
            "type": "table"
           }
          ]
         },
         "layout": {
          "annotationdefaults": {
           "arrowcolor": "#2a3f5f",
           "arrowhead": 0,
           "arrowwidth": 1
          },
          "autotypenumbers": "strict",
          "coloraxis": {
           "colorbar": {
            "outlinewidth": 0,
            "ticks": ""
           }
          },
          "colorscale": {
           "diverging": [
            [
             0,
             "#8e0152"
            ],
            [
             0.1,
             "#c51b7d"
            ],
            [
             0.2,
             "#de77ae"
            ],
            [
             0.3,
             "#f1b6da"
            ],
            [
             0.4,
             "#fde0ef"
            ],
            [
             0.5,
             "#f7f7f7"
            ],
            [
             0.6,
             "#e6f5d0"
            ],
            [
             0.7,
             "#b8e186"
            ],
            [
             0.8,
             "#7fbc41"
            ],
            [
             0.9,
             "#4d9221"
            ],
            [
             1,
             "#276419"
            ]
           ],
           "sequential": [
            [
             0,
             "#0d0887"
            ],
            [
             0.1111111111111111,
             "#46039f"
            ],
            [
             0.2222222222222222,
             "#7201a8"
            ],
            [
             0.3333333333333333,
             "#9c179e"
            ],
            [
             0.4444444444444444,
             "#bd3786"
            ],
            [
             0.5555555555555556,
             "#d8576b"
            ],
            [
             0.6666666666666666,
             "#ed7953"
            ],
            [
             0.7777777777777778,
             "#fb9f3a"
            ],
            [
             0.8888888888888888,
             "#fdca26"
            ],
            [
             1,
             "#f0f921"
            ]
           ],
           "sequentialminus": [
            [
             0,
             "#0d0887"
            ],
            [
             0.1111111111111111,
             "#46039f"
            ],
            [
             0.2222222222222222,
             "#7201a8"
            ],
            [
             0.3333333333333333,
             "#9c179e"
            ],
            [
             0.4444444444444444,
             "#bd3786"
            ],
            [
             0.5555555555555556,
             "#d8576b"
            ],
            [
             0.6666666666666666,
             "#ed7953"
            ],
            [
             0.7777777777777778,
             "#fb9f3a"
            ],
            [
             0.8888888888888888,
             "#fdca26"
            ],
            [
             1,
             "#f0f921"
            ]
           ]
          },
          "colorway": [
           "#636efa",
           "#EF553B",
           "#00cc96",
           "#ab63fa",
           "#FFA15A",
           "#19d3f3",
           "#FF6692",
           "#B6E880",
           "#FF97FF",
           "#FECB52"
          ],
          "font": {
           "color": "#2a3f5f"
          },
          "geo": {
           "bgcolor": "white",
           "lakecolor": "white",
           "landcolor": "white",
           "showlakes": true,
           "showland": true,
           "subunitcolor": "#C8D4E3"
          },
          "hoverlabel": {
           "align": "left"
          },
          "hovermode": "closest",
          "mapbox": {
           "style": "light"
          },
          "paper_bgcolor": "white",
          "plot_bgcolor": "white",
          "polar": {
           "angularaxis": {
            "gridcolor": "#EBF0F8",
            "linecolor": "#EBF0F8",
            "ticks": ""
           },
           "bgcolor": "white",
           "radialaxis": {
            "gridcolor": "#EBF0F8",
            "linecolor": "#EBF0F8",
            "ticks": ""
           }
          },
          "scene": {
           "xaxis": {
            "backgroundcolor": "white",
            "gridcolor": "#DFE8F3",
            "gridwidth": 2,
            "linecolor": "#EBF0F8",
            "showbackground": true,
            "ticks": "",
            "zerolinecolor": "#EBF0F8"
           },
           "yaxis": {
            "backgroundcolor": "white",
            "gridcolor": "#DFE8F3",
            "gridwidth": 2,
            "linecolor": "#EBF0F8",
            "showbackground": true,
            "ticks": "",
            "zerolinecolor": "#EBF0F8"
           },
           "zaxis": {
            "backgroundcolor": "white",
            "gridcolor": "#DFE8F3",
            "gridwidth": 2,
            "linecolor": "#EBF0F8",
            "showbackground": true,
            "ticks": "",
            "zerolinecolor": "#EBF0F8"
           }
          },
          "shapedefaults": {
           "line": {
            "color": "#2a3f5f"
           }
          },
          "ternary": {
           "aaxis": {
            "gridcolor": "#DFE8F3",
            "linecolor": "#A2B1C6",
            "ticks": ""
           },
           "baxis": {
            "gridcolor": "#DFE8F3",
            "linecolor": "#A2B1C6",
            "ticks": ""
           },
           "bgcolor": "white",
           "caxis": {
            "gridcolor": "#DFE8F3",
            "linecolor": "#A2B1C6",
            "ticks": ""
           }
          },
          "title": {
           "x": 0.05
          },
          "xaxis": {
           "automargin": true,
           "gridcolor": "#EBF0F8",
           "linecolor": "#EBF0F8",
           "ticks": "",
           "title": {
            "standoff": 15
           },
           "zerolinecolor": "#EBF0F8",
           "zerolinewidth": 2
          },
          "yaxis": {
           "automargin": true,
           "gridcolor": "#EBF0F8",
           "linecolor": "#EBF0F8",
           "ticks": "",
           "title": {
            "standoff": 15
           },
           "zerolinecolor": "#EBF0F8",
           "zerolinewidth": 2
          }
         }
        },
        "title": {
         "text": "Player Performance: Win Rate vs. Points Win Rate"
        },
        "width": 1000,
        "xaxis": {
         "anchor": "y",
         "domain": [
          0,
          1
         ],
         "range": [
          43.41,
          60.38
         ],
         "title": {
          "text": "Total Points Win Rate (%)"
         }
        },
        "yaxis": {
         "anchor": "x",
         "domain": [
          0,
          1
         ],
         "range": [
          24.5,
          93
         ],
         "title": {
          "text": "Match Win Rate (%)"
         }
        }
       }
      },
      "image/png": "[encoded data removed]"
     },
     "metadata": {},
     "output_type": "display_data"
    }
   ],
   "source": []
  },
  {
   "cell_type": "code",
   "execution_count": null,
   "id": "b05cd639-42b9-4c0c-93df-ab23777060e4",
   "metadata": {},
   "outputs": [],
   "source": []
  },
  {
   "cell_type": "code",
   "execution_count": null,
   "id": "c167ed0a-ff4e-4958-9164-2ede741ded13",
   "metadata": {},
   "outputs": [],
   "source": []
  }
 ],
 "metadata": {
  "kernelspec": {
   "display_name": "Python 3 (ipykernel)",
   "language": "python",
   "name": "python3"
  },
  "language_info": {
   "codemirror_mode": {
    "name": "ipython",
    "version": 3
   },
   "file_extension": ".py",
   "mimetype": "text/x-python",
   "name": "python",
   "nbconvert_exporter": "python",
   "pygments_lexer": "ipython3",
   "version": "3.13.7"
  }
 },
 "nbformat": 4,
 "nbformat_minor": 5
}

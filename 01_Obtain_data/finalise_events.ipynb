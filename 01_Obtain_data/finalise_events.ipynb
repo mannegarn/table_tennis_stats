{
 "cells": [
  {
   "cell_type": "code",
   "execution_count": 2,
   "id": "3438673a-cd72-477f-b160-1405f254282f",
   "metadata": {},
   "outputs": [],
   "source": [
    "import requests\n",
    "import json\n",
    "import pandas as pd\n",
    "import os\n",
    "from datetime import datetime\n",
    "import re\n",
    "import random \n",
    "import time \n",
    "from IPython.display import display, clear_output\n",
    "import glob"
   ]
  },
  {
   "cell_type": "code",
   "execution_count": 3,
   "id": "6b3e7374-aa74-4e8b-b0ce-8ed3b55b3dfa",
   "metadata": {},
   "outputs": [],
   "source": [
    "def get_event_equipment(event_id):\n",
    "    \"\"\"\n",
    "    Fetches the equipment details (like table and ball sponsor) for a specific event.\n",
    "\n",
    "    Args:\n",
    "        event_id (int or str): The ID of the event to fetch data for.\n",
    "\n",
    "    Returns:\n",
    "        dict: The JSON response data as a Python dictionary, or None if an error occurs.\n",
    "    \"\"\"\n",
    "    # The URL is an f-string, allowing us to insert the event_id dynamically\n",
    "    url = f\"https://wtt-website-api-prod-3-frontdoor-bddnb2haduafdze9.a01.azurefd.net/api/cms/GetEventEquipmentwithLogo/{event_id}\"\n",
    "    \n",
    "    # All the headers from your cURL command\n",
    "    headers = {\n",
    "        \"accept\": \"application/json, text/plain, */*\",\n",
    "        \"accept-language\": \"en-GB,en;q=0.9,es=q=0.8\",\n",
    "        \"cache-control\": \"no-cache\",\n",
    "        \"dnt\": \"1\",\n",
    "        \"origin\": \"https://www.worldtabletennis.com\",\n",
    "        \"pragma\": \"no-cache\",\n",
    "        \"priority\": \"u=1, i\",\n",
    "        \"referer\": \"https://www.worldtabletennis.com/\",\n",
    "        \"sec-ch-ua\": \"\\\"Chromium\\\";v=\\\"140\\\", \\\"Not=A?Brand\\\";v=\\\"24\\\", \\\"Google Chrome\\\";v=\\\"140\\\"\",\n",
    "        \"sec-ch-ua-mobile\": \"?1\",\n",
    "        \"sec-ch-ua-platform\": \"\\\"Android\\\"\",\n",
    "        \"sec-fetch-dest\": \"empty\",\n",
    "        \"sec-fetch-mode\": \"cors\",\n",
    "        \"sec-fetch-site\": \"cross-site\",\n",
    "        \"secapimkey\": \"S_WTT_882jjh7basdj91834783mds8j2jsd81\",\n",
    "        \"user-agent\": \"Mozilla/5.0 (Linux; Android 11.0; Surface Duo) AppleWebKit/537.36 (KHTML, like Gecko) Chrome/140.0.0.0 Mobile Safari/537.36\"\n",
    "    }\n",
    "    \n",
    "    try:\n",
    "        response = requests.get(url, headers=headers)\n",
    "        response.raise_for_status() # Raise an error for bad status codes (4xx or 5xx)\n",
    "        return response.json()\n",
    "    except requests.exceptions.HTTPError as err:\n",
    "        print(f\"HTTP Error occurred for event {event_id}: {err}\")\n",
    "    except requests.exceptions.RequestException as err:\n",
    "        print(f\"An error occurred for event {event_id}: {err}\")\n",
    "    \n",
    "    return None"
   ]
  },
  {
   "cell_type": "code",
   "execution_count": 90,
   "id": "5ca3965c-1b3c-4ae9-8f12-3d39d927816f",
   "metadata": {},
   "outputs": [
    {
     "name": "stdout",
     "output_type": "stream",
     "text": [
      "✅ Completed getting sponsors\n"
     ]
    }
   ],
   "source": [
    "#Search folder with match payloads in in. Obtain all csv files. \n",
    "singles_payload_directory = \"Data/Processed/Match_payloads\"\n",
    "payload_files = glob.glob(f\"{singles_payload_directory}/*.csv\")\n",
    "\n",
    "\n",
    "#Obtain the event_ids from the file names!\n",
    "successful_event_ids = []\n",
    "\n",
    "for file in payload_files:    \n",
    "    payloads_df = pd.read_csv(file)\n",
    "    event_id = payloads_df[\"eventId\"][0]\n",
    "    successful_event_ids.append((event_id))  \n",
    "\n",
    "\n",
    "#Obtain the events shortlist and extract only the succuessful events from successful_event_ids.\n",
    "events_shortlist = \"Data/Processed/Events/shortlist_events.csv\"\n",
    "shortlist_df = pd.read_csv(events_shortlist)\n",
    "final_events_df = shortlist_df[shortlist_df[\"EventId\"].isin(successful_event_ids)]\n",
    "\n",
    "\n",
    "#Now add event table and ball sponsors to each event \n",
    "\n",
    "enriched_data_list = []\n",
    "event_total = len(final_events_df)\n",
    "\n",
    "print(f\"---🟢Commencing obtaining event sponsors from {events_shortlist}\")\n",
    "\n",
    "for number, (index, event) in enumerate(final_events_df.iterrows()):\n",
    "    event_id = event[\"EventId\"]\n",
    "\n",
    "    match_payloads_file = f\"{singles_payload_directory}/{event_id}_singles_payloads.csv\"\n",
    "    match_payloads_df = pd.read_csv(match_payloads_file)\n",
    "    \n",
    "    \n",
    "    mens_matches = match_payloads_df[match_payloads_df[\"subEventType\"] == \"Men Singles\"]\n",
    "    num_mens_matches = len(mens_matches)\n",
    "    womens_matches = match_payloads_df[match_payloads_df[\"subEventType\"] == \"Women Singles\"]\n",
    "    num_womens_matches = len(womens_matches)\n",
    "    total_matches = len(match_payloads_df)\n",
    "\n",
    "    if total_matches != (num_mens_matches + num_womens_matches):\n",
    "        print(f\"Problem in match count for event {event_id}\")  \n",
    "    \n",
    "   \n",
    "\n",
    "    \n",
    "    \n",
    "    equipment_json = get_event_equipment(event_id)\n",
    "    sleep_duration = random.uniform(0.3, 0.8)\n",
    "    display(f\"Obtaining sponsors for event ID:{event_id} 🔄({number+1}/{event_total}) - pausing for {sleep_duration:.1f}s to give the API a break ---\")\n",
    "    clear_output(wait=True)\n",
    "    time.sleep(sleep_duration)\n",
    "    \n",
    "    \n",
    "\n",
    "    table_sponsor = None\n",
    "    ball_sponsor = None \n",
    "    if equipment_json:\n",
    "        try: \n",
    "            sponsors_df = pd.DataFrame(equipment_json)\n",
    "\n",
    "            table_sponsor_series = sponsors_df[sponsors_df[\"sponsorTypeName\"] == \"Official Table\"][\"sponsorLink\"]\n",
    "            ball_sponsor_series = sponsors_df[sponsors_df[\"sponsorTypeName\"] == \"Official Ball\"][\"sponsorLink\"]\n",
    "            table_sponsor = table_sponsor_series.iloc[0]\n",
    "            ball_sponsor = ball_sponsor_series.iloc[0]\n",
    "            \n",
    "        except(KeyError,IndexError):\n",
    "            print(f\"    -> Could not parse sponsor data for event {event_id}.\")\n",
    "        \n",
    "        \n",
    "\n",
    "    enriched_data_list.append({\n",
    "    \"EventId\": event_id,\n",
    "    \"TableSponsorLink\": table_sponsor,\n",
    "    \"BallSponsorLink\": ball_sponsor,\n",
    "    \"Mens Match Count\":num_mens_matches,\n",
    "    \"Womens Match Count\": num_womens_matches,\n",
    "    \"Total Match Count\": total_matches\n",
    "    })\n",
    "\n",
    "print(\"✅ Completed getting sponsors\")\n",
    "data_to_add_df = pd.DataFrame(enriched_data_list)\n",
    "\n",
    "enriched_events_df = pd.merge(final_events_df,data_to_add_df)  \n",
    "\n",
    "\n",
    "\n"
   ]
  },
  {
   "cell_type": "code",
   "execution_count": 104,
   "id": "34109704-edc4-4976-81ce-a6b7465cd37b",
   "metadata": {},
   "outputs": [],
   "source": [
    "# Manually determined map for sponsors, needs to be manually updated as required. \n",
    "cleaned_events_df = enriched_events_df\n",
    "sponsor_map = {\n",
    "    'https://www.dhs-sportsglobal.com/': 'DHS',\n",
    "    'http://www.dhs-sports.com/': 'DHS',\n",
    "    'https://en.dhs-sports.com/': 'DHS',\n",
    "    'https://www.doublefish.com/': 'Double Fish',\n",
    "    'https://www.doublefish.com': 'Double Fish',\n",
    "    'http://www.yinhe1986.cn/': 'Yinhe',\n",
    "    'http://www.dhs-sportsglobal.com': 'DHS',\n",
    "    'https://joola.com/pages/table-tennis?srsltid=AfmBOoquv7qYw0rrAhtEXdZaAsWcFDBkpTNksiGhnOxFif6xCoAajsx_': 'Joola',\n",
    "    'http://www.yinhe1986.cn': 'Yinhe',\n",
    "    'https://www.andro.de/en': 'Andro',\n",
    "    'https://www.stigasports.com/en': 'Stiga',\n",
    "    'www.doublefish.com': 'Double Fish',\n",
    "    'https://www.tibhar.com/en/': 'Tibhar',\n",
    "    'https://butterfly.tt/': 'Butterfly',\n",
    "    'https://joola.com/': 'Joola',\n",
    "    'https://www.butterfly-global.com/': 'Butterfly',\n",
    "    'https://www.stag.in/': 'Stag',\n",
    "    'https://www.dhs-tt.com/en': 'DHS',\n",
    "    'www.stigasports.cn': 'Stiga',\n",
    "    'https://stag.in/': 'Stag',\n",
    "    'https://www.donic.com/donic/en/': 'Donic',\n",
    "    'https://tibhar.info/en/': 'Tibhar'\n",
    "}\n",
    "\n",
    "cleaned_events_df[\"BallSponsor\"] = cleaned_events_df[\"BallSponsorLink\"].map(sponsor_map)\n",
    "cleaned_events_df[\"TableSponsor\"] = cleaned_events_df[\"TableSponsorLink\"].map(sponsor_map)\n",
    "\n",
    "\n",
    "#convert time to datetime object and print in readable form as only date is required. \n",
    "cleaned_events_df[\"StartDate\"] = pd.to_datetime(cleaned_events_df[\"StartDateTime\"])\n",
    "cleaned_events_df[\"StartDate\"] = cleaned_events_df[\"StartDate\"].dt.normalize()\n",
    "\n",
    "\n",
    "#drop columns I don't need starting with any empty columns\n",
    "\n",
    "cleaned_events_df.dropna(axis=1, how='all', inplace=True)\n",
    "cleaned_events_df.reset_index()\n",
    "\n",
    "columns_to_drop = [ \n",
    "    \"StartDateTime\"\n",
    "    \"EndDateTime\",\n",
    "    \"Event_Tier_Name\",\n",
    "    \"BallSponsorLink\",\n",
    "    \"TableSponsorLink\",\n",
    "    \"StartDateTime\",\n",
    "    \"EndDateTime\",\n",
    "    \"EventTypeId\",\n",
    "    \n",
    "]\n",
    "\n",
    "cleaned_events_df.drop(columns = columns_to_drop, inplace = True, errors = 'ignore')"
   ]
  },
  {
   "cell_type": "code",
   "execution_count": 105,
   "id": "fa7ed2e2-a71d-4201-a4d2-252ac968fd6e",
   "metadata": {},
   "outputs": [],
   "source": [
    "#### Save the final events df with sponsor information\n",
    "date = datetime.now()\n",
    "date = date.strftime(\"%Y%m%d\")\n",
    "\n",
    "output_dir = \"Data/Processed/Events\"\n",
    "file_name = f\"{output_dir}/{date}_events.csv\"\n",
    "\n",
    "\n",
    "\n",
    "cleaned_events_df.to_csv(file_name,index=False)\n"
   ]
  },
  {
   "cell_type": "code",
   "execution_count": 102,
   "id": "c2b91e8e-ce34-4c6b-8b19-35a135d7b305",
   "metadata": {},
   "outputs": [],
   "source": [
    "sponsor_set = set()\n",
    "\n",
    "\n",
    "for item in enriched_events_df['BallSponsorLink']:\n",
    "    sponsor_set.add(item)    \n",
    "\n",
    "\n",
    "table_sponsors_set = set()\n",
    "for item in enriched_events_df['TableSponsorLink']:\n",
    "    sponsor_set.add(item)\n",
    "\n",
    "sponsor_list = list(sponsor_set)"
   ]
  },
  {
   "cell_type": "code",
   "execution_count": 103,
   "id": "2f7b0594-951b-4073-b055-e4649e06f1c7",
   "metadata": {},
   "outputs": [
    {
     "data": {
      "text/plain": [
       "['http://www.yinhe1986.cn',\n",
       " 'https://www.andro.de/en',\n",
       " 'https://www.stigasports.com/en',\n",
       " 'http://www.dhs-sportsglobal.com',\n",
       " 'https://joola.com/pages/table-tennis?srsltid=AfmBOoquv7qYw0rrAhtEXdZaAsWcFDBkpTNksiGhnOxFif6xCoAajsx_',\n",
       " 'www.doublefish.com',\n",
       " 'https://www.tibhar.com/en/',\n",
       " 'http://www.dhs-sportsglobal.com/',\n",
       " 'https://www.doublefish.com/\\t',\n",
       " None,\n",
       " 'https://www.doublefish.com',\n",
       " 'https://butterfly.tt/',\n",
       " 'https://joola.com/',\n",
       " 'https://en.dhs-sports.com/',\n",
       " 'http://www.yinhe1986.cn/',\n",
       " 'https://www.butterfly-global.com/',\n",
       " 'https://www.doublefish.com/',\n",
       " 'https://www.stag.in/',\n",
       " 'https://www.dhs-tt.com/en',\n",
       " 'https://www.dhs-sportsglobal.com/',\n",
       " 'https://www.dhs-sportsglobal.com/\\t',\n",
       " 'http://www.dhs-sports.com/',\n",
       " 'www.stigasports.cn',\n",
       " 'https://stag.in/',\n",
       " 'https://www.donic.com/donic/en/',\n",
       " 'https://tibhar.info/en/',\n",
       " 'http://www.dhs-sports.com']"
      ]
     },
     "execution_count": 103,
     "metadata": {},
     "output_type": "execute_result"
    }
   ],
   "source": [
    "sponsor_list"
   ]
  },
  {
   "cell_type": "code",
   "execution_count": 6,
   "id": "5755eed4-6d65-43de-93c9-fd5ef81d854a",
   "metadata": {},
   "outputs": [],
   "source": [
    "equipment_json = get_event_equipment(3110)"
   ]
  },
  {
   "cell_type": "code",
   "execution_count": 9,
   "id": "935da1c2-0e42-43d2-8871-b5c9f52c467d",
   "metadata": {},
   "outputs": [
    {
     "data": {
      "text/plain": [
       "True"
      ]
     },
     "execution_count": 9,
     "metadata": {},
     "output_type": "execute_result"
    }
   ],
   "source": [
    "isinstance(equipment_json,list)"
   ]
  },
  {
   "cell_type": "code",
   "execution_count": 10,
   "id": "c1bc5eaf-921c-4c32-ba0b-cb09c65d64ee",
   "metadata": {},
   "outputs": [],
   "source": [
    "a =[]"
   ]
  },
  {
   "cell_type": "code",
   "execution_count": 11,
   "id": "5aaf93cf-a21d-47b6-a533-1fec83a5ad57",
   "metadata": {},
   "outputs": [
    {
     "data": {
      "text/plain": [
       "False"
      ]
     },
     "execution_count": 11,
     "metadata": {},
     "output_type": "execute_result"
    }
   ],
   "source": [
    "a== None"
   ]
  },
  {
   "cell_type": "code",
   "execution_count": null,
   "id": "4f9f7e74-a722-4cda-80a4-50da8ddaba9f",
   "metadata": {},
   "outputs": [],
   "source": []
  },
  {
   "cell_type": "code",
   "execution_count": 16,
   "id": "d594779b-649a-45a3-98c1-a03d36921af1",
   "metadata": {},
   "outputs": [
    {
     "name": "stdout",
     "output_type": "stream",
     "text": [
      "1\n"
     ]
    }
   ],
   "source": [
    "if not a:\n",
    "    print(1)"
   ]
  },
  {
   "cell_type": "code",
   "execution_count": 17,
   "id": "9137934c-4ad8-4ab1-8ea4-cab52fc187ce",
   "metadata": {},
   "outputs": [
    {
     "data": {
      "text/plain": [
       "[{'eventId': 3110,\n",
       "  'eventSponsorId': 4672,\n",
       "  'sponsorTypeId': 15,\n",
       "  'logo': 'org_logos/9May2023_14_41_20_Ganten 110x55.png_new_0.png',\n",
       "  'darkLogo': None,\n",
       "  'sponsorLink': 'https://www.ganten.com.cn/?lang=en',\n",
       "  'sponsorTypeName': 'Global Premier Partner'},\n",
       " {'eventId': 3110,\n",
       "  'eventSponsorId': 2820,\n",
       "  'sponsorTypeId': 4,\n",
       "  'logo': 'org_logos/DHS 110x55px.png',\n",
       "  'darkLogo': None,\n",
       "  'sponsorLink': 'https://www.dhs-sportsglobal.com/',\n",
       "  'sponsorTypeName': 'Official Ball'},\n",
       " {'eventId': 3110,\n",
       "  'eventSponsorId': 4666,\n",
       "  'sponsorTypeId': 5,\n",
       "  'logo': 'org_logos/2October2025_19_23_7_donic - White Logo.jpg',\n",
       "  'darkLogo': 'org_logos/2October2025_19_23_10_Donic black.jpg',\n",
       "  'sponsorLink': None,\n",
       "  'sponsorTypeName': 'Official Table'},\n",
       " {'eventId': 3110,\n",
       "  'eventSponsorId': 2850,\n",
       "  'sponsorTypeId': 17,\n",
       "  'logo': 'org_logos/14November2024_14_54_1_Li Ning logo website.png',\n",
       "  'darkLogo': 'org_logos/14November2024_14_53_58_Li Ning Logo-all white.png',\n",
       "  'sponsorLink': 'www.lining.com',\n",
       "  'sponsorTypeName': 'Global Apparel Supplier'},\n",
       " {'eventId': 3110,\n",
       "  'eventSponsorId': 4667,\n",
       "  'sponsorTypeId': 32,\n",
       "  'logo': 'org_logos/2October2025_22_4_29_TTE- white.jpg',\n",
       "  'darkLogo': 'org_logos/2October2025_22_4_31_TTE- black.jpg',\n",
       "  'sponsorLink': None,\n",
       "  'sponsorTypeName': 'Member Association'}]"
      ]
     },
     "execution_count": 17,
     "metadata": {},
     "output_type": "execute_result"
    }
   ],
   "source": [
    "equipment_json"
   ]
  },
  {
   "cell_type": "code",
   "execution_count": null,
   "id": "e9b2113f-f70a-473c-8404-c2a246dc7975",
   "metadata": {},
   "outputs": [],
   "source": []
  }
 ],
 "metadata": {
  "kernelspec": {
   "display_name": "Python 3 (ipykernel)",
   "language": "python",
   "name": "python3"
  },
  "language_info": {
   "codemirror_mode": {
    "name": "ipython",
    "version": 3
   },
   "file_extension": ".py",
   "mimetype": "text/x-python",
   "name": "python",
   "nbconvert_exporter": "python",
   "pygments_lexer": "ipython3",
   "version": "3.13.7"
  }
 },
 "nbformat": 4,
 "nbformat_minor": 5
}

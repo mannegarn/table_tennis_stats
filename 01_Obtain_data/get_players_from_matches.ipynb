{
 "cells": [
  {
   "cell_type": "code",
   "execution_count": 3,
   "id": "11e85c47-f5f5-4107-94fc-e328d1000ab8",
   "metadata": {},
   "outputs": [],
   "source": [
    "import os \n",
    "import json\n",
    "import glob \n",
    "import pandas as pd\n",
    "from datetime import datetime, timezone, date\n",
    "import requests\n",
    "from IPython.display import clear_output\n",
    "import random \n",
    "import time \n",
    "import numpy as np"
   ]
  },
  {
   "cell_type": "code",
   "execution_count": 10,
   "id": "b8f570df-2c1c-46e6-a621-29f6570024f0",
   "metadata": {},
   "outputs": [
    {
     "name": "stdout",
     "output_type": "stream",
     "text": [
      "21614 matches found\n"
     ]
    }
   ],
   "source": [
    "match_files_path = \"Data/Raw/Match_details/**/*json\"\n",
    "all_match_files = glob.glob(match_files_path, recursive=True)\n",
    "total_files = len(all_match_files)\n",
    "print(f\"{total_files} matches found\")\n",
    "\n",
    "target_files = all_match_files"
   ]
  },
  {
   "cell_type": "code",
   "execution_count": 11,
   "id": "e730b26e-04ce-43c3-9b28-0b66d5306e13",
   "metadata": {},
   "outputs": [
    {
     "name": "stdout",
     "output_type": "stream",
     "text": [
      "ERROR: Could not process file Data/Raw/Match_details/2603_match_details/2603_TTEMSINGLES-----------R32-000500----------.json\n"
     ]
    }
   ],
   "source": [
    "player_ids= set()\n",
    "\n",
    "for file in target_files:\n",
    "\n",
    "    try:\n",
    "    \n",
    "        with open(file, 'r', encoding=\"utf-8\") as f:\n",
    "            \n",
    "            match_data = json.load(f)\n",
    "          \n",
    "        ## 'competitiors' is a key typo but it is correct\n",
    "        competitors = match_data.get(\"competitiors\")\n",
    "\n",
    "        if competitors and isinstance(competitors, list):\n",
    "        \n",
    "            player_id_1 = competitors[0].get(\"competitiorId\")\n",
    "            player_id_2 = competitors[1].get(\"competitiorId\")\n",
    "    \n",
    "            if player_id_1:\n",
    "                player_ids.add(player_id_1)\n",
    "            if player_id_2:\n",
    "                player_ids.add(player_id_2)\n",
    "        \n",
    "    except json.JSONDecodeError:\n",
    "        print(f\"ERROR: Could not decode JSON for file:{file}\")\n",
    "    except Exception as e:\n",
    "        print(f\"ERROR: Could not process file {file}\")"
   ]
  },
  {
   "cell_type": "code",
   "execution_count": 12,
   "id": "f6b1d0c0-54d7-4a0c-9eec-935eb4254d35",
   "metadata": {},
   "outputs": [],
   "source": [
    "player_ids_list = list(player_ids)"
   ]
  },
  {
   "cell_type": "code",
   "execution_count": 13,
   "id": "a7fc2be7-1389-4a83-ab85-b0d4a4a167c9",
   "metadata": {},
   "outputs": [
    {
     "name": "stdout",
     "output_type": "stream",
     "text": [
      "2439\n"
     ]
    }
   ],
   "source": [
    "player_ids_list.sort()\n",
    "print(len(player_ids_list))"
   ]
  },
  {
   "cell_type": "code",
   "execution_count": 14,
   "id": "a0e736f3-9e6e-4d3d-8f93-4ed7697c4b11",
   "metadata": {},
   "outputs": [],
   "source": [
    "def get_player_details(player_id):\n",
    "    \"\"\"\n",
    "    Fetches detailed information for a single player using their ITTF ID.\n",
    "\n",
    "    Args:\n",
    "        player_id (int or str): The ITTF ID of the player.\n",
    "\n",
    "    Returns:\n",
    "        dict: The JSON response data as a Python dictionary, or None if an error occurs.\n",
    "    \"\"\"\n",
    "    url = 'https://wtt-ttu-connect-frontdoor-g6gwg6e2bgc6gdfm.a01.azurefd.net/Players/GetPlayers'\n",
    "    \n",
    "    # Generate a current timestamp in the required format to avoid cached results.\n",
    "    current_timestamp = datetime.now(timezone.utc).strftime('%Y-%m-%dT%H:%M:%S.%f')[:-3] + 'Z'\n",
    "\n",
    "    params = {\n",
    "        'IttfId': player_id,\n",
    "        'q': current_timestamp\n",
    "    }\n",
    "\n",
    "    headers = {\n",
    "        'accept': 'application/json, text/plain, */*',\n",
    "        'accept-language': 'en-GB,en;q=0.9,es;q=0.8',\n",
    "        'apikey': '2bf8b222-532c-4c60-8ebe-eb6fdfebe84a',\n",
    "        'cache-control': 'no-cache',\n",
    "        'dnt': '1',\n",
    "        'origin': 'https://www.worldtabletennis.com',\n",
    "        'pragma': 'no-cache',\n",
    "        'priority': 'u=1, i',\n",
    "        'referer': 'https://www.worldtabletennis.com/',\n",
    "        'sec-ch-ua': '\"Chromium\";v=\"140\", \"Not=A?Brand\";v=\"24\", \"Google Chrome\";v=\"140\"',\n",
    "        'sec-ch-ua-mobile': '?1',\n",
    "        'sec-ch-ua-platform': '\"Android\"',\n",
    "        'sec-fetch-dest': 'empty',\n",
    "        'sec-fetch-mode': 'cors',\n",
    "        'sec-fetch-site': 'cross-site',\n",
    "        'secapimkey': 'S_WTT_882jjh7basdj91834783mds8j2jsd81',\n",
    "        'user-agent': 'Mozilla/5.0 (Linux; Android 11.0; Surface Duo) AppleWebKit/537.36 (KHTML, like Gecko) Chrome/140.0.0.0 Mobile Safari/537.36'\n",
    "    }\n",
    "\n",
    "    try:\n",
    "        response = requests.get(url, params=params, headers=headers)\n",
    "        response.raise_for_status()\n",
    "        return response.json()\n",
    "    except requests.exceptions.HTTPError as err:\n",
    "        print(f\"HTTP Error occurred for player {player_id}: {err}\")\n",
    "    except requests.exceptions.RequestException as err:\n",
    "        print(f\"An error occurred for player {player_id}: {err}\")\n",
    "    \n",
    "    return None\n",
    "\n",
    "\n"
   ]
  },
  {
   "cell_type": "code",
   "execution_count": 17,
   "id": "0343ac98-8e5c-40c4-8537-185876fd1596",
   "metadata": {},
   "outputs": [
    {
     "name": "stdout",
     "output_type": "stream",
     "text": [
      "✅ Finished! \n",
      "Successfully fetched details for 2087/2439 players.\n"
     ]
    }
   ],
   "source": [
    "players_list = []\n",
    "\n",
    "total_players = len(ids)\n",
    "print(f\"--- 🟢 Commencing Player Detail Scraper for {total_players} players 🟢 ---\")\n",
    "\n",
    "for number, player_id in enumerate(ids):\n",
    "    \n",
    "   \n",
    "    sleep_duration = random.uniform(0.02, 0.1)\n",
    "        \n",
    "   \n",
    "    \n",
    "\n",
    "    player_data_response = get_player_details(player_id)\n",
    "    \n",
    "\n",
    "    if player_data_response:\n",
    "        result_list = player_data_response.get(\"Result\")\n",
    "        if result_list and isinstance(result_list, list):\n",
    "            player_data = result_list[0]\n",
    "            players_list.append(player_data)\n",
    "\n",
    "    clear_output(wait=True)\n",
    "    print(f\"--- 🟢 Commencing Player Detail Scraper for {total_players} players 🟢 ---\")\n",
    "    print(f\"✅Found Data for ID:{player_id} {number + 1}/{total_players} (ID: {player_id}). Pausing for {sleep_duration:.1f}s...\")\n",
    "\n",
    "    time.sleep(sleep_duration)\n",
    "\n",
    "\n",
    "clear_output(wait=True)\n",
    "print(f\"✅ Finished! \\nSuccessfully fetched details for {len(players_list)}/{total_players} players.\")\n",
    "players_df = pd.DataFrame(players_list)"
   ]
  },
  {
   "cell_type": "code",
   "execution_count": 19,
   "id": "c792897c-0064-4e10-bdd6-1c8446759a1e",
   "metadata": {},
   "outputs": [
    {
     "data": {
      "text/html": [
       "<div>\n",
       "<style scoped>\n",
       "    .dataframe tbody tr th:only-of-type {\n",
       "        vertical-align: middle;\n",
       "    }\n",
       "\n",
       "    .dataframe tbody tr th {\n",
       "        vertical-align: top;\n",
       "    }\n",
       "\n",
       "    .dataframe thead th {\n",
       "        text-align: right;\n",
       "    }\n",
       "</style>\n",
       "<table border=\"1\" class=\"dataframe\">\n",
       "  <thead>\n",
       "    <tr style=\"text-align: right;\">\n",
       "      <th></th>\n",
       "      <th>IttfId</th>\n",
       "      <th>PlayerName</th>\n",
       "      <th>CountryCode</th>\n",
       "      <th>Gender</th>\n",
       "      <th>Age</th>\n",
       "      <th>DOB</th>\n",
       "      <th>Handedness</th>\n",
       "      <th>Grip</th>\n",
       "      <th>HeadShot</th>\n",
       "    </tr>\n",
       "  </thead>\n",
       "  <tbody>\n",
       "    <tr>\n",
       "      <th>0</th>\n",
       "      <td>100032</td>\n",
       "      <td>Farah ABDELAZIZ</td>\n",
       "      <td>EGY</td>\n",
       "      <td>F</td>\n",
       "      <td>33</td>\n",
       "      <td>09/01/1992 00:00:00</td>\n",
       "      <td>Right Hand</td>\n",
       "      <td>Shakehand</td>\n",
       "      <td>https://wttsimfiles.blob.core.windows.net/wtt-...</td>\n",
       "    </tr>\n",
       "    <tr>\n",
       "      <th>1</th>\n",
       "      <td>100079</td>\n",
       "      <td>Bode ABIODUN</td>\n",
       "      <td>NGR</td>\n",
       "      <td>M</td>\n",
       "      <td>45</td>\n",
       "      <td>09/10/1980 00:00:00</td>\n",
       "      <td>Right Hand</td>\n",
       "      <td>Shakehand</td>\n",
       "      <td>https://wttsimfiles.blob.core.windows.net/wtt-...</td>\n",
       "    </tr>\n",
       "    <tr>\n",
       "      <th>2</th>\n",
       "      <td>100089</td>\n",
       "      <td>Luke ABRAHAMS</td>\n",
       "      <td>RSA</td>\n",
       "      <td>M</td>\n",
       "      <td>37</td>\n",
       "      <td>07/04/1988 00:00:00</td>\n",
       "      <td>None</td>\n",
       "      <td>None</td>\n",
       "      <td>None</td>\n",
       "    </tr>\n",
       "    <tr>\n",
       "      <th>3</th>\n",
       "      <td>100189</td>\n",
       "      <td>Ahmed ALAWLAQI</td>\n",
       "      <td>QAT</td>\n",
       "      <td>M</td>\n",
       "      <td>34</td>\n",
       "      <td>01/23/1991 00:00:00</td>\n",
       "      <td>None</td>\n",
       "      <td>None</td>\n",
       "      <td>https://wttsimfiles.blob.core.windows.net/wtt-...</td>\n",
       "    </tr>\n",
       "    <tr>\n",
       "      <th>4</th>\n",
       "      <td>100196</td>\n",
       "      <td>Moosa AHMED</td>\n",
       "      <td>MDV</td>\n",
       "      <td>M</td>\n",
       "      <td>38</td>\n",
       "      <td>07/10/1987 00:00:00</td>\n",
       "      <td>None</td>\n",
       "      <td>None</td>\n",
       "      <td>None</td>\n",
       "    </tr>\n",
       "  </tbody>\n",
       "</table>\n",
       "</div>"
      ],
      "text/plain": [
       "   IttfId       PlayerName CountryCode Gender Age                  DOB  \\\n",
       "0  100032  Farah ABDELAZIZ         EGY      F  33  09/01/1992 00:00:00   \n",
       "1  100079     Bode ABIODUN         NGR      M  45  09/10/1980 00:00:00   \n",
       "2  100089    Luke ABRAHAMS         RSA      M  37  07/04/1988 00:00:00   \n",
       "3  100189   Ahmed ALAWLAQI         QAT      M  34  01/23/1991 00:00:00   \n",
       "4  100196      Moosa AHMED         MDV      M  38  07/10/1987 00:00:00   \n",
       "\n",
       "   Handedness       Grip                                           HeadShot  \n",
       "0  Right Hand  Shakehand  https://wttsimfiles.blob.core.windows.net/wtt-...  \n",
       "1  Right Hand  Shakehand  https://wttsimfiles.blob.core.windows.net/wtt-...  \n",
       "2        None       None                                               None  \n",
       "3        None       None  https://wttsimfiles.blob.core.windows.net/wtt-...  \n",
       "4        None       None                                               None  "
      ]
     },
     "metadata": {},
     "output_type": "display_data"
    }
   ],
   "source": [
    "players_df = players_df.dropna(axis=1, how='all')\n",
    "columns_to_drop = [\n",
    "    'PlayerGivenName',\n",
    "    'PlayerFamilyName',\n",
    "    'PlayerFamilyNameFirst',\n",
    "    'CountryName',\n",
    "    'NationalityCode',\n",
    "    'NationalityName',\n",
    "    'OrganizationCode',\n",
    "    'OrganizationName',    \n",
    "    'HeadshotR',\n",
    "    'HeadshotL'\n",
    "]\n",
    "\n",
    "\n",
    "cleaned_players_df = players_df.drop(columns=columns_to_drop, errors='ignore')\n",
    "\n",
    "display(cleaned_players_df.head())"
   ]
  },
  {
   "cell_type": "code",
   "execution_count": 20,
   "id": "8c2024ae-6763-4486-8770-418ae955a0f1",
   "metadata": {},
   "outputs": [],
   "source": [
    "def get_player_style(player_id):\n",
    "    \"\"\"\n",
    "    Scrapes a player's profile page and searches the raw HTML for style keywords.\n",
    "    This is very rudimentary but usually works! Data ia taken from ITTF website\n",
    "    \"\"\"\n",
    "    url = 'https://results.ittf.link/index.php/player-profile/list/60'\n",
    "    params = {'vw_profiles___player_id_raw': player_id}\n",
    "    headers = {\n",
    "        'user-agent': 'Mozilla/5.0 (Windows NT 10.0; Win64; x64) AppleWebKit/537.36 (KHTML, like Gecko) Chrome/129.0.0.0 Safari/537.36'\n",
    "    }\n",
    "\n",
    "    try:\n",
    "        # Get the entire HTML content as a single string\n",
    "        response = requests.get(url, params=params, headers=headers)\n",
    "        response.raise_for_status()\n",
    "        html_text = response.text\n",
    "        \n",
    "\n",
    "        # Check if the keywords exist anywhere in the text\n",
    "        if 'Attack' in html_text:\n",
    "            return 'Attack'\n",
    "        elif 'Defence' in html_text:\n",
    "            return 'Defence'\n",
    "        else:\n",
    "            return 'Style not found'\n",
    "\n",
    "    except Exception as e:\n",
    "        print(f\"An error occurred for player {player_id}: {e}\")\n",
    "        return None"
   ]
  },
  {
   "cell_type": "code",
   "execution_count": 22,
   "id": "646cee0e-27a7-4e34-bb31-51785e088f87",
   "metadata": {},
   "outputs": [
    {
     "name": "stdout",
     "output_type": "stream",
     "text": [
      "✅ Finished! \n",
      "Successfully fetched styles for 2087/2087 players.\n"
     ]
    }
   ],
   "source": [
    "style_info = []\n",
    "\n",
    "\n",
    "id_list = cleaned_players_df[\"IttfId\"]\n",
    "total_players = len(id_list)\n",
    "\n",
    "print(f\"--- 🟢 Commencing Player Detail Scraper for {total_players} players 🟢 ---\")\n",
    "\n",
    "\n",
    "\n",
    "\n",
    "for number, player_id in enumerate(id_list):\n",
    "    \n",
    "    sleep_duration = random.uniform(0.01, 0.03)\n",
    "    \n",
    "    style = get_player_style(player_id)\n",
    "    player_style = {\n",
    "        \"IttfId\" : player_id,\n",
    "        \"Style\" : style\n",
    "    }\n",
    "    style_info.append(player_style)\n",
    "        \n",
    "    clear_output(wait=True)\n",
    "    print(f\"--- 🟢 Commencing Player Detail Scraper for {total_players} players 🟢 ---\")\n",
    "    print(f\"✅Found Data for ID:{player_id} {number + 1}/{total_players} (ID: {player_id}). Pausing for {sleep_duration:.1f}s...\")\n",
    "    time.sleep(sleep_duration)\n",
    "\n",
    "    \n",
    "    \n",
    "clear_output(wait=True)\n",
    "print(f\"✅ Finished! \\nSuccessfully fetched styles for {len(id_list)}/{total_players} players.\")\n"
   ]
  },
  {
   "cell_type": "code",
   "execution_count": 23,
   "id": "c1f26208-e65a-47a5-b8f2-8e37ae42318d",
   "metadata": {},
   "outputs": [],
   "source": [
    "styles_df = pd.DataFrame(style_info)\n",
    "final_players_df = pd.merge(cleaned_players_df,styles_df)"
   ]
  },
  {
   "cell_type": "code",
   "execution_count": 24,
   "id": "64a06a1f-ba28-4ed2-ac9c-c6d86a9175bd",
   "metadata": {},
   "outputs": [],
   "source": [
    "final_players_df.replace(\"Style not found\", None, inplace=True)\n",
    "\n",
    "final_players_df.replace(to_replace=np.nan, value=None, inplace=True)\n",
    "\n",
    "\n"
   ]
  },
  {
   "cell_type": "code",
   "execution_count": 25,
   "id": "63f730bf-a3a4-45b7-b9e9-5bbdc1f54028",
   "metadata": {},
   "outputs": [],
   "source": [
    "output_dir = \"Data/Processed/Players\"\n",
    "os.makedirs(output_dir, exist_ok=True)\n",
    "now= date.today().strftime('%Y%m%d')\n",
    "file_name = f\"{now}_players.csv\"\n",
    "file_path = f\"{output_dir}/{file_name}\"\n",
    "final_players_df.to_csv(file_path, index=False)"
   ]
  },
  {
   "cell_type": "code",
   "execution_count": 26,
   "id": "34fd3a4a-c184-4469-b622-c4824d01bc80",
   "metadata": {
    "scrolled": true
   },
   "outputs": [
    {
     "data": {
      "text/plain": [
       "IttfId                       90051\n",
       "PlayerName         Francisco LOPEZ\n",
       "CountryCode                    VEN\n",
       "Gender                           M\n",
       "Age                             63\n",
       "DOB            09/19/1962 00:00:00\n",
       "Handedness                    None\n",
       "Grip                          None\n",
       "HeadShot                      None\n",
       "Style                       Attack\n",
       "Name: 2086, dtype: object"
      ]
     },
     "execution_count": 26,
     "metadata": {},
     "output_type": "execute_result"
    }
   ],
   "source": [
    "final_players_df.iloc[-1]"
   ]
  },
  {
   "cell_type": "code",
   "execution_count": null,
   "id": "ac6c50f9-21b0-47a0-bbda-8d7d518fd353",
   "metadata": {},
   "outputs": [],
   "source": []
  },
  {
   "cell_type": "code",
   "execution_count": null,
   "id": "7c5a9e89-5c88-4231-b51c-078715f922d5",
   "metadata": {},
   "outputs": [],
   "source": []
  }
 ],
 "metadata": {
  "kernelspec": {
   "display_name": "Python 3 (ipykernel)",
   "language": "python",
   "name": "python3"
  },
  "language_info": {
   "codemirror_mode": {
    "name": "ipython",
    "version": 3
   },
   "file_extension": ".py",
   "mimetype": "text/x-python",
   "name": "python",
   "nbconvert_exporter": "python",
   "pygments_lexer": "ipython3",
   "version": "3.13.7"
  }
 },
 "nbformat": 4,
 "nbformat_minor": 5
}

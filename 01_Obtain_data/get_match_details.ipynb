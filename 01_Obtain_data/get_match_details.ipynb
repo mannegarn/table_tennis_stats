{
 "cells": [
  {
   "cell_type": "code",
   "execution_count": 181,
   "id": "16f9776b-0771-49dc-91cd-a28cdafb283a",
   "metadata": {},
   "outputs": [],
   "source": [
    "import requests\n",
    "import json\n",
    "import pandas as pd\n",
    "import os\n",
    "from datetime import datetime\n",
    "import re\n",
    "import random \n",
    "import time \n",
    "from IPython.display import display, clear_output, HTML\n",
    "import glob"
   ]
  },
  {
   "cell_type": "code",
   "execution_count": 108,
   "id": "5689291b-b12d-472c-b7dc-f3619b77a419",
   "metadata": {},
   "outputs": [],
   "source": [
    "# Test for the final match of men's China Smash 2025 \n",
    "event_id = \"3098\"\n",
    "match_code = \"TTEMSINGLES-----------FNL-000100----------\""
   ]
  },
  {
   "cell_type": "code",
   "execution_count": 182,
   "id": "017db204-4e5d-4f40-9afa-40625751d40b",
   "metadata": {},
   "outputs": [],
   "source": [
    "def get_match_details(event_id, match_code):\n",
    "    \"\"\"\n",
    "    Fetches the detailed card for a single match using its event ID and match code.\n",
    "\n",
    "    Args:\n",
    "        event_id (int or str): The ID of the event.\n",
    "        match_code (str): The unique document code for the match.\n",
    "\n",
    "    Returns:\n",
    "        dict: The JSON response data as a Python dictionary, or None if an error occurs.\n",
    "    \"\"\"\n",
    "    # The URL is an f-string, allowing us to insert the arguments dynamically\n",
    "    url = f\"https://liveeventsapi.worldtabletennis.com/api/cms/GetMatchCardDetails/{event_id}/{match_code}?&use_live_match_cache=false\"\n",
    "    \n",
    "    headers = {\n",
    "        'Accept': 'application/json',\n",
    "        'Accept-Language': 'en-GB,en;q=0.9,es;q=0.8',\n",
    "        'Cache-Control': 'no-cache',\n",
    "        'Connection': 'keep-alive',\n",
    "        'Content-Type': 'application/json',\n",
    "        'DNT': '1',\n",
    "        'Origin': 'https://www.worldtabletennis.com',\n",
    "        'Pragma': 'no-cache',\n",
    "        'Referer': 'https://www.worldtabletennis.com/',\n",
    "        'Sec-Fetch-Dest': 'empty',\n",
    "        'Sec-Fetch-Mode': 'cors',\n",
    "        'Sec-Fetch-Site': 'same-site',\n",
    "        'User-Agent': 'Mozilla/5.0 (Linux; Android 11.0; Surface Duo) AppleWebKit/537.36 (KHTML, like Gecko) Chrome/140.0.0.0 Mobile Safari/537.36',\n",
    "        'sec-ch-ua': '\"Chromium\";v=\"140\", \"Not=A?Brand\";v=\"24\", \"Google Chrome\";v=\"140\"',\n",
    "        'sec-ch-ua-mobile': '?1',\n",
    "        'sec-ch-ua-platform': '\"Android\"'\n",
    "    }\n",
    "    \n",
    "    try:\n",
    "        response = requests.get(url, headers=headers)\n",
    "        response.raise_for_status() # Raise an error for bad status codes\n",
    "        return response.json()\n",
    "    except requests.exceptions.HTTPError as err:\n",
    "        print(f\"HTTP Error for match {match_code}: {err}\")\n",
    "    except requests.exceptions.RequestException as err:\n",
    "        print(f\"An error occurred for match {match_code}: {err}\")\n",
    "        \n",
    "    return None\n",
    "\n",
    "\n",
    "\n",
    "  \n",
    "    \n",
    "    "
   ]
  },
  {
   "cell_type": "code",
   "execution_count": 183,
   "id": "9bdf0e98-22d6-4921-ba7e-8e3408344c3f",
   "metadata": {},
   "outputs": [],
   "source": [
    "events_df = pd.read_csv(\"Data/Processed/Events/20251007_events.csv\")\n"
   ]
  },
  {
   "cell_type": "code",
   "execution_count": null,
   "id": "62c0bd68-8780-445b-b30c-8b0b08027ec4",
   "metadata": {},
   "outputs": [],
   "source": []
  },
  {
   "cell_type": "code",
   "execution_count": 184,
   "id": "3bb99b03-3956-45a6-a5fc-21fbb17bffae",
   "metadata": {},
   "outputs": [
    {
     "name": "stdout",
     "output_type": "stream",
     "text": [
      "155\n"
     ]
    }
   ],
   "source": [
    "payload_files = glob.glob(\"Data/Processed/Match_payloads/*singles_payloads.csv\")\n",
    "print(len(payload_files))\n",
    "\n",
    "filtered_payload_files = [file for file in payload_files if not any(s in file for s in smash_ids_list)]\n",
    "\n",
    "\n",
    "output_dir = \"Data/Raw/Match_details\"\n",
    "os.makedirs(output_dir, exist_ok=True)\n"
   ]
  },
  {
   "cell_type": "code",
   "execution_count": 185,
   "id": "f5c1b166-4946-4718-8cc5-aa69e59f54fa",
   "metadata": {},
   "outputs": [
    {
     "name": "stdout",
     "output_type": "stream",
     "text": [
      "--- 🟢 Commencing Match Detail Scraper 🟢---\n",
      "Processing Event 2534: 155/155\n",
      "Processing Match:      180/180\n",
      "Obtained Match Code for 2534/TTEMSINGLES-----------RND1001800----------, pausing for 0.1 s.\n",
      "Total run time = 315 m and 1 s.\n",
      "✅ Finished obtaining match deatails for 155 events\n"
     ]
    }
   ],
   "source": [
    "start_time = time.perf_counter()\n",
    "\n",
    "print(\"--- 🟢 Commencing Match Detail Scraper 🟢---\")\n",
    "\n",
    "total_files = len(payload_files)\n",
    "for file_number, file in enumerate(payload_files):   \n",
    "\n",
    "    \n",
    "    \n",
    "    \n",
    "    payloads_df = pd.read_csv(file)\n",
    "    total_matches = len(payloads_df)   \n",
    "  \n",
    "\n",
    "    event_id = payloads_df[\"eventId\"].iloc[0]    \n",
    "    match_codes = payloads_df[\"documentCode\"]\n",
    "   \n",
    "\n",
    "    output_path = f\"{output_dir}/{event_id}_match_details\"\n",
    "    os.makedirs(output_path, exist_ok=True)\n",
    "  \n",
    "\n",
    "    for match_number, match_code in enumerate(match_codes):\n",
    "        pause = random.uniform(0.01,0.1)\n",
    "        match_details = get_match_details(event_id, match_code)\n",
    "        \n",
    "        file_path= f\"{output_path}/{event_id}_{match_code}.json\"\n",
    "        with open (file_path,\"w\") as fp:\n",
    "            json.dump(match_details,fp)\n",
    "        time.sleep(pause)\n",
    "\n",
    "\n",
    "        end_time = time.perf_counter()\n",
    "        duration = end_time - start_time\n",
    "        minutes, seconds = divmod(duration, 60)\n",
    "        \n",
    "        clear_output(wait=True)\n",
    "        print(\"--- 🟢 Commencing Match Detail Scraper 🟢---\")\n",
    "        print(f\"Processing Event {event_id}: {file_number + 1}/{total_files}\")\n",
    "        print(f\"Processing Match:      {match_number + 1}/{total_matches}\")       \n",
    "        print (f\"Obtained Match Code for {event_id}/{match_code}, pausing for {pause:.1f} s.\")\n",
    "        print(f\"Total run time = {int(minutes)} m and {seconds:.0f} s.\")\n",
    "        \n",
    "        \n",
    "\n",
    "       \n",
    "        \n",
    "print(f\"✅ Finished obtaining match deatails for {total_files} events\") \n",
    "\n",
    "\n"
   ]
  },
  {
   "cell_type": "code",
   "execution_count": 86,
   "id": "32181b37-6dc5-43f1-92af-22eba682b59a",
   "metadata": {},
   "outputs": [
    {
     "data": {
      "text/plain": [
       "dict"
      ]
     },
     "execution_count": 86,
     "metadata": {},
     "output_type": "execute_result"
    }
   ],
   "source": [
    "type(match_details)"
   ]
  },
  {
   "cell_type": "code",
   "execution_count": 154,
   "id": "68a8ae63-a2ee-4f99-b325-fef45e956fde",
   "metadata": {},
   "outputs": [],
   "source": [
    "events = []\n",
    "for direc in glob.glob(f\"{output_dir}/*\"):\n",
    "    events. append({\"event\":direc, \"count\":len(os.listdir(direc))})\n",
    "\n",
    "    "
   ]
  },
  {
   "cell_type": "code",
   "execution_count": 155,
   "id": "67afed1f-ee4a-4b1d-aa31-8c006fee52cd",
   "metadata": {},
   "outputs": [
    {
     "data": {
      "text/plain": [
       "[{'event': 'Data/Raw/Match_details/2536_match_details', 'count': 210},\n",
       " {'event': 'Data/Raw/Match_details/2629_match_details', 'count': 237},\n",
       " {'event': 'Data/Raw/Match_details/2904_match_details', 'count': 237},\n",
       " {'event': 'Data/Raw/Match_details/2932_match_details', 'count': 238},\n",
       " {'event': 'Data/Raw/Match_details/2942_match_details', 'count': 236},\n",
       " {'event': 'Data/Raw/Match_details/3082_match_details', 'count': 264},\n",
       " {'event': 'Data/Raw/Match_details/3085_match_details', 'count': 238},\n",
       " {'event': 'Data/Raw/Match_details/3098_match_details', 'count': 237},\n",
       " {'event': 'Data/Raw/Match_details/3128_match_details', 'count': 238}]"
      ]
     },
     "execution_count": 155,
     "metadata": {},
     "output_type": "execute_result"
    }
   ],
   "source": [
    "sorted(events, key = lambda x: x[\"event\"])"
   ]
  },
  {
   "cell_type": "code",
   "execution_count": null,
   "id": "41771cab-bcd8-40bb-abd4-d2658c00cb91",
   "metadata": {},
   "outputs": [],
   "source": []
  }
 ],
 "metadata": {
  "kernelspec": {
   "display_name": "Python 3 (ipykernel)",
   "language": "python",
   "name": "python3"
  },
  "language_info": {
   "codemirror_mode": {
    "name": "ipython",
    "version": 3
   },
   "file_extension": ".py",
   "mimetype": "text/x-python",
   "name": "python",
   "nbconvert_exporter": "python",
   "pygments_lexer": "ipython3",
   "version": "3.13.7"
  }
 },
 "nbformat": 4,
 "nbformat_minor": 5
}

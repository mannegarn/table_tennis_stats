{
 "cells": [
  {
   "cell_type": "code",
   "execution_count": 142,
   "id": "b61ef0d8-6031-41c7-b54d-8abc6f41b904",
   "metadata": {},
   "outputs": [],
   "source": [
    "import pandas as pd\n",
    "import os\n",
    "import glob\n",
    "from typing import List, Tuple"
   ]
  },
  {
   "cell_type": "code",
   "execution_count": 267,
   "id": "c900ee26-c2ae-437d-a0ef-997551e77863",
   "metadata": {},
   "outputs": [],
   "source": [
    "# --- CONFIGURATION ---\n",
    "\n",
    "# Input directory containing RAW match payload CSVs (from script 03)\n",
    "RAW_PAYLOADS_DIR = \"../Data/Raw/Match_payloads\" # Or _test depending on your setup\n",
    "\n",
    "# Output directory for PROCESSED (singles-only) match payload CSVs\n",
    "OUTPUT_DIR = \"../Data/Processed/Singles_match_payloads\"\n",
    "PAYLOADS_FILES = glob.glob (f\"{RAW_PAYLOADS_DIR}/*csv\")\n",
    "\n",
    "# Define string to  be kept for subeeventtype data. \n",
    "REMOVE_STRING = \"double\""
   ]
  },
  {
   "cell_type": "code",
   "execution_count": 268,
   "id": "b9b7680b-cfac-4b3a-9ac6-a4f301432e10",
   "metadata": {},
   "outputs": [],
   "source": [
    "def filter_singles_payloads(raw_payloads_dir: str, output_dir: str, REMOVE_STRING: str) -> Tuple[List[int], List[int], List[int], List[int]]:\n",
    "    \"\"\"\n",
    "    Filters raw match payload CSVs to keep only singles matches.\n",
    "    Here, Teams Matches alongside Singles matches are kept.\n",
    "    There MAY be cases where a teams match was doubles format (shall be filtered out later)\n",
    "    Saves filtered singles payloads to the specified output directory.\n",
    "    Returns lists of event ids: to be used for user checking of results.\n",
    "    1. success_ids: Events where singles payloads were found\n",
    "    2. only_doubles_ids: Events with data but no singles matches (e.g only doubles matches)\n",
    "    3. empty_payload_ids: Events whose payload files contiained no payloads\n",
    "    4. error_ids: Events where reading the file caused an unexpected error\n",
    "    \"\"\"\n",
    "    \n",
    "    print(\"--- 🟠 Filtering Singles Payloads 🟠 ---\")\n",
    "    \n",
    "    os.makedirs(output_dir, exist_ok= True)\n",
    "    # get the paths to all raw ppayloads_files\n",
    "    payloads_files = glob.glob(f\"{raw_payloads_dir}/*csv\")\n",
    "    payloads_files.sort()\n",
    "\n",
    "    success_ids = []\n",
    "    no_singles_ids = []\n",
    "    no_data_ids = []\n",
    "    error_ids = [] \n",
    "\n",
    "    # loop through each file\n",
    "    for file in payloads_files:\n",
    "        \n",
    "        # get event id from filename, less robust but  (avoids errors if df can not be read)\n",
    "        event_id = os.path.basename(file).split('_')[0]\n",
    "        if not event_id.isdigit():\n",
    "            print(f\"SKIPPING file: not in expected naming formnat\")\n",
    "            error_ids.append(event_id)\n",
    "            continue        \n",
    "\n",
    "    \n",
    "        try:\n",
    "            # get df of the match payloads\n",
    "            payloads_df = pd.read_csv(file)         \n",
    "\n",
    "            # filter to select only the singles match paylods \n",
    "            doubles_mask = payloads_df[\"subEventType\"].str.contains(REMOVE_STRING, na=False, case=False)\n",
    "            \n",
    "            singles_payloads_df = payloads_df[~doubles_mask].copy()\n",
    "\n",
    "        \n",
    "            # If the singles payloads df is not empty, \n",
    "            if not singles_payloads_df.empty:\n",
    "                # get filepath for saving as csv\n",
    "                filepath = os.path.join(output_dir,f\"{event_id}_singles_payloads.csv\" )\n",
    "                singles_payloads_df.to_csv(filepath)\n",
    "                success_ids.append(event_id)\n",
    "            else:               \n",
    "                no_singles_ids.append(event_id)\n",
    "\n",
    "        # if pandas can't read the empty file, catch the error and add id to to no_data list      \n",
    "        except pd.errors.EmptyDataError:\n",
    "            \n",
    "            no_data_ids.append(event_id)\n",
    "            continue # Go to the next file\n",
    "\n",
    "        # catches other unexpected i/o errors.\n",
    "        except Exception as e: \n",
    "            print(f\"❌ Error processing event {event_id} ({os.path.basename(file)}): {e}\")\n",
    "            error_ids.append(event_id)\n",
    "            continue\n",
    "    \n",
    "            \n",
    "    print(f\"\\n--- ✅ Filtering Complete ---\")\n",
    "    print(f\"Successfully processed and saved singles payloads for: {len(success_ids)} events\")\n",
    "    print(f\"Events found with ONLY non-singles payloads: {len(no_singles_ids)} events\")\n",
    "    print(f\"Events found with EMPTY payload files: {len(no_data_ids)} events\")\n",
    "    print(f\"⚠️ Encountered unexpected errors processing: {len(error_ids)} events\") \n",
    "        \n",
    "        \n",
    "    return success_ids, no_singles_ids, no_data_ids, error_ids             "
   ]
  },
  {
   "cell_type": "code",
   "execution_count": 270,
   "id": "e307f5f6-bbfe-48e8-9c77-1a2534ad30e0",
   "metadata": {},
   "outputs": [
    {
     "name": "stdout",
     "output_type": "stream",
     "text": [
      "--- 🟠 Filtering Singles Payloads 🟠 ---\n",
      "\n",
      "--- ✅ Filtering Complete ---\n",
      "Successfully processed and saved singles payloads for: 183 events\n",
      "Events found with ONLY non-singles payloads: 1 events\n",
      "Events found with EMPTY payload files: 118 events\n",
      "⚠️ Encountered unexpected errors processing: 0 events\n"
     ]
    }
   ],
   "source": [
    "if __name__ == \"__main__\":\n",
    "    \n",
    "    success, no_singles, empty, error = filter_singles_payloads(RAW_PAYLOADS_DIR, OUTPUT_DIR, REMOVE_STRING)"
   ]
  },
  {
   "cell_type": "code",
   "execution_count": 271,
   "id": "936a5f75-cd35-4ee6-8169-307b41c037dd",
   "metadata": {},
   "outputs": [
    {
     "data": {
      "text/plain": [
       "['2275']"
      ]
     },
     "execution_count": 271,
     "metadata": {},
     "output_type": "execute_result"
    }
   ],
   "source": [
    "no_singles"
   ]
  },
  {
   "cell_type": "code",
   "execution_count": null,
   "id": "19db4158-a0ac-4b50-9275-36086d2fbc86",
   "metadata": {},
   "outputs": [],
   "source": []
  }
 ],
 "metadata": {
  "kernelspec": {
   "display_name": "Python 3 (ipykernel)",
   "language": "python",
   "name": "python3"
  },
  "language_info": {
   "codemirror_mode": {
    "name": "ipython",
    "version": 3
   },
   "file_extension": ".py",
   "mimetype": "text/x-python",
   "name": "python",
   "nbconvert_exporter": "python",
   "pygments_lexer": "ipython3",
   "version": "3.13.7"
  }
 },
 "nbformat": 4,
 "nbformat_minor": 5
}

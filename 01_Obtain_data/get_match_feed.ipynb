{
 "cells": [
  {
   "cell_type": "code",
   "execution_count": 59,
   "id": "ec5860fe-3357-4244-a838-d9ceebd2f868",
   "metadata": {},
   "outputs": [],
   "source": [
    "import requests\n",
    "import json\n",
    "import time\n",
    "import random \n",
    "import glob\n",
    "import pandas as pd "
   ]
  },
  {
   "cell_type": "code",
   "execution_count": 3,
   "id": "79ddc7e9-981c-4fd2-80e7-f86d6768d98f",
   "metadata": {},
   "outputs": [],
   "source": [
    "def get_match_feed(event_id, match_id):\n",
    "    \"\"\"\n",
    "    Fetches the detailed point-by-point message feed for a single match.\n",
    "\n",
    "    Args:\n",
    "        event_id (int or str): The ID of the event.\n",
    "        match_id (str): The unique document code for the match.\n",
    "\n",
    "    Returns:\n",
    "        dict: The JSON response data as a Python dictionary, or None if an error occurs.\n",
    "    \"\"\"\n",
    "    url = \"https://liveeventsapi.worldtabletennis.com/api/cms/LatestMessageImport\"\n",
    "    \n",
    "    # The API expects the MatchId parameter to be enclosed in single quotes.\n",
    "    # The requests library will handle the URL encoding of these quotes.\n",
    "    params = {\n",
    "        'EventId': event_id,\n",
    "        'MatchId': f\"'{match_id}'\"\n",
    "    }\n",
    "    \n",
    "    headers = {\n",
    "        'Accept': 'application/json, text/plain, */*',\n",
    "        'Accept-Language': 'en-GB,en;q=0.9,es;q=0.8',\n",
    "        'Cache-Control': 'no-cache',\n",
    "        'Connection': 'keep-alive',\n",
    "        'DNT': '1',\n",
    "        'Origin': 'https://www.worldtabletennis.com',\n",
    "        'Pragma': 'no-cache',\n",
    "        'Referer': 'https://www.worldtabletennis.com/',\n",
    "        'Sec-Fetch-Dest': 'empty',\n",
    "        'Sec-Fetch-Mode': 'cors',\n",
    "        'Sec-Fetch-Site': 'same-site',\n",
    "        'User-Agent': 'Mozilla/5.0 (Linux; Android 11.0; Surface Duo) AppleWebKit/537.36 (KHTML, like Gecko) Chrome/140.0.0.0 Mobile Safari/537.36',\n",
    "        'sec-ch-ua': '\"Chromium\";v=\"140\", \"Not=A?Brand\";v=\"24\", \"Google Chrome\";v=\"140\"',\n",
    "        'sec-ch-ua-mobile': '?1',\n",
    "        'sec-ch-ua-platform': '\"Android\"',\n",
    "        'secapimkey': 'S_WTT_882jjh7basdj91834783mds8j2jsd81'\n",
    "    }\n",
    "    \n",
    "    try:\n",
    "        response = requests.get(url, params=params, headers=headers)\n",
    "        response.raise_for_status()\n",
    "        return response.json()\n",
    "    except requests.exceptions.HTTPError as err:\n",
    "        print(f\"HTTP Error for match {match_id}: {err}\")\n",
    "    except requests.exceptions.RequestException as err:\n",
    "        print(f\"An error occurred for match {match_id}: {err}\")\n",
    "        \n",
    "    return None\n",
    "\n"
   ]
  },
  {
   "cell_type": "code",
   "execution_count": 5,
   "id": "e0a7707b-3754-424e-9ee0-7bca646fb462",
   "metadata": {},
   "outputs": [
    {
     "name": "stdout",
     "output_type": "stream",
     "text": [
      "✅ Success! Feed data for match TTEMSINGLES-----------FNL-000100----------:\n"
     ]
    }
   ],
   "source": [
    "sample_event_id = 3098\n",
    "sample_match_id = \"TTEMSINGLES-----------FNL-000100----------\"\n",
    "\n",
    "match_feed_data = get_match_feed(sample_event_id, sample_match_id)\n",
    "\n",
    "if match_feed_data:\n",
    "    print(f\"✅ Success! Feed data for match {sample_match_id}:\")\n",
    "    # Pretty-print the JSON response for easy viewing\n",
    "    # print(json.dumps(match_feed_data, indent=2))\n"
   ]
  },
  {
   "cell_type": "code",
   "execution_count": 7,
   "id": "a860ca08-4efc-4171-8074-5fd35facc043",
   "metadata": {},
   "outputs": [
    {
     "data": {
      "text/plain": [
       "dict"
      ]
     },
     "execution_count": 7,
     "metadata": {},
     "output_type": "execute_result"
    }
   ],
   "source": [
    "type(match_feed_data)"
   ]
  },
  {
   "cell_type": "code",
   "execution_count": 9,
   "id": "37ecaf29-df72-442b-a972-9d38db8aceff",
   "metadata": {},
   "outputs": [
    {
     "data": {
      "text/plain": [
       "dict_keys(['messageImportId', 'eventId', 'messagePayload'])"
      ]
     },
     "execution_count": 9,
     "metadata": {},
     "output_type": "execute_result"
    }
   ],
   "source": [
    "match_feed_data.keys()"
   ]
  },
  {
   "cell_type": "code",
   "execution_count": 11,
   "id": "5ff0b54a-bcee-4a41-8b83-a309c9f54b33",
   "metadata": {},
   "outputs": [
    {
     "data": {
      "text/plain": [
       "14597344"
      ]
     },
     "execution_count": 11,
     "metadata": {},
     "output_type": "execute_result"
    }
   ],
   "source": [
    "match_feed_data['messageImportId']"
   ]
  },
  {
   "cell_type": "code",
   "execution_count": 12,
   "id": "194aaa31-376b-4bfc-ad31-1c3ee494793e",
   "metadata": {},
   "outputs": [
    {
     "data": {
      "text/plain": [
       "'3098'"
      ]
     },
     "execution_count": 12,
     "metadata": {},
     "output_type": "execute_result"
    }
   ],
   "source": [
    "match_feed_data[\"eventId\"]"
   ]
  },
  {
   "cell_type": "code",
   "execution_count": 13,
   "id": "a6ad0a2c-74b2-4d38-bc9f-5f5d2da13518",
   "metadata": {},
   "outputs": [
    {
     "data": {
      "text/plain": [
       "str"
      ]
     },
     "execution_count": 13,
     "metadata": {},
     "output_type": "execute_result"
    }
   ],
   "source": [
    "type(match_feed_data[\"messagePayload\"])"
   ]
  },
  {
   "cell_type": "code",
   "execution_count": 18,
   "id": "94e127ff-af24-4a41-b538-ae46682d0e47",
   "metadata": {},
   "outputs": [],
   "source": [
    "feed = match_feed_data['messagePayload']"
   ]
  },
  {
   "cell_type": "code",
   "execution_count": 29,
   "id": "d6b41d9a-3825-4b14-bee5-22abb1745a67",
   "metadata": {},
   "outputs": [],
   "source": [
    "feed_dict = json.loads(feed)"
   ]
  },
  {
   "cell_type": "code",
   "execution_count": 34,
   "id": "71375a3e-efa6-4d7c-9dc3-40ade6176aa3",
   "metadata": {},
   "outputs": [
    {
     "data": {
      "text/plain": [
       "dict_keys(['MatchId', 'SequenceNumber', 'ResultStatus', 'Competition', 'CompetitionCode', 'DocumentCode', 'DocumentType', 'Version', 'FeedFlag', 'LogicalDate', 'LogicalTime', 'UtcDate', 'UtcTime', 'LocalDate', 'LocalTime', 'Source', 'EventId', 'ClusterRegion'])"
      ]
     },
     "execution_count": 34,
     "metadata": {},
     "output_type": "execute_result"
    }
   ],
   "source": [
    "feed_dict.keys()"
   ]
  },
  {
   "cell_type": "code",
   "execution_count": 82,
   "id": "b7655102-b990-41cb-b3ec-a724c172ace6",
   "metadata": {},
   "outputs": [],
   "source": [
    "match_feed = feed_dict[\"Competition\"]['ActionsProgressionByGame']\n"
   ]
  },
  {
   "cell_type": "code",
   "execution_count": 66,
   "id": "f4ca7cbf-0d8d-4c2e-a949-1512e70b9eda",
   "metadata": {},
   "outputs": [],
   "source": [
    "feed_df = pd.DataFrame(match_feed)\n",
    "condition = feed_df['TossWonby'].notna()\n"
   ]
  },
  {
   "cell_type": "code",
   "execution_count": 80,
   "id": "5ebdf13e-a32f-4b84-a03b-b86f9e394e2c",
   "metadata": {},
   "outputs": [],
   "source": [
    "feed_df.to_csv(\"Match_feed.csv\")"
   ]
  },
  {
   "cell_type": "code",
   "execution_count": null,
   "id": "4db4ca6c-5668-4172-a087-422ab88373a5",
   "metadata": {},
   "outputs": [],
   "source": []
  }
 ],
 "metadata": {
  "kernelspec": {
   "display_name": "Python 3 (ipykernel)",
   "language": "python",
   "name": "python3"
  },
  "language_info": {
   "codemirror_mode": {
    "name": "ipython",
    "version": 3
   },
   "file_extension": ".py",
   "mimetype": "text/x-python",
   "name": "python",
   "nbconvert_exporter": "python",
   "pygments_lexer": "ipython3",
   "version": "3.13.7"
  }
 },
 "nbformat": 4,
 "nbformat_minor": 5
}

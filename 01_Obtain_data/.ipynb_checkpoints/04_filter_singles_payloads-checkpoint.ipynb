{
 "cells": [
  {
   "cell_type": "code",
   "execution_count": 142,
   "id": "b61ef0d8-6031-41c7-b54d-8abc6f41b904",
   "metadata": {},
   "outputs": [],
   "source": [
    "import pandas as pd\n",
    "import os\n",
    "import glob\n",
    "from typing import List, Tuple"
   ]
  },
  {
   "cell_type": "code",
   "execution_count": 143,
   "id": "c900ee26-c2ae-437d-a0ef-997551e77863",
   "metadata": {},
   "outputs": [],
   "source": [
    "# --- CONFIGURATION ---\n",
    "\n",
    "# Input directory containing RAW match payload CSVs (from script 03)\n",
    "RAW_PAYLOADS_DIR = \"Data/Raw/Match_payloads\" # Or _test depending on your setup\n",
    "\n",
    "# Output directory for PROCESSED (singles-only) match payload CSVs\n",
    "OUTPUT_DIR = \"Data/Processed/Singles_match_payloads\"\n",
    "PAYLOADS_FILES = glob.glob (f\"{RAW_PAYLOADS_DIR}/*csv\")\n",
    "\n",
    "# Define string to  be kept for subeeventtype data. \n",
    "REMOVE_STRING = \"singles\""
   ]
  },
  {
   "cell_type": "code",
   "execution_count": 198,
   "id": "b9b7680b-cfac-4b3a-9ac6-a4f301432e10",
   "metadata": {},
   "outputs": [],
   "source": [
    "def filter_singles_payloads(raw_payloads_dir: str, output_dir: str, keep_string: str) -> Tuple[List[int], List[int], List[int], List[int]]:\n",
    "    \"\"\"\n",
    "    Filters raw match payload CSVs to keep only singles matches.\n",
    "    Saves filtered singles payloads to the specified output directory.\n",
    "    Returns lists of event ids:\n",
    "    1. success_ids: Events where singles payloads were found\n",
    "    2. only_doubles_ids: Events with data but no singles matches (e.g only doubles matches)\n",
    "    3. empty_payload_ids: Events whose payload files contiained no payloads\n",
    "    4. error_ids: Events where reading the file caused an unexpected error\n",
    "    \"\"\"\n",
    "    \n",
    "    print(\"--- 🟠 Filtering Singles Payloads 🟠 ---\")\n",
    "    \n",
    "    os.makedirs(output_dir, exist_ok= True)\n",
    "    # get the paths to all raw ppayloads_files\n",
    "    payloads_files = glob.glob(f\"{raw_payloads_dir}/*csv\")\n",
    "\n",
    "    success_ids = []\n",
    "    no_singles_ids = []\n",
    "    no_data_ids = []\n",
    "    error_ids = [] \n",
    "\n",
    "    # loop through each file\n",
    "    for file in payloads_files:\n",
    "        \n",
    "        # get event id from filename, less robust but  (avoids errors if df can not be read)\n",
    "        event_id = os.path.basename(file).split('_')[0]\n",
    "        if not event_id.isdigit():\n",
    "            print(f\"SKIPPING file: not in expected naming formnat\")\n",
    "            continue        \n",
    "\n",
    "    \n",
    "        try:\n",
    "            # get df of the match payloads\n",
    "            payloads_df = pd.read_csv(file)\n",
    "\n",
    "            # if the df is empty, add to no data list and continue. \n",
    "            if payloads_df.empty:\n",
    "                no_data_ids.append(event_id)\n",
    "                continue\n",
    "\n",
    "            # # get event_id - reobtain this from the file contents just incase there is a file naming error.\n",
    "            # event_id = payloads_df[\"eventId\"].iloc[0]\n",
    "    \n",
    "            # filter to select only the singles match paylods \n",
    "            singles_mask = payloads_df[\"subEventType\"].str.contains(keep_string, na=False, case=False)\n",
    "            \n",
    "            singles_payloads_df = payloads_df[singles_mask].copy()\n",
    "\n",
    "        \n",
    "            # If the singles payloads df is not empty, \n",
    "            if not singles_payloads_df.empty:\n",
    "                # get filepath for saving as csv\n",
    "                filepath = os.path.join(output_dir,f\"{event_id}_singles_payloads.csv\" )\n",
    "                singles_payloads_df.to_csv(filepath)\n",
    "                success_ids.append(event_id)\n",
    "            else:               \n",
    "                no_singles_ids.append(event_id)\n",
    "\n",
    "                \n",
    "        except pd.errors.EmptyDataError:\n",
    "            \n",
    "            no_data_ids.append(event_id)\n",
    "            continue # Go to the next file\n",
    "\n",
    "        except Exception as e: \n",
    "            print(f\"❌ Error processing event {event_id} ({os.path.basename(file)}): {e}\")\n",
    "            error_ids.append(event_id)\n",
    "            continue\n",
    "            \n",
    "    print(f\"\\n--- ✅ Filtering Complete ---\")\n",
    "    print(f\"Successfully processed and saved singles payloads for: {len(success_ids)} events\")\n",
    "    print(f\"Events found with ONLY non-singles payloads: {len(no_singles_ids)} events\")\n",
    "    print(f\"Events found with EMPTY payload files: {len(no_data_ids)} events\")\n",
    "    print(f\"⚠️ Encountered unexpected errors processing: {len(error_ids)} events\") \n",
    "        \n",
    "        \n",
    "    return success_ids, no_singles_ids, no_data_ids, error_ids             "
   ]
  },
  {
   "cell_type": "code",
   "execution_count": 201,
   "id": "e307f5f6-bbfe-48e8-9c77-1a2534ad30e0",
   "metadata": {},
   "outputs": [
    {
     "name": "stdout",
     "output_type": "stream",
     "text": [
      "--- 🟠 Filtering Singles Payloads 🟠 ---\n",
      "\n",
      "--- ✅ Filtering Complete ---\n",
      "Successfully processed and saved singles payloads for: 178 events\n",
      "Events found with ONLY non-singles payloads: 6 events\n",
      "Events found with EMPTY payload files: 118 events\n",
      "⚠️ Encountered unexpected errors processing: 0 events\n"
     ]
    }
   ],
   "source": [
    "if __name__ == \"__main__\":\n",
    "    \n",
    "    success, no_singles, missing, error = filter_singles_payloads(RAW_PAYLOADS_DIR, OUTPUT_DIR, KEEP_STRING)"
   ]
  },
  {
   "cell_type": "code",
   "execution_count": 202,
   "id": "c005f894-8a61-44c6-8d66-9738ab7e1996",
   "metadata": {},
   "outputs": [
    {
     "data": {
      "text/plain": [
       "['2275', '2979', '2535', '2860', '2717', '2751']"
      ]
     },
     "execution_count": 202,
     "metadata": {},
     "output_type": "execute_result"
    }
   ],
   "source": [
    "no_singles"
   ]
  },
  {
   "cell_type": "code",
   "execution_count": 34,
   "id": "e2adaad8-5620-4326-84c9-89e507fab911",
   "metadata": {},
   "outputs": [
    {
     "data": {
      "text/plain": [
       "array(['Men Singles', 'Women Singles', 'Men Doubles', ...,\n",
       "       'Mixed Doubles', 'Mixed Doubles', 'Men Singles'],\n",
       "      shape=(32869,), dtype=object)"
      ]
     },
     "execution_count": 34,
     "metadata": {},
     "output_type": "execute_result"
    }
   ],
   "source": [
    "big_df['subEventType'].values"
   ]
  },
  {
   "cell_type": "code",
   "execution_count": 170,
   "id": "f11174c8-9c47-46b8-9173-21f2c75978de",
   "metadata": {},
   "outputs": [],
   "source": [
    "a = PAYLOADS_FILES[0]"
   ]
  },
  {
   "cell_type": "code",
   "execution_count": 175,
   "id": "7de5f7ed-6cd1-4b1b-881c-096b27081253",
   "metadata": {},
   "outputs": [],
   "source": [
    "a = os.path.basename(a).split('_')[0]"
   ]
  },
  {
   "cell_type": "code",
   "execution_count": 176,
   "id": "c97af51c-7ba1-4fd2-a9b2-168535dc0f26",
   "metadata": {},
   "outputs": [
    {
     "data": {
      "text/plain": [
       "True"
      ]
     },
     "execution_count": 176,
     "metadata": {},
     "output_type": "execute_result"
    }
   ],
   "source": [
    "a.isdigit()"
   ]
  },
  {
   "cell_type": "code",
   "execution_count": 174,
   "id": "a4a3fe8f-7577-403f-9145-dceb275b358b",
   "metadata": {},
   "outputs": [
    {
     "data": {
      "text/plain": [
       "'Data/Raw/Match_payloads/2868_match_payloads.csv'"
      ]
     },
     "execution_count": 174,
     "metadata": {},
     "output_type": "execute_result"
    }
   ],
   "source": [
    "a"
   ]
  },
  {
   "cell_type": "code",
   "execution_count": null,
   "id": "8f1d89d9-dad4-42dc-947f-8b53d036c344",
   "metadata": {},
   "outputs": [],
   "source": []
  }
 ],
 "metadata": {
  "kernelspec": {
   "display_name": "Python 3 (ipykernel)",
   "language": "python",
   "name": "python3"
  },
  "language_info": {
   "codemirror_mode": {
    "name": "ipython",
    "version": 3
   },
   "file_extension": ".py",
   "mimetype": "text/x-python",
   "name": "python",
   "nbconvert_exporter": "python",
   "pygments_lexer": "ipython3",
   "version": "3.13.7"
  }
 },
 "nbformat": 4,
 "nbformat_minor": 5
}

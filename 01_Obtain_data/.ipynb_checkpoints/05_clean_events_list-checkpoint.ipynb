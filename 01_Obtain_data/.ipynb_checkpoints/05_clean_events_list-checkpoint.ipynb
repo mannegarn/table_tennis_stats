{
 "cells": [
  {
   "cell_type": "code",
   "execution_count": 2,
   "id": "bdaf4b1f-c28f-4258-a71b-da94f73d4d94",
   "metadata": {},
   "outputs": [],
   "source": [
    "import pandas as pd\n",
    "import os\n",
    "import sys\n",
    "import glob\n",
    "import requests\n",
    "import json\n",
    "from typing import List, Dict, Union, Tuple, Any\n",
    "from datetime import datetime"
   ]
  },
  {
   "cell_type": "code",
   "execution_count": 8,
   "id": "e40f80bd-c73e-4af9-a8a4-4b9ffa9ddc7f",
   "metadata": {},
   "outputs": [],
   "source": [
    "# Configuration\n",
    "\n",
    "\n",
    "# Input file from script 02 (processed and tagged events)\n",
    "SHORTLIST_FILE = \"../Data/Processed/Events/shortlist_events.csv\"\n",
    "\n",
    "# payloads directory, where all payloads are stored:\n",
    "SINGLES_PAYLOADS_DIR = \"../Data/Processed/Singles_match_payloads\"\n",
    "\n",
    "MASTER_EVENTS_DIR = \"../Data/Processed/Master_events\"\n",
    "MASTER_EVENTS_FILENAME_PATTERN = \"*_master_events_csv\n",
    "\n",
    "date = datetime.now().strftime(\"%Y%m%d\")\n",
    "\n",
    "OUTPUT_NAME = f\"{date}_events_master.csv\"\n",
    "OUTPUT_PATH = os.path.join(OUTPUT_DIR, OUTPUT_NAME)\n",
    "\n",
    "\n",
    "\n",
    "# Columns that are dropped after all processing is done.\n",
    "COLUMNS_TO_DROP = [\n",
    "    'StartDateTime', 'DateTime', # Replaced by StartDate , EndDate\n",
    "    'BallSponsorLink', 'TableSponsorLink', #Links replaced by sponsor names. \n",
    "    'Subcontinent',\n",
    "    'ContinentCode',\n",
    "    'EventCode',\n",
    "    'Tags',\n",
    "    'EventTypeId'   \n",
    "    \n",
    "]\n",
    "\n",
    "\n",
    "\n",
    "# Sponsors from the api are most easily accesssible as sponsors urls\n",
    "# This maps those urls to the sponsor brand ( had to be parsed manually due to many different links being used)\n",
    "sponsor_map = {\n",
    "    'https://www.dhs-sportsglobal.com/': 'DHS',\n",
    "    'http://www.dhs-sports.com/': 'DHS',\n",
    "    'https://en.dhs-sports.com/': 'DHS',\n",
    "    'https://www.doublefish.com/': 'Double Fish',\n",
    "    'https://www.doublefish.com': 'Double Fish',\n",
    "    'http://www.yinhe1986.cn/': 'Yinhe',\n",
    "    'http://www.dhs-sportsglobal.com': 'DHS',\n",
    "    'https://joola.com/pages/table-tennis?srsltid=AfmBOoquv7qYw0rrAhtEXdZaAsWcFDBkpTNksiGhnOxFif6xCoAajsx_': 'Joola',\n",
    "    'http://www.yinhe1986.cn': 'Yinhe',\n",
    "    'https://www.andro.de/en': 'Andro',\n",
    "    'https://www.stigasports.com/en': 'Stiga',\n",
    "    'www.doublefish.com': 'Double Fish',\n",
    "    'https://www.tibhar.com/en/': 'Tibhar',\n",
    "    'https://butterfly.tt/': 'Butterfly',\n",
    "    'https://joola.com/': 'Joola',\n",
    "    'https://www.butterfly-global.com/': 'Butterfly',\n",
    "    'https://www.stag.in/': 'Stag',\n",
    "    'https://www.dhs-tt.com/en': 'DHS',\n",
    "    'www.stigasports.cn': 'Stiga',\n",
    "    'https://stag.in/': 'Stag',\n",
    "    'https://www.donic.com/donic/en/': 'Donic',\n",
    "    'https://tibhar.info/en/': 'Tibhar'\n",
    "}\n",
    "\n",
    "\n",
    "\n",
    "\n",
    "# Max number of threads for parallel calls.\n",
    "MAX_WORKERS_SPONSOR = 20 \n",
    "\n",
    "# Used to generate random pause times for API politeness.\n",
    "MIN_PAUSE = 0.1\n",
    "MAX_PAUSE = 0.2"
   ]
  },
  {
   "cell_type": "code",
   "execution_count": 9,
   "id": "5578d3bd-0b19-42d8-aa20-50abd35ff652",
   "metadata": {},
   "outputs": [],
   "source": [
    "def filter_by_payloads(shortlist_df: pd.DataFrame, singles_payloads_dir:str) -> pd.DataFrame:\n",
    "    \n",
    "    print(\"--- 🟠 Filtering Events By Payloads 🟠 ---\")\n",
    "    \"\"\"\n",
    "    Function is used to further filter down the events_shortlist.\n",
    "    Only keeping events where valid, non-doubles, match payloads are available.\n",
    "\n",
    "    Returns a new DF containing these selected events with valid payloads.\n",
    "    \"\"\"\n",
    "    valid_event_ids = []\n",
    "    payloads_files = glob.glob(f\"{singles_payloads_dir}/*csv\")\n",
    "    for file in payloads_files:\n",
    "        try: \n",
    "            payloads_df = pd.read_csv(file)\n",
    "            event_id = payloads_df[\"eventId\"].iloc[0]\n",
    "           \n",
    "            valid_event_ids.append(event_id)\n",
    "        except Exception as e:\n",
    "            print (e,file)\n",
    "\n",
    "\n",
    "    mask = shortlist_df[\"eventId\"].isin(valid_event_ids)\n",
    "    valid_events_df = shortlist_df[mask].copy()\n",
    "\n",
    "    print(f\"\\n--- ✅ Found {len(valid_events_df)} events with valid payloads ---\")\n",
    "    return valid_events_df    "
   ]
  },
  {
   "cell_type": "code",
   "execution_count": 12,
   "id": "af35f304-994c-4db1-a940-be7ece61a46c",
   "metadata": {},
   "outputs": [
    {
     "ename": "SyntaxError",
     "evalue": "expected ':' (2334350375.py, line 1)",
     "output_type": "error",
     "traceback": [
      "  \u001b[36mCell\u001b[39m\u001b[36m \u001b[39m\u001b[32mIn[12]\u001b[39m\u001b[32m, line 1\u001b[39m\n\u001b[31m    \u001b[39m\u001b[31mdef get_latest_master_events(master_dir:str) -> Optional[pd.DataFrame]\u001b[39m\n                                                                          ^\n\u001b[31mSyntaxError\u001b[39m\u001b[31m:\u001b[39m expected ':'\n"
     ]
    }
   ],
   "source": [
    "def get_latest_master_events(master_dir:str, filename_format) -> Optional[pd.DataFrame]\n",
    "    \"\"\"\n",
    "    Parses specified directory for events files in format yyyy_mm_dd. \n",
    "    Attempts read latest file in this format. \n",
    "\n",
    "    Args:\n",
    "        directory (str): The folder where the master files are stored (e.g., '../Data/Master/Events').\n",
    "        filename_pattern (str): The pattern to match (e.g., '*_events_master.csv').\n",
    "\n",
    "    Returns:\n",
    "        Optional[pd.DataFrame]: The DataFrame of the latest file, or None if no files are found or reading fails.\n",
    "    \"\"\""
   ]
  },
  {
   "cell_type": "code",
   "execution_count": 10,
   "id": "5d772c8b-3e2e-41a3-877b-deed6d48355c",
   "metadata": {},
   "outputs": [
    {
     "name": "stdout",
     "output_type": "stream",
     "text": [
      "--- 🟠 Filtering Events By Payloads 🟠 ---\n",
      "\n",
      "--- ✅ Found 183 events with valid payloads ---\n"
     ]
    }
   ],
   "source": [
    "if __name__ == \"__main__\":\n",
    "\n",
    "    shortlist_df = pd.read_csv(SHORTLIST_FILE)\n",
    "    valid_events_df = filter_by_payloads(shortlist_df, SINGLES_PAYLOADS_DIR)\n",
    "    valid_events_df = valid_events_df.dropna(axis=1, how='all', inplace=False)\n",
    "\n",
    "    try = \n",
    "    existing_master = \n"
   ]
  },
  {
   "cell_type": "code",
   "execution_count": 11,
   "id": "ff8887d7-8a57-48dc-aee4-af2e9cf54f8e",
   "metadata": {},
   "outputs": [
    {
     "data": {
      "text/plain": [
       "Index(['EventName', 'EventType', 'EventTypeId', 'Country', 'City',\n",
       "       'ContinentCode', 'Subcontinent', 'StartDateTime', 'EndDateTime', 'Tags',\n",
       "       'EventCode', 'eventId', 'Event_Tier_Name', 'Completed'],\n",
       "      dtype='object')"
      ]
     },
     "execution_count": 11,
     "metadata": {},
     "output_type": "execute_result"
    }
   ],
   "source": []
  },
  {
   "cell_type": "code",
   "execution_count": null,
   "id": "3cfaf098-aafa-4417-9c66-8f197c436432",
   "metadata": {},
   "outputs": [],
   "source": []
  },
  {
   "cell_type": "code",
   "execution_count": null,
   "id": "58e1b8fe-49dd-4a0f-8f79-d604586a097f",
   "metadata": {},
   "outputs": [],
   "source": []
  },
  {
   "cell_type": "code",
   "execution_count": null,
   "id": "1d1cc3e2-ee25-4dc0-869c-234271b09394",
   "metadata": {},
   "outputs": [],
   "source": []
  }
 ],
 "metadata": {
  "kernelspec": {
   "display_name": "Python 3 (ipykernel)",
   "language": "python",
   "name": "python3"
  },
  "language_info": {
   "codemirror_mode": {
    "name": "ipython",
    "version": 3
   },
   "file_extension": ".py",
   "mimetype": "text/x-python",
   "name": "python",
   "nbconvert_exporter": "python",
   "pygments_lexer": "ipython3",
   "version": "3.13.7"
  }
 },
 "nbformat": 4,
 "nbformat_minor": 5
}

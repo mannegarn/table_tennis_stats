{
 "cells": [
  {
   "cell_type": "code",
   "execution_count": 13,
   "id": "7c9f449c-b451-47c8-9031-e1cccc2f9bda",
   "metadata": {},
   "outputs": [],
   "source": [
    "import json\n",
    "import os\n",
    "import random\n",
    "import time\n",
    "from datetime import datetime\n",
    "import re\n",
    "import pandas as pd\n",
    "import requests\n",
    "\n",
    "from typing import Union, Dict"
   ]
  },
  {
   "cell_type": "code",
   "execution_count": 14,
   "id": "ace4a131-d771-411f-96c7-348bb1c491ab",
   "metadata": {},
   "outputs": [],
   "source": [
    "def get_raw_match_payloads(event_id: Union[int, str]) -> Union[Dict, None]:\n",
    "    \"\"\"\n",
    "    Fetches the raw JSON containing all \"match payloads\" containing match metadata\n",
    "    for a given WTT event ID using a GET request.\n",
    "    \n",
    "    Match-codes contained in payload are reequired for subsequent API call to get full match details.\n",
    "    \n",
    "    Reverse engineered from WTT events pages such as:\n",
    "    https://www.worldtabletennis.com/eventInfo?eventId=3085&selectedTab=Matches\n",
    "    \n",
    "    \n",
    "    Args:\n",
    "        event_id (int or str): The unique identifier for the WTT event.\n",
    "        \n",
    "    Returns:\n",
    "        dict or None: A dictionary containing the raw JSON match structure, or None on failure.\n",
    "    \"\"\"\n",
    "    \n",
    "    url = \"https://liveeventsapi.worldtabletennis.com/api/cms/GetOfficialResult\"\n",
    "    \n",
    "    params = {\n",
    "        'EventId': str(event_id), # Ensure it is a string for the query\n",
    "        \"DocumentCode\": \"TTE\"\n",
    "    }\n",
    "    \n",
    "    # Define essential headers for robust scraping\n",
    "    headers = {\n",
    "        'Accept': 'application/json, text/plain, */*',\n",
    "        'Referer': 'https://www.worldtabletennis.com/',\n",
    "        'User-Agent': 'Mozilla/5.0 (Linux; Android 11.0; Surface Duo) AppleWebKit/537.36 (KHTML, like Gecko) Chrome/140.0.0.0 Mobile Safari/537.36'\n",
    "    }\n",
    "    \n",
    "    try:\n",
    "        # Execute GET Request. 'params' automatically builds the query string.\n",
    "        response = requests.get(url, params=params, headers=headers)\n",
    "        response.raise_for_status()\n",
    "        return response.json()\n",
    "        \n",
    "    except requests.exceptions.HTTPError as err:\n",
    "        print(f\"❌ HTTP Error for Event {event_id}: {err}\")\n",
    "    except requests.exceptions.RequestException as err:\n",
    "        print(f\"❌ Connection Error for Event {event_id}: {err}\")\n",
    "    except json.JSONDecodeError:\n",
    "        print(f\"❌ JSON Decode Error for Event {event_id}: Invalid response.\")\n",
    "    \n",
    "    return None"
   ]
  },
  {
   "cell_type": "code",
   "execution_count": 15,
   "id": "7017e5e6-bd4c-4449-afa6-0bbfe59c3894",
   "metadata": {},
   "outputs": [
    {
     "name": "stdout",
     "output_type": "stream",
     "text": [
      "✅ Finished! \n",
      "Match payloads found for 9/9 events.\n",
      "Successful Event IDs: [2536, 2629, 2904, 2932, 2942, 3085, 3082, 3128, 3098]\n"
     ]
    }
   ],
   "source": [
    "events_file = \"Data/Processed/Events/smash_events.csv\"\n",
    "output_dir = \"Data/Raw/Smash_match_payloads\"\n",
    "\n",
    "os.makedirs(output_dir, exist_ok=True)\n",
    "\n",
    "events_df = pd.read_csv(events_file)\n",
    "event_total = len(events_df)\n",
    "successful_event_ids=[]\n",
    "\n",
    "for number, event_id in enumerate(events_df[\"EventId\"]):\n",
    "    \n",
    "    print(f\"---🟢Commencing obtaining raw match payloads from {events_file}---🟢 \\n ------\")\n",
    "    \n",
    "    raw_payloads = get_raw_match_payloads(event_id)\n",
    "    if not raw_payloads:\n",
    "        print(f\"No match codes found for event_{event_id} ⚪({number+1}/{event_total}) - Skipping.\\n---\")\n",
    "        continue\n",
    "\n",
    "    # Simplified logic: The 'if not payloads_df.empty:' check is removed as it's redundant.\n",
    "    payloads_df = pd.DataFrame(raw_payloads)\n",
    "    \n",
    "    successful_event_ids.append(event_id)\n",
    "    \n",
    "    filename = f\"{output_dir}/{event_id}_match_payloads.csv\"\n",
    "    payloads_df.to_csv(filename, index=False)\n",
    "    \n",
    "    sleep_duration = random.uniform(0.3, 0.8)\n",
    "    display(f\"{len(payloads_df)} match codes obtained for event ID:{event_id} 🔄({number+1}/{event_total}) - now pausing for {sleep_duration:.1f}s to give the API a break \\n---\")\n",
    "    clear_output(wait=True)\n",
    "    time.sleep(sleep_duration)\n",
    "\n",
    "print(f\"✅ Finished! \\nMatch payloads found for {len(successful_event_ids)}/{event_total} events.\")\n",
    "print(f\"Successful Event IDs: {successful_event_ids}\")"
   ]
  },
  {
   "cell_type": "code",
   "execution_count": null,
   "id": "d58d94b7-a31a-436f-b6be-a16c1fafa0dc",
   "metadata": {},
   "outputs": [],
   "source": []
  },
  {
   "cell_type": "code",
   "execution_count": null,
   "id": "cda2f39b-4a9d-4b67-869b-354d218acd18",
   "metadata": {},
   "outputs": [],
   "source": []
  },
  {
   "cell_type": "code",
   "execution_count": 126,
   "id": "91640cb6-0b22-4c49-8a52-785153d3e48c",
   "metadata": {},
   "outputs": [
    {
     "data": {
      "text/plain": [
       "155"
      ]
     },
     "execution_count": 126,
     "metadata": {},
     "output_type": "execute_result"
    }
   ],
   "source": [
    "len(successful_event_ids)"
   ]
  },
  {
   "cell_type": "code",
   "execution_count": 127,
   "id": "66271b81-43f1-40fb-b547-c4d741925f24",
   "metadata": {},
   "outputs": [],
   "source": [
    "all_event_ids = list(events_df[\"EventId\"])"
   ]
  },
  {
   "cell_type": "code",
   "execution_count": 128,
   "id": "4913008c-ad42-42ea-aa38-8d179f8e2d5a",
   "metadata": {},
   "outputs": [],
   "source": [
    "unsuccessful_event_ids = [event for event in all_event_ids if event not in successful_event_ids]"
   ]
  },
  {
   "cell_type": "code",
   "execution_count": 129,
   "id": "a2a50654-8c79-4ae6-9cdc-f3c039fd9233",
   "metadata": {},
   "outputs": [
    {
     "name": "stdout",
     "output_type": "stream",
     "text": [
      "[3099, 3100, 3066, 3191, 3065, 3059, 3112, 3110, 3176, 2263, 2265]\n"
     ]
    }
   ],
   "source": [
    "print (unsuccessful_event_ids)"
   ]
  },
  {
   "cell_type": "code",
   "execution_count": 134,
   "id": "796bb97e-f642-4c04-acc6-b590ed6a1e71",
   "metadata": {},
   "outputs": [],
   "source": [
    "unsuccessful_events_df = events_df[events_df[\"EventId\"].isin(unsuccessful_event_ids)]"
   ]
  },
  {
   "cell_type": "code",
   "execution_count": 135,
   "id": "4f5fdc70-cd03-45f2-b358-1188477dd5c1",
   "metadata": {},
   "outputs": [
    {
     "name": "stdout",
     "output_type": "stream",
     "text": [
      "156\n"
     ]
    }
   ],
   "source": [
    "succ_dir=\"Data/Raw/Match_payloads\"\n",
    "print (len(os.listdir(succ_dir)))"
   ]
  },
  {
   "cell_type": "code",
   "execution_count": 136,
   "id": "d4240632-230f-4674-8974-d967b44cecba",
   "metadata": {},
   "outputs": [
    {
     "data": {
      "text/plain": [
       "155"
      ]
     },
     "execution_count": 136,
     "metadata": {},
     "output_type": "execute_result"
    }
   ],
   "source": [
    "len(successful_event_ids)"
   ]
  },
  {
   "cell_type": "code",
   "execution_count": 137,
   "id": "3756b98e-66c5-442f-995d-085973938566",
   "metadata": {},
   "outputs": [],
   "source": [
    "successful_event_ids.sort()"
   ]
  },
  {
   "cell_type": "code",
   "execution_count": 146,
   "id": "b22f2307-1aaf-4046-b138-69651da81399",
   "metadata": {},
   "outputs": [
    {
     "data": {
      "text/plain": [
       "155"
      ]
     },
     "execution_count": 146,
     "metadata": {},
     "output_type": "execute_result"
    }
   ],
   "source": [
    "len(successful_event_ids)"
   ]
  },
  {
   "cell_type": "code",
   "execution_count": 150,
   "id": "d96863b1-7988-421e-9fcd-ab74c9acb513",
   "metadata": {},
   "outputs": [
    {
     "name": "stdout",
     "output_type": "stream",
     "text": [
      "156\n"
     ]
    }
   ],
   "source": [
    "success_event_file_numbers = []\n",
    "for file in os.listdir(succ_dir):\n",
    "    only_numbers = re.sub(r'[^0-9]', '', file)\n",
    "    success_event_file_numbers.append(only_numbers)\n",
    "\n",
    "print(len(success_event_file_numbers))\n",
    "success_event_file_numbers.sort()\n",
    "\n",
    "    \n",
    "    "
   ]
  },
  {
   "cell_type": "code",
   "execution_count": 153,
   "id": "1f743ee2-2d33-4f6e-bf12-0013f9b541d6",
   "metadata": {},
   "outputs": [
    {
     "data": {
      "text/plain": [
       "'3199'"
      ]
     },
     "execution_count": 153,
     "metadata": {},
     "output_type": "execute_result"
    }
   ],
   "source": [
    "success_event_file_numbers[-1]"
   ]
  },
  {
   "cell_type": "code",
   "execution_count": null,
   "id": "ba215832-355e-41ef-b30a-f254a7b722c5",
   "metadata": {},
   "outputs": [],
   "source": []
  },
  {
   "cell_type": "code",
   "execution_count": null,
   "id": "5fd272b0-64e6-41f4-95fb-c3f30df2721b",
   "metadata": {},
   "outputs": [],
   "source": []
  },
  {
   "cell_type": "code",
   "execution_count": null,
   "id": "433da37a-7a07-4638-9374-1457f728215f",
   "metadata": {},
   "outputs": [],
   "source": []
  },
  {
   "cell_type": "code",
   "execution_count": null,
   "id": "a99a202e-fe42-4c9a-9840-142f1abb36ef",
   "metadata": {},
   "outputs": [],
   "source": []
  },
  {
   "cell_type": "code",
   "execution_count": null,
   "id": "e0d3d679-9f92-4643-a1b8-230951f5194a",
   "metadata": {},
   "outputs": [],
   "source": []
  },
  {
   "cell_type": "code",
   "execution_count": null,
   "id": "2e358c95-3957-44d1-a6f7-12e49eacf7bb",
   "metadata": {},
   "outputs": [],
   "source": []
  },
  {
   "cell_type": "code",
   "execution_count": null,
   "id": "d4bec10a-3d41-4f56-98a2-1aff00d5ec95",
   "metadata": {},
   "outputs": [],
   "source": []
  },
  {
   "cell_type": "code",
   "execution_count": null,
   "id": "2c04feb2-53fe-4792-aead-080d714ad66c",
   "metadata": {},
   "outputs": [],
   "source": []
  },
  {
   "cell_type": "code",
   "execution_count": null,
   "id": "5d9efa1b-4866-450f-9327-1c9e6e70f98b",
   "metadata": {},
   "outputs": [],
   "source": []
  },
  {
   "cell_type": "code",
   "execution_count": 7,
   "id": "a04f2c37-ecd4-4eb7-8745-3b2687f6c1be",
   "metadata": {},
   "outputs": [],
   "source": [
    "def get_singles_match_payloads(event_id):\n",
    "    match_codes = get_raw_match_payloads(event_id)\n",
    "    if match_payloads:\n",
    "        print(f\"✅ Obtained {len(match_payloads)} match payloads\")\n",
    "    \n",
    "    singles_match_payloads = filter_singles_match__payloads(match__payloads)\n",
    "    if singles_match__payloadss:\n",
    "        print(f\"✅ Obtained {len(singles_match__payloads)} singles match payloadss\")\n",
    "        #print(json.dumps(singles_match__payloads[:2], indent=2))\n",
    "    else: \n",
    "        print (f\"{len(singles_match__payloads)} singles matches found\") \n",
    "    return singles_match__payloads"
   ]
  },
  {
   "cell_type": "code",
   "execution_count": 120,
   "id": "08f32ac0-675d-4740-a083-9cf9c7846330",
   "metadata": {},
   "outputs": [],
   "source": [
    "def get_event_ids (event_file):\n",
    "    events_data_df = pd.read_csv(event_file)\n",
    "    event_ids = events_data_df[\"EventId\"]\n",
    "    return event_ids\n",
    "\n",
    "def get_event_match_payloads(event_file,output_dir = \"./Data/Raw/Smash_events\"):\n",
    "    event_ids = get_event_ids(event_file)\n",
    "    event_count = len(event_ids)\n",
    "    successful_event_ids = [] \n",
    "    \n",
    "    for number, event_id,num in enumerate(event_ids):\n",
    "        \n",
    "        print (f\"obtaining match codes for event {event_id} ({number}/{event_count})\")\n",
    "        \n",
    "        match_payloads = pd.DataFrame(get_singles_match_codes(event_id))\n",
    "        \n",
    "        file_name = f\"event_{event_id}_match_codes.csv\"            \n",
    "        match_codes.to_csv(f\"{output_dir}/{file_name}\", index=False)\n",
    "        sleep_duration = random.uniform(0.5,1.5)\n",
    "        print (f\"Match codes obtained - now pausing for {sleep_duration:.1f}s to give the API a break \\n --- {event_id} \")\n",
    "        time.sleep(sleep_duration)\n",
    "        \n",
    "\n",
    "    return None\n",
    "        \n",
    "        \n",
    "        \n",
    "    \n",
    "\n",
    "                        "
   ]
  },
  {
   "cell_type": "code",
   "execution_count": null,
   "id": "6adc4410-43b5-4bca-ba3a-e0f2b49e9e35",
   "metadata": {},
   "outputs": [],
   "source": []
  },
  {
   "cell_type": "code",
   "execution_count": 189,
   "id": "e9411668-f8c8-4d6d-a719-c48b9f532e5f",
   "metadata": {},
   "outputs": [
    {
     "data": {
      "text/plain": [
       "167"
      ]
     },
     "execution_count": 189,
     "metadata": {},
     "output_type": "execute_result"
    }
   ],
   "source": [
    "import os\n",
    "dir = \"Data/Raw/Match_codes\"\n",
    "\n",
    "len(os.listdir(dir))"
   ]
  },
  {
   "cell_type": "code",
   "execution_count": 119,
   "id": "13dc9838-cd17-4531-88cc-927cac1f8898",
   "metadata": {},
   "outputs": [
    {
     "data": {
      "text/plain": [
       "[]"
      ]
     },
     "execution_count": 119,
     "metadata": {},
     "output_type": "execute_result"
    }
   ],
   "source": [
    "get_raw_match_payloads(1000)"
   ]
  },
  {
   "cell_type": "code",
   "execution_count": null,
   "id": "0b8af746-157c-4043-a4ab-1e3dfc2e0f85",
   "metadata": {},
   "outputs": [],
   "source": []
  }
 ],
 "metadata": {
  "kernelspec": {
   "display_name": "Python 3 (ipykernel)",
   "language": "python",
   "name": "python3"
  },
  "language_info": {
   "codemirror_mode": {
    "name": "ipython",
    "version": 3
   },
   "file_extension": ".py",
   "mimetype": "text/x-python",
   "name": "python",
   "nbconvert_exporter": "python",
   "pygments_lexer": "ipython3",
   "version": "3.13.7"
  }
 },
 "nbformat": 4,
 "nbformat_minor": 5
}

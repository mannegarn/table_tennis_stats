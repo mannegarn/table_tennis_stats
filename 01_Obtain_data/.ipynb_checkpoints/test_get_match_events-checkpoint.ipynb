{
 "cells": [
  {
   "cell_type": "code",
   "execution_count": 5,
   "id": "f0196bba-0fe8-4c4d-8785-37fbc311f343",
   "metadata": {},
   "outputs": [],
   "source": [
    "import requests\n",
    "import json\n",
    "import pandas as pd\n",
    "import os\n",
    "from datetime import datetime\n",
    "import re\n",
    "import random \n",
    "import time \n",
    "from IPython.display import display, clear_output, HTML\n",
    "import glob"
   ]
  },
  {
   "cell_type": "code",
   "execution_count": 2,
   "id": "116f48ab-0300-4762-b82a-ce41d517af9c",
   "metadata": {},
   "outputs": [],
   "source": [
    "# Test for the final match of men's China Smash 2025 \n",
    "event_id = \"3098\"\n",
    "match_code = \"TTEMSINGLES-----------FNL-000100----------\""
   ]
  },
  {
   "cell_type": "code",
   "execution_count": 8,
   "id": "3b0bcd40-d1ff-486c-af2b-5c5887375116",
   "metadata": {},
   "outputs": [
    {
     "name": "stdout",
     "output_type": "stream",
     "text": [
      "Successfully loaded data. Type is: <class 'dict'>\n"
     ]
    }
   ],
   "source": [
    "\n",
    "# Define the path to your file\n",
    "file_path = 'my_data.json'\n",
    "\n",
    "# Use a 'with open' block to safely open and read the file\n",
    "with open(file_path, 'r', encoding='utf-8') as f:\n",
    "    # Use json.load() to parse the file object into a Python dictionary\n",
    "    data = json.load(f)\n",
    "\n",
    "# 'data' is now a Python dictionary or list\n",
    "print(f\"Successfully loaded data. Type is: {type(data)}\")"
   ]
  },
  {
   "cell_type": "code",
   "execution_count": 12,
   "id": "63f35d9c-8797-48a0-91a3-4616cfdd796d",
   "metadata": {},
   "outputs": [
    {
     "name": "stdout",
     "output_type": "stream",
     "text": [
      "eventId\n",
      "documentCode\n",
      "subEventName\n",
      "subEventDescription\n",
      "matchConfig\n",
      "venueName\n",
      "tableNumber\n",
      "tableName\n",
      "competitiors\n",
      "currentGameNumber\n",
      "full_msg\n",
      "gameScores\n",
      "resultsGameScores\n",
      "overallScores\n",
      "resultOverallScores\n",
      "resultStatus\n",
      "action\n",
      "resultSet\n",
      "matchDateTime\n",
      "teamParentData\n",
      "playByPlaySequenceNumber\n",
      "teamMatchNo\n",
      "teamMatchScores\n",
      "teamMatchScoresSummary\n",
      "matchStartTimeUTC\n"
     ]
    }
   ],
   "source": [
    "for key in data.keys():\n",
    "    print(key)"
   ]
  },
  {
   "cell_type": "code",
   "execution_count": 18,
   "id": "6c2ae57c-3708-40a9-9716-c79558868ee8",
   "metadata": {},
   "outputs": [
    {
     "data": {
      "text/plain": [
       "dict_keys(['PlayByPlay', 'Results_all'])"
      ]
     },
     "execution_count": 18,
     "metadata": {},
     "output_type": "execute_result"
    }
   ],
   "source": [
    "data[\"full_msg\"].keys()"
   ]
  },
  {
   "cell_type": "code",
   "execution_count": 52,
   "id": "ed6675ee-f5ff-4a87-a224-88b286807eb2",
   "metadata": {},
   "outputs": [
    {
     "name": "stdout",
     "output_type": "stream",
     "text": [
      "14\n"
     ]
    }
   ],
   "source": [
    "details = data[\"full_msg\"][\"Results_all\"]\n",
    "print (len (details))\n",
    "\n",
    "#This is a list of 14 dictionaries"
   ]
  },
  {
   "cell_type": "code",
   "execution_count": 55,
   "id": "919e0498-cff9-45bf-94ed-3e10a0172cd7",
   "metadata": {},
   "outputs": [
    {
     "name": "stdout",
     "output_type": "stream",
     "text": [
      "dict_keys(['MessageType', 'MessagePayLoad', 'Sequencenumber'])\n",
      "dict_keys(['MessageType', 'MessagePayLoad', 'Sequencenumber'])\n",
      "dict_keys(['MessageType', 'MessagePayLoad', 'Sequencenumber'])\n",
      "dict_keys(['MessageType', 'MessagePayLoad', 'Sequencenumber'])\n",
      "dict_keys(['MessageType', 'MessagePayLoad', 'Sequencenumber'])\n",
      "dict_keys(['MessageType', 'MessagePayLoad', 'Sequencenumber'])\n",
      "dict_keys(['MessageType', 'MessagePayLoad', 'Sequencenumber'])\n",
      "dict_keys(['MessageType', 'MessagePayLoad', 'Sequencenumber'])\n",
      "dict_keys(['MessageType', 'MessagePayLoad', 'Sequencenumber'])\n",
      "dict_keys(['MessageType', 'MessagePayLoad', 'Sequencenumber'])\n",
      "dict_keys(['MessageType', 'MessagePayLoad', 'Sequencenumber'])\n",
      "dict_keys(['MessageType', 'MessagePayLoad', 'Sequencenumber'])\n",
      "dict_keys(['MessageType', 'MessagePayLoad', 'Sequencenumber'])\n",
      "dict_keys(['MessageType', 'MessagePayLoad', 'Sequencenumber'])\n"
     ]
    }
   ],
   "source": [
    "for item in details:\n",
    "    print(item.keys())\n",
    "\n",
    "# for each dict, keys = dict_keys(['MessageType', 'MessagePayLoad', 'Sequencenumber'])"
   ]
  },
  {
   "cell_type": "code",
   "execution_count": 63,
   "id": "46ca673b-39b2-47ac-baa7-67747a7d4242",
   "metadata": {},
   "outputs": [
    {
     "name": "stdout",
     "output_type": "stream",
     "text": [
      "MessageType <class 'str'>\n",
      "MessagePayLoad <class 'dict'>\n",
      "Sequencenumber <class 'int'>\n"
     ]
    }
   ],
   "source": [
    "test_data = details[0]\n",
    "for k,v in test_data.items():\n",
    "    print(k, type(v))"
   ]
  },
  {
   "cell_type": "code",
   "execution_count": 64,
   "id": "745e0685-107c-4bdc-8f61-4ab1ec548848",
   "metadata": {},
   "outputs": [
    {
     "data": {
      "text/plain": [
       "8"
      ]
     },
     "execution_count": 64,
     "metadata": {},
     "output_type": "execute_result"
    }
   ],
   "source": [
    "test_data['Sequencenumber']"
   ]
  },
  {
   "cell_type": "code",
   "execution_count": 74,
   "id": "260e773e-cf0d-49bb-ad78-049866728a51",
   "metadata": {},
   "outputs": [
    {
     "name": "stdout",
     "output_type": "stream",
     "text": [
      "dict_keys(['MatchId', 'SequenceNumber', 'TableNo', 'ResultStatus', 'Competition', 'CompetitionCode', 'DocumentCode', 'DocumentType', 'Version', 'FeedFlag', 'LogicalDate', 'LogicalTime', 'UtcDate', 'UtcTime', 'LocalDate', 'LocalTime', 'Source', 'EventId', 'ClusterRegion'])\n",
      "dict_keys(['MatchId', 'SequenceNumber', 'TableNo', 'ResultStatus', 'Competition', 'CompetitionCode', 'DocumentCode', 'DocumentType', 'Version', 'FeedFlag', 'LogicalDate', 'LogicalTime', 'UtcDate', 'UtcTime', 'LocalDate', 'LocalTime', 'Source', 'EventId', 'ClusterRegion'])\n",
      "dict_keys(['MatchId', 'SequenceNumber', 'TableNo', 'ResultStatus', 'Competition', 'CompetitionCode', 'DocumentCode', 'DocumentType', 'Version', 'FeedFlag', 'LogicalDate', 'LogicalTime', 'UtcDate', 'UtcTime', 'LocalDate', 'LocalTime', 'Source', 'EventId', 'ClusterRegion'])\n",
      "dict_keys(['MatchId', 'SequenceNumber', 'TableNo', 'ResultStatus', 'Competition', 'CompetitionCode', 'DocumentCode', 'DocumentType', 'Version', 'FeedFlag', 'LogicalDate', 'LogicalTime', 'UtcDate', 'UtcTime', 'LocalDate', 'LocalTime', 'Source', 'EventId', 'ClusterRegion'])\n",
      "dict_keys(['MatchId', 'SequenceNumber', 'TableNo', 'ResultStatus', 'Competition', 'CompetitionCode', 'DocumentCode', 'DocumentType', 'Version', 'FeedFlag', 'LogicalDate', 'LogicalTime', 'UtcDate', 'UtcTime', 'LocalDate', 'LocalTime', 'Source', 'EventId', 'ClusterRegion'])\n",
      "dict_keys(['MatchId', 'SequenceNumber', 'TableNo', 'ResultStatus', 'Competition', 'CompetitionCode', 'DocumentCode', 'DocumentType', 'Version', 'FeedFlag', 'LogicalDate', 'LogicalTime', 'UtcDate', 'UtcTime', 'LocalDate', 'LocalTime', 'Source', 'EventId', 'ClusterRegion'])\n",
      "dict_keys(['MatchId', 'SequenceNumber', 'TableNo', 'ResultStatus', 'Competition', 'CompetitionCode', 'DocumentCode', 'DocumentType', 'Version', 'FeedFlag', 'LogicalDate', 'LogicalTime', 'UtcDate', 'UtcTime', 'LocalDate', 'LocalTime', 'Source', 'EventId', 'ClusterRegion'])\n",
      "dict_keys(['MatchId', 'SequenceNumber', 'TableNo', 'ResultStatus', 'Competition', 'CompetitionCode', 'DocumentCode', 'DocumentType', 'Version', 'FeedFlag', 'LogicalDate', 'LogicalTime', 'UtcDate', 'UtcTime', 'LocalDate', 'LocalTime', 'Source', 'EventId', 'ClusterRegion'])\n",
      "dict_keys(['MatchId', 'SequenceNumber', 'TableNo', 'ResultStatus', 'Competition', 'CompetitionCode', 'DocumentCode', 'DocumentType', 'Version', 'FeedFlag', 'LogicalDate', 'LogicalTime', 'UtcDate', 'UtcTime', 'LocalDate', 'LocalTime', 'Source', 'EventId', 'ClusterRegion'])\n",
      "dict_keys(['MatchId', 'SequenceNumber', 'TableNo', 'ResultStatus', 'Competition', 'CompetitionCode', 'DocumentCode', 'DocumentType', 'Version', 'FeedFlag', 'LogicalDate', 'LogicalTime', 'UtcDate', 'UtcTime', 'LocalDate', 'LocalTime', 'Source', 'EventId', 'ClusterRegion'])\n",
      "dict_keys(['MatchId', 'SequenceNumber', 'TableNo', 'ResultStatus', 'Competition', 'CompetitionCode', 'DocumentCode', 'DocumentType', 'Version', 'FeedFlag', 'LogicalDate', 'LogicalTime', 'UtcDate', 'UtcTime', 'LocalDate', 'LocalTime', 'Source', 'EventId', 'ClusterRegion'])\n",
      "dict_keys(['MatchId', 'SequenceNumber', 'TableNo', 'ResultStatus', 'Competition', 'CompetitionCode', 'DocumentCode', 'DocumentType', 'Version', 'FeedFlag', 'LogicalDate', 'LogicalTime', 'UtcDate', 'UtcTime', 'LocalDate', 'LocalTime', 'Source', 'EventId', 'ClusterRegion'])\n",
      "dict_keys(['MatchId', 'SequenceNumber', 'TableNo', 'ResultStatus', 'Competition', 'CompetitionCode', 'DocumentCode', 'DocumentType', 'Version', 'FeedFlag', 'LogicalDate', 'LogicalTime', 'UtcDate', 'UtcTime', 'LocalDate', 'LocalTime', 'Source', 'EventId', 'ClusterRegion'])\n",
      "dict_keys(['MatchId', 'SequenceNumber', 'TableNo', 'ResultStatus', 'Competition', 'CompetitionCode', 'DocumentCode', 'DocumentType', 'Version', 'FeedFlag', 'LogicalDate', 'LogicalTime', 'UtcDate', 'UtcTime', 'LocalDate', 'LocalTime', 'Source', 'EventId', 'ClusterRegion'])\n"
     ]
    }
   ],
   "source": [
    "for thing in details:\n",
    "    print (thing[\"MessagePayLoad\"].keys())"
   ]
  },
  {
   "cell_type": "code",
   "execution_count": null,
   "id": "85a26fdf-d5dc-4e6c-b32e-ab9b164ee034",
   "metadata": {},
   "outputs": [],
   "source": []
  }
 ],
 "metadata": {
  "kernelspec": {
   "display_name": "Python 3 (ipykernel)",
   "language": "python",
   "name": "python3"
  },
  "language_info": {
   "codemirror_mode": {
    "name": "ipython",
    "version": 3
   },
   "file_extension": ".py",
   "mimetype": "text/x-python",
   "name": "python",
   "nbconvert_exporter": "python",
   "pygments_lexer": "ipython3",
   "version": "3.13.7"
  }
 },
 "nbformat": 4,
 "nbformat_minor": 5
}

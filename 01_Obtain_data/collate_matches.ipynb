{
 "cells": [
  {
   "cell_type": "code",
   "execution_count": 172,
   "id": "4672559f-3903-4cec-bd15-016c5da479a9",
   "metadata": {},
   "outputs": [],
   "source": [
    "import os \n",
    "import json\n",
    "import glob \n",
    "import pandas as pd\n",
    "from datetime import datetime, timezone, date\n",
    "import requests\n",
    "from IPython.display import clear_output\n",
    "import random \n",
    "import time \n",
    "import numpy as np"
   ]
  },
  {
   "cell_type": "code",
   "execution_count": 173,
   "id": "57264e19-f567-42e6-b575-9c50a74ded60",
   "metadata": {},
   "outputs": [],
   "source": [
    "def determine_winner(match_json):\n",
    "    \"\"\"\n",
    "    Parses the match JSON to determine the winner ID, game scores, and a specific match status.\n",
    "    Handles both normal scores (\"4-2\") and special scores (\"3-WO\", \"0-RET\", etc.).\n",
    "    Returns a tuple: (winner_id, player_a_score, player_b_score, match_status)\n",
    "    \"\"\"\n",
    "    player_a_score, player_b_score = (None, None)\n",
    "    winner_id = None\n",
    "    match_status = \"Completed\"\n",
    "\n",
    "    try:\n",
    "        score_str = match_json.get('overallScores')\n",
    "        competitors = match_json.get('competitiors')\n",
    "\n",
    "        if not (score_str and '-' in score_str and competitors and len(competitors) >= 2):\n",
    "            return None, None, None, \"Unknown\"\n",
    "\n",
    "        player_a_id = competitors[0].get('competitiorId')\n",
    "        player_b_id = competitors[1].get('competitiorId')\n",
    "\n",
    "        try:\n",
    "            player_a_score, player_b_score = map(int, score_str.split('-'))\n",
    "            if player_a_score > player_b_score:\n",
    "                winner_id = player_a_id\n",
    "            else:\n",
    "                winner_id = player_b_id\n",
    "        except ValueError:\n",
    "            # --- THIS IS THE CORRECTED LOGIC ---\n",
    "            match_status = \"Special\" # Default if we can't find a code\n",
    "            # Find the part of the score string that is text (e.g., 'WO' from '0-3 WO')\n",
    "            for part in score_str.replace('-', ' ').split():\n",
    "                if part.isalpha():\n",
    "                    match_status = part\n",
    "                    break\n",
    "            \n",
    "            # Determine the winner based on which side of the score contains the letters\n",
    "            score_parts = score_str.split('-')\n",
    "            if any(c.isalpha() for c in score_parts[0]):\n",
    "                winner_id = player_b_id\n",
    "            elif any(c.isalpha() for c in score_parts[1]):\n",
    "                winner_id = player_a_id\n",
    "        \n",
    "        return winner_id, player_a_score, player_b_score, match_status\n",
    "    except:\n",
    "        return None, None, None, \"Error\"\n",
    "\n",
    "        \n",
    "def calculate_total_points(scores_str):\n",
    "    \"\"\"\n",
    "    Calculates the total points scored by a player from their scores string (e.g., \"11,8,7\").\n",
    "    \"\"\"\n",
    "    if not scores_str or not isinstance(scores_str, str):\n",
    "        return None\n",
    "    try:\n",
    "        return sum(int(p) for p in scores_str.split(',') if p.isdigit())\n",
    "    except:\n",
    "        return None"
   ]
  },
  {
   "cell_type": "code",
   "execution_count": 174,
   "id": "07baa5fe-3338-4634-99c2-4899b58bf1d1",
   "metadata": {},
   "outputs": [
    {
     "name": "stdout",
     "output_type": "stream",
     "text": [
      "21614 match files found\n",
      "Found latest events file: Data/Processed/Events/20251007_events.csv\n"
     ]
    }
   ],
   "source": [
    "match_files_path = \"Data/Raw/Match_details/**/*.json\"\n",
    "all_match_files = glob.glob(match_files_path, recursive=True)\n",
    "\n",
    "\n",
    "all_match_files = all_match_files\n",
    "\n",
    "total_files = len(all_match_files)\n",
    "print(f\"{total_files} match files found\")\n",
    "\n",
    "events_dir = \"Data/Processed/Events\"\n",
    "pattern = os.path.join(events_dir, \"[0-9]*_events.csv\")\n",
    "dated_files = glob.glob(pattern)\n",
    "\n",
    "if date_stamped_files:\n",
    "    latest_events_file = max(date_stamped_files)\n",
    "    print(f\"Found latest events file: {latest_events_file}\")\n",
    "else:\n",
    "    print(\"No date-stamped event files found.\")\n",
    "events_df = pd.read_csv(latest_events_file)\n",
    "event_name_map = pd.Series(events_df.EventName.values, index=events_df.EventId).to_dict()\n",
    "\n"
   ]
  },
  {
   "cell_type": "code",
   "execution_count": 175,
   "id": "5ee95a4c-7be9-4ddb-98bc-b569368d932a",
   "metadata": {},
   "outputs": [
    {
     "name": "stdout",
     "output_type": "stream",
     "text": [
      "✅ Finished! Processed 21614 files.\n",
      "Saved master_df 'Data/Processed/20251009_master_match_list.csv'\n",
      "\n",
      "Encountered 2 errors during processing.\n"
     ]
    }
   ],
   "source": [
    "UPDATE_INTERVAL = 50\n",
    "\n",
    "print(f\"--- 🟢 Commencing processing for {total_files} match files 🟢 ---\")\n",
    "\n",
    "all_matches_list = []\n",
    "failed_match_list = []\n",
    "\n",
    "for number, file_path in enumerate(all_match_files):\n",
    "    if number % UPDATE_INTERVAL == 0:\n",
    "        clear_output(wait=True)\n",
    "        print(f\"--- 🟢 Commencing processing for {total_files} match files 🟢 ---\")\n",
    "        print(f\"Processing file {number + 1}/{total_files}: {file_path}\")\n",
    "    \n",
    "    try:\n",
    "        with open(file_path, 'r', encoding='utf-8') as f:\n",
    "            match_data = json.load(f)\n",
    "\n",
    "        competitors = match_data.get('competitiors')\n",
    "        if not (competitors and isinstance(competitors, list) and len(competitors) >= 2):\n",
    "            continue\n",
    "\n",
    "       \n",
    "        winner_id, player_a_score, player_b_score, match_status = determine_winner(match_data)\n",
    "        \n",
    "        player_a_id = competitors[0].get('players', [{}])[0].get('playerId')\n",
    "        player_b_id = competitors[1].get('players', [{}])[0].get('playerId')\n",
    "        player_a_name = competitors[0].get('competitiorName')\n",
    "        player_b_name = competitors[1].get('competitiorName')\n",
    "\n",
    "        winner_name = None\n",
    "        if winner_id:\n",
    "            if winner_id == player_a_id:\n",
    "                winner_name = player_a_name\n",
    "            else:\n",
    "                winner_name = player_b_name\n",
    "        \n",
    "        event_id = match_data.get('eventId')\n",
    "\n",
    "        match_dict = {\n",
    "            'MatchID': match_data.get('documentCode'),\n",
    "            'EventID': event_id,\n",
    "            'EventName': event_name_map.get(int(event_id)) if event_id else None,\n",
    "            'MatchDate': match_data.get('matchDateTime', {}).get('startDateLocal'),\n",
    "            'BestOf': match_data.get('matchConfig', {}).get('bestOfXGames'),\n",
    "            'MatchStatus': match_status,\n",
    "            'MatchDuration': match_data.get('matchDateTime', {}).get('duration'),\n",
    "            'PlayerA_ID': player_a_id,\n",
    "            'PlayerA_Name': player_a_name,\n",
    "            'PlayerA_Country': competitors[0].get('competitiorOrg'),\n",
    "            'PlayerB_ID': player_b_id,\n",
    "            'PlayerB_Name': player_b_name,\n",
    "            'PlayerB_Country': competitors[1].get('competitiorOrg'),\n",
    "            'PlayerA_GamesWon': player_a_score,\n",
    "            'PlayerB_GamesWon': player_b_score,\n",
    "            'PlayerA_TotalPoints': calculate_total_points(competitors[0].get('scores')),\n",
    "            'PlayerB_TotalPoints': calculate_total_points(competitors[1].get('scores')),\n",
    "            'WinnerID': winner_id,\n",
    "            'WinnerName': winner_name,\n",
    "            'GameScores': match_data.get('gameScores'),\n",
    "            'RawScoreString': match_data.get('overallScores')\n",
    "        }\n",
    "        \n",
    "        all_matches_list.append(match_dict)\n",
    "\n",
    "    except Exception as e:\n",
    "        fail_dict = {\"file\": file_path, \"error\": str(e)}\n",
    "        failed_match_list.append(fail_dict)\n",
    "\n",
    "clear_output(wait=True)\n",
    "print(f\"✅ Finished! Processed {total_files} files.\")\n",
    "\n",
    "if all_matches_list:\n",
    "    today_str = datetime.now().strftime('%Y%m%d')\n",
    "   \n",
    "    output_path_csv = f\"Data/Processed/{today_str}_master_match_list.csv\" \n",
    "\n",
    "    master_df = pd.DataFrame(all_matches_list)\n",
    "   \n",
    "    master_df['MatchDate'] = pd.to_datetime(master_df['MatchDate'])    \n",
    "    master_df['MatchDate'] = master_df['MatchDate'].dt.strftime('%d/%m/%Y')\n",
    "\n",
    "    master_df.to_csv(output_path_csv, index=False)\n",
    "    \n",
    "    print(f\"Saved master_df '{output_path_csv}'\")\n",
    "    \n",
    "if failed_match_list:\n",
    "    print(f\"\\nEncountered {len(failed_match_list)} errors during processing.\")\n",
    "    pd.DataFrame(failed_match_list).to_csv('failed_files.csv', index=False)"
   ]
  },
  {
   "cell_type": "code",
   "execution_count": 177,
   "id": "3e6c8244-6476-4f22-a61a-9a3d518f42c5",
   "metadata": {},
   "outputs": [
    {
     "data": {
      "text/plain": [
       "[{'file': 'Data/Raw/Match_details/2345_match_details/2345_TTEMSINGLES-----------R128001100----------.json',\n",
       "  'error': \"'NoneType' object has no attribute 'get'\"},\n",
       " {'file': 'Data/Raw/Match_details/2603_match_details/2603_TTEMSINGLES-----------R32-000500----------.json',\n",
       "  'error': \"'NoneType' object has no attribute 'get'\"}]"
      ]
     },
     "execution_count": 177,
     "metadata": {},
     "output_type": "execute_result"
    }
   ],
   "source": [
    "failed_match_list"
   ]
  },
  {
   "cell_type": "code",
   "execution_count": 182,
   "id": "80b7a2b4-6efa-44c2-bcdc-725a015afff4",
   "metadata": {},
   "outputs": [],
   "source": [
    "file_path = failed_match_list[0].get(\"file\")\n",
    "with open(file_path, 'r', encoding='utf-8') as f:\n",
    "            match_data = json.load(f)"
   ]
  },
  {
   "cell_type": "code",
   "execution_count": 184,
   "id": "1bdc2058-435c-40bf-9687-5458fd55687f",
   "metadata": {},
   "outputs": [],
   "source": [
    "competitors = match_data.get('competitiors')"
   ]
  },
  {
   "cell_type": "code",
   "execution_count": 186,
   "id": "0e7aa96a-3b85-4bb0-97e5-c6319e628ace",
   "metadata": {},
   "outputs": [],
   "source": [
    "winner_id, player_a_score, player_b_score, match_status = determine_winner(match_data)"
   ]
  },
  {
   "cell_type": "code",
   "execution_count": 190,
   "id": "8f0c4347-b43d-43c1-badd-fe629f87d266",
   "metadata": {},
   "outputs": [
    {
     "data": {
      "text/plain": [
       "'DNS'"
      ]
     },
     "execution_count": 190,
     "metadata": {},
     "output_type": "execute_result"
    }
   ],
   "source": [
    "match_status"
   ]
  },
  {
   "cell_type": "code",
   "execution_count": null,
   "id": "e946ab33-8202-410f-a605-d1690e929ab3",
   "metadata": {},
   "outputs": [],
   "source": []
  }
 ],
 "metadata": {
  "kernelspec": {
   "display_name": "Python 3 (ipykernel)",
   "language": "python",
   "name": "python3"
  },
  "language_info": {
   "codemirror_mode": {
    "name": "ipython",
    "version": 3
   },
   "file_extension": ".py",
   "mimetype": "text/x-python",
   "name": "python",
   "nbconvert_exporter": "python",
   "pygments_lexer": "ipython3",
   "version": "3.13.7"
  }
 },
 "nbformat": 4,
 "nbformat_minor": 5
}
